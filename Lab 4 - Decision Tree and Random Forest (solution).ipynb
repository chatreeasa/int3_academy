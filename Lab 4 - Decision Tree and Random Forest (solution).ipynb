{
 "cells": [
  {
   "cell_type": "markdown",
   "id": "817a7829",
   "metadata": {},
   "source": [
    "# Import Data  \n",
    "This coding practice was designed for 3 hour completion in class.  Learners will fill the incomplete codes (None) to make them complete.  Given a project structure as follows  \n",
    "- Project  \n",
    "  - src  \n",
    "  - data  \n",
    "  - plot  \n",
    "\n",
    "Your `.ipynb` file was saved in the `src` folder and your data was saved in the `data` folder.  We learned how to import data until data preparation from the previous lab.  Let's reuse it again starting from import data."
   ]
  },
  {
   "cell_type": "code",
   "execution_count": 1,
   "id": "9cb42afa",
   "metadata": {},
   "outputs": [],
   "source": [
    "import pandas as pd\n",
    "\n",
    "df = pd.read_excel(\"../data/ENB2012_data.xlsx\", sheet_name=\"data\")"
   ]
  },
  {
   "cell_type": "markdown",
   "id": "f588c75d",
   "metadata": {},
   "source": [
    "The original data does not have a categorical label whether a building is an energy-saving or not.  We created a utility function to derive such label from heating load (hl) and cooling load (cl)."
   ]
  },
  {
   "cell_type": "code",
   "execution_count": 2,
   "id": "e0212207",
   "metadata": {},
   "outputs": [],
   "source": [
    "import numpy as np\n",
    "\n",
    "def getlabel(hl, cl, alpha=1):\n",
    "    if np.abs(hl - cl) - alpha >= 0:\n",
    "        return 1\n",
    "    else:\n",
    "        return 0"
   ]
  },
  {
   "cell_type": "markdown",
   "id": "2cdc3a4d",
   "metadata": {},
   "source": [
    "Create a target class using the `getlabel` function."
   ]
  },
  {
   "cell_type": "code",
   "execution_count": 3,
   "id": "eaa67bcb",
   "metadata": {},
   "outputs": [],
   "source": [
    "df[\"is_energy_saving\"] = df.apply(lambda x: getlabel(x[\"Y1\"], x[\"Y2\"]), axis=1)"
   ]
  },
  {
   "cell_type": "markdown",
   "id": "a26d885d",
   "metadata": {},
   "source": [
    "Although the `decision tree` can work with categorical data, implementation in `scikit-learn` does not support.  We need to create dummy variables to handle."
   ]
  },
  {
   "cell_type": "code",
   "execution_count": 4,
   "id": "bcaa72fe",
   "metadata": {},
   "outputs": [],
   "source": [
    "df[\"orientation\"] = df[\"X6\"].map({2: \"north\", 3: \"east\", 4: \"south\", 5: \"west\"})\n",
    "orientation = pd.get_dummies(df[\"orientation\"])\n",
    "df = pd.concat([df, orientation], axis=1)"
   ]
  },
  {
   "cell_type": "markdown",
   "id": "f69c347a",
   "metadata": {},
   "source": [
    "# Data Splitting  \n",
    "\n",
    "Data splitting relies on randomization processes.  To make a reproducable experiment, we will set a random seed first.  \n",
    " We will split the original data into 3 dataframes: `train` (70%), `test` (15%), `val` (15%).  For the consistent splitting, we will split the original data to remain:test at 85:15 then split the remain data to train:val at 70:15 with respect to the size of original data.  The prepare `X` and `y` from the original dataframe `df`."
   ]
  },
  {
   "cell_type": "code",
   "execution_count": 5,
   "id": "e17bfdaa",
   "metadata": {},
   "outputs": [],
   "source": [
    "from sklearn.model_selection import train_test_split\n",
    "\n",
    "seed = 433 # Set random seed\n",
    "\n",
    "remain, test = train_test_split(df, test_size=int(np.floor(0.15 * len(df.index))), \n",
    "                                stratify=df[\"is_energy_saving\"], random_state=seed)\n",
    "\n",
    "train, val = train_test_split(remain, test_size=int(np.floor(0.15 * len(df.index))), \n",
    "                              stratify=remain[\"is_energy_saving\"], random_state=seed)"
   ]
  },
  {
   "cell_type": "markdown",
   "id": "2e2bf7d9",
   "metadata": {},
   "source": [
    "Defiine your full dataset `X` and `y` from the dataframe `df`.  The `X` takes `X1`, `X2`, `X3`, `X4`, `X5`, `east`, `south`, `west`, and `X7` as features.  The target `y` is `is_energy_saving`."
   ]
  },
  {
   "cell_type": "code",
   "execution_count": 6,
   "id": "c266f470",
   "metadata": {},
   "outputs": [],
   "source": [
    "X = df.loc[:, [\"X1\", \"X2\", \"X3\", \"X4\", \"X5\", \"east\", \"south\", \"west\", \"X7\"]].values\n",
    "y = df[\"is_energy_saving\"].values.ravel()"
   ]
  },
  {
   "cell_type": "markdown",
   "id": "544fd732",
   "metadata": {},
   "source": [
    "Make sure that the class distribution in `train`, `val`, and `test` are almost the same by using visualization."
   ]
  },
  {
   "cell_type": "code",
   "execution_count": 7,
   "id": "4871e99c",
   "metadata": {},
   "outputs": [
    {
     "data": {
      "image/png": "[encoded data removed]",
      "text/plain": [
       "<Figure size 720x360 with 3 Axes>"
      ]
     },
     "metadata": {
      "needs_background": "light"
     },
     "output_type": "display_data"
    }
   ],
   "source": [
    "import matplotlib.pyplot as plt\n",
    "\n",
    "train_dist = train.groupby(\"is_energy_saving\").size().reset_index(name=\"#\")\n",
    "train_dist[\"%\"] = train_dist[\"#\"] / train_dist[\"#\"].sum()\n",
    "\n",
    "val_dist = val.groupby(\"is_energy_saving\").size().reset_index(name=\"#\")\n",
    "val_dist[\"%\"] = val_dist[\"#\"] / val_dist[\"#\"].sum()\n",
    "\n",
    "test_dist = test.groupby(\"is_energy_saving\").size().reset_index(name=\"#\")\n",
    "test_dist[\"%\"] = test_dist[\"#\"] / test_dist[\"#\"].sum()\n",
    "\n",
    "fig, ax = plt.subplots(nrows=1, ncols=3, figsize=(10, 5))\n",
    "ax[0].bar(train_dist[\"is_energy_saving\"], train_dist[\"%\"])\n",
    "ax[0].set_title(\"Train\")\n",
    "ax[1].bar(val_dist[\"is_energy_saving\"], val_dist[\"%\"])\n",
    "ax[1].set_title(\"Validation\")\n",
    "ax[2].bar(test_dist[\"is_energy_saving\"], test_dist[\"%\"])\n",
    "ax[2].set_title(\"Test\")\n",
    "plt.show()"
   ]
  },
  {
   "cell_type": "markdown",
   "id": "87055cc3",
   "metadata": {},
   "source": [
    "# Modeling  \n",
    "`RandomSearchCV` and `GridSearchCV` were applied as our model tuning strategies.  The `RandomSearchCV` was applied first to determine roughly optimal set of hyperparameters on the hyperplane.  There are several hyperparameters can be tuned.  For understanding purpose, our tutorials will tune only 2 hyperparameters: `max_depth` and `max_leaf_nodes`.  \n",
    "\n",
    "**Tips & Tricks**: You are going to conduct a machine learning experiment with more than one model.  Managing your workspace is important.  There are ways to do.  This tutorials introduce a way to use python dictionary to handle your variables in workspace.  Imagine that you have created a variable to measure precision of `model1`.  What should be a variable to store the precision of `model2`?  Perhaps using `precision1` and `precision2` could work but it is not scalable if your experiment has, for example, ten models.  Instead of doing such a way, we can use a dictionary as a name `precision` then use the key for each model name to store precision values.  The rest of coding follows such idea.  \n",
    "\n",
    "**Activity 1**: Create a hyperplane for `RandomSearchCV` of two hyperparameters: `max_depth` and `max_leaf_nodes`.  The `max_depth` will be randomly tuned between 3 to 8.  The `max_leaf_nodes` will be randomly tuned between 10 to 30.  We will use `dt` and `rf` to represent the name of `decision tree` and `random forest` respectively.  "
   ]
  },
  {
   "cell_type": "code",
   "execution_count": 8,
   "id": "cf5e93b6",
   "metadata": {},
   "outputs": [],
   "source": [
    "rd_hparams = {}\n",
    "depth = {}\n",
    "leaf = {}\n",
    "\n",
    "np.random.seed(seed)\n",
    "depth[\"dt\"] = np.random.randint(3, 8, size=5)\n",
    "\n",
    "np.random.seed(seed)\n",
    "leaf[\"dt\"] = np.random.randint(10, 30, size=5)\n",
    "\n",
    "np.random.seed(seed)\n",
    "depth[\"rf\"] = np.random.randint(3, 8, size=5)\n",
    "\n",
    "np.random.seed(seed)\n",
    "leaf[\"rf\"] = np.random.randint(10, 30, size=5)\n",
    "\n",
    "rd_hparams[\"dt\"] = dict(max_depth=depth[\"dt\"], max_leaf_nodes=leaf[\"dt\"])\n",
    "rd_hparams[\"rf\"] = dict(max_depth=depth[\"rf\"], max_leaf_nodes=leaf[\"rf\"])"
   ]
  },
  {
   "cell_type": "markdown",
   "id": "fc1d4e5d",
   "metadata": {},
   "source": [
    "Let's visualize our hyperplane and our randomization.  For comparison purpose, we use the same randomization for `decision tree` and `random forest`."
   ]
  },
  {
   "cell_type": "code",
   "execution_count": 9,
   "id": "6f161872",
   "metadata": {},
   "outputs": [
    {
     "data": {
      "image/png": "[encoded data removed]",
      "text/plain": [
       "<Figure size 720x360 with 2 Axes>"
      ]
     },
     "metadata": {
      "needs_background": "light"
     },
     "output_type": "display_data"
    }
   ],
   "source": [
    "from itertools import product\n",
    "\n",
    "combin = {}\n",
    "combin[\"dt\"] = pd.DataFrame(list(product(*(depth[\"dt\"], leaf[\"dt\"]))), columns=[\"depth\", \"leaf\"])\n",
    "combin[\"rf\"] = pd.DataFrame(list(product(*(depth[\"rf\"], leaf[\"rf\"]))), columns=[\"depth\", \"leaf\"])\n",
    "\n",
    "fig, ax = plt.subplots(nrows=1, ncols=2, figsize=(10, 5))\n",
    "ax[0].scatter(combin[\"dt\"][\"depth\"], combin[\"dt\"][\"leaf\"], color=\"blue\", s=200)\n",
    "ax[0].set_xlabel(\"Max Depth\")\n",
    "ax[0].set_ylabel(\"Max Leaf Nodes\")\n",
    "ax[0].set_title(\"RandomSearchCV (Decision Tree)\")\n",
    "\n",
    "ax[1].scatter(combin[\"rf\"][\"depth\"], combin[\"rf\"][\"leaf\"], color=\"blue\", s=200)\n",
    "ax[1].set_xlabel(\"Max Depth\")\n",
    "ax[1].set_title(\"RandomSearchCV (Random Forest)\")\n",
    "\n",
    "plt.show()"
   ]
  },
  {
   "cell_type": "markdown",
   "id": "e51224cc",
   "metadata": {},
   "source": [
    "**Activity 2**: Initialize a `decision tree` and a `random forest`.  Make them learn from `balanced` class distribution.  Ensure that the random seed has been set.  The `random forest` needs to define the number of trees (estimator).  Let's set it to 15."
   ]
  },
  {
   "cell_type": "code",
   "execution_count": 10,
   "id": "1985becc",
   "metadata": {},
   "outputs": [],
   "source": [
    "from sklearn.tree import DecisionTreeClassifier\n",
    "from sklearn.ensemble import RandomForestClassifier\n",
    "\n",
    "dt = DecisionTreeClassifier(class_weight=\"balanced\", random_state=seed)\n",
    "rf = RandomForestClassifier(n_estimators=15, class_weight=\"balanced\", random_state=seed)"
   ]
  },
  {
   "cell_type": "markdown",
   "id": "83d1a630",
   "metadata": {},
   "source": [
    "**Activity 3**: Fit models to its RandomSearchCV using the predefined hyperplane."
   ]
  },
  {
   "cell_type": "code",
   "execution_count": 11,
   "id": "fdaec210",
   "metadata": {},
   "outputs": [],
   "source": [
    "from sklearn.model_selection import RandomizedSearchCV\n",
    "\n",
    "rand_tune = {}\n",
    "rand_tune[\"dt\"] = RandomizedSearchCV(dt, \n",
    "                                     rd_hparams[\"dt\"], \n",
    "                                     random_state=seed, \n",
    "                                     cv=[(train.index, val.index)], \n",
    "                                     scoring=\"accuracy\")\n",
    "\n",
    "rand_tune[\"rf\"] = RandomizedSearchCV(rf, \n",
    "                                     rd_hparams[\"rf\"], \n",
    "                                     random_state=seed, \n",
    "                                     cv=[(train.index, val.index)], \n",
    "                                     scoring=\"accuracy\")\n",
    "\n",
    "rand_search = {}\n",
    "rand_search[\"dt\"] = rand_tune[\"dt\"].fit(X, y)\n",
    "rand_search[\"rf\"] = rand_tune[\"rf\"].fit(X, y)"
   ]
  },
  {
   "cell_type": "markdown",
   "id": "8118452d",
   "metadata": {},
   "source": [
    "Explore the best `decision tree` from RandomSearchCV."
   ]
  },
  {
   "cell_type": "code",
   "execution_count": 12,
   "id": "3e486324",
   "metadata": {},
   "outputs": [
    {
     "data": {
      "text/plain": [
       "DecisionTreeClassifier(class_weight='balanced', max_depth=7, max_leaf_nodes=18,\n",
       "                       random_state=433)"
      ]
     },
     "execution_count": 12,
     "metadata": {},
     "output_type": "execute_result"
    }
   ],
   "source": [
    "rand_search[\"dt\"].best_estimator_"
   ]
  },
  {
   "cell_type": "markdown",
   "id": "f4621fb6",
   "metadata": {},
   "source": [
    "Explore the best `random forest` from RandomSearchCV."
   ]
  },
  {
   "cell_type": "code",
   "execution_count": 13,
   "id": "394419a8",
   "metadata": {},
   "outputs": [
    {
     "data": {
      "text/plain": [
       "RandomForestClassifier(class_weight='balanced', max_depth=7, max_leaf_nodes=19,\n",
       "                       n_estimators=15, random_state=433)"
      ]
     },
     "execution_count": 13,
     "metadata": {},
     "output_type": "execute_result"
    }
   ],
   "source": [
    "rand_search[\"rf\"].best_estimator_"
   ]
  },
  {
   "cell_type": "markdown",
   "id": "d0d49367",
   "metadata": {},
   "source": [
    "**Activity 4**: Create a grid hyperplane from the best estimator obtained from RandomSearchCV.  Let's make the $7 \\times 7$ grids where the center is the hyperparameter obtained from RandomSearchCV."
   ]
  },
  {
   "cell_type": "code",
   "execution_count": 14,
   "id": "b117820a",
   "metadata": {},
   "outputs": [],
   "source": [
    "from sklearn.model_selection import GridSearchCV\n",
    "\n",
    "xgrid = {}\n",
    "xgrid[\"dt\"] = [rand_search[\"dt\"].best_estimator_.max_depth + i for i in range(-3, 4)]\n",
    "xgrid[\"rf\"] = [rand_search[\"rf\"].best_estimator_.max_depth + i for i in range(-3, 4)]\n",
    "\n",
    "ygrid = {}\n",
    "ygrid[\"dt\"] = [rand_search[\"dt\"].best_estimator_.max_leaf_nodes + i for i in range(-3, 4)]\n",
    "ygrid[\"rf\"] = [rand_search[\"rf\"].best_estimator_.max_leaf_nodes + i for i in range(-3, 4)]\n",
    "\n",
    "gd_hparams = {}\n",
    "gd_hparams[\"dt\"] = {\"max_depth\": xgrid[\"dt\"],\n",
    "                    \"max_leaf_nodes\": ygrid[\"dt\"]}\n",
    "gd_hparams[\"rf\"] = {\"max_depth\": xgrid[\"rf\"],\n",
    "                    \"max_leaf_nodes\": ygrid[\"rf\"]}"
   ]
  },
  {
   "cell_type": "markdown",
   "id": "389cdc49",
   "metadata": {},
   "source": [
    "Visualize the grid hyperplane."
   ]
  },
  {
   "cell_type": "code",
   "execution_count": 15,
   "id": "2386f136",
   "metadata": {},
   "outputs": [
    {
     "data": {
      "image/png": "[encoded data removed]",
      "text/plain": [
       "<Figure size 720x360 with 2 Axes>"
      ]
     },
     "metadata": {
      "needs_background": "light"
     },
     "output_type": "display_data"
    }
   ],
   "source": [
    "grid = {}\n",
    "grid[\"dt\"] = pd.DataFrame(list(product(*(xgrid[\"dt\"], ygrid[\"dt\"]))), columns=[\"depth\", \"leaf\"])\n",
    "grid[\"rf\"] = pd.DataFrame(list(product(*(xgrid[\"rf\"], ygrid[\"rf\"]))), columns=[\"depth\", \"leaf\"])\n",
    "\n",
    "fig, ax = plt.subplots(nrows=1, ncols=2, figsize=(10, 5))\n",
    "ax[0].scatter(combin[\"dt\"][\"depth\"], combin[\"dt\"][\"leaf\"], color=\"blue\", alpha=0.5, s=200)\n",
    "ax[0].scatter(grid[\"dt\"][\"depth\"], grid[\"dt\"][\"leaf\"], color=\"red\", alpha=0.5, s=100)\n",
    "ax[0].set_xlabel(\"Max Depth\")\n",
    "ax[0].set_ylabel(\"Max Leaf Nodes\")\n",
    "ax[0].set_title(\"GridSearchCV (Decision Tree)\")\n",
    "\n",
    "ax[1].scatter(combin[\"rf\"][\"depth\"], combin[\"rf\"][\"leaf\"], color=\"blue\", alpha=0.5, s=200)\n",
    "ax[1].scatter(grid[\"rf\"][\"depth\"], grid[\"rf\"][\"leaf\"], color=\"red\", alpha=0.5, s=100)\n",
    "ax[1].set_xlabel(\"Max Depth\")\n",
    "ax[1].set_title(\"GridSearchCV (Random Forest)\")\n",
    "\n",
    "plt.show()"
   ]
  },
  {
   "cell_type": "markdown",
   "id": "a60859c1",
   "metadata": {},
   "source": [
    "**Activity 5**: Fine-tune models to the grid hyperplane."
   ]
  },
  {
   "cell_type": "code",
   "execution_count": 16,
   "id": "fdfd1ef4",
   "metadata": {},
   "outputs": [],
   "source": [
    "from sklearn.model_selection import GridSearchCV\n",
    "\n",
    "clf = {}\n",
    "clf[\"dt\"] = DecisionTreeClassifier(class_weight=\"balanced\", random_state=seed)\n",
    "clf[\"rf\"] = RandomForestClassifier(class_weight=\"balanced\", random_state=seed)\n",
    "\n",
    "grid_tune = {}\n",
    "grid_tune[\"dt\"] = GridSearchCV(clf[\"dt\"], gd_hparams[\"dt\"], cv=[(train.index, val.index)], scoring=\"accuracy\")\n",
    "grid_tune[\"rf\"] = GridSearchCV(clf[\"rf\"], gd_hparams[\"dt\"], cv=[(train.index, val.index)], scoring=\"accuracy\")\n",
    "\n",
    "grid_search = {}\n",
    "grid_search[\"dt\"] = grid_tune[\"dt\"].fit(X, y)\n",
    "grid_search[\"rf\"] = grid_tune[\"rf\"].fit(X, y)"
   ]
  },
  {
   "cell_type": "markdown",
   "id": "6aafa040",
   "metadata": {},
   "source": [
    "Explore the best `decision tree` from GridSearchCV."
   ]
  },
  {
   "cell_type": "code",
   "execution_count": 17,
   "id": "0c2bd2ae",
   "metadata": {},
   "outputs": [
    {
     "data": {
      "text/plain": [
       "DecisionTreeClassifier(class_weight='balanced', max_depth=6, max_leaf_nodes=15,\n",
       "                       random_state=433)"
      ]
     },
     "execution_count": 17,
     "metadata": {},
     "output_type": "execute_result"
    }
   ],
   "source": [
    "grid_search[\"dt\"].best_estimator_"
   ]
  },
  {
   "cell_type": "markdown",
   "id": "64821ae9",
   "metadata": {},
   "source": [
    "Explore the best `random forest` from GridSearchCV."
   ]
  },
  {
   "cell_type": "code",
   "execution_count": 18,
   "id": "7b307cfc",
   "metadata": {},
   "outputs": [
    {
     "data": {
      "text/plain": [
       "RandomForestClassifier(class_weight='balanced', max_depth=7, max_leaf_nodes=20,\n",
       "                       random_state=433)"
      ]
     },
     "execution_count": 18,
     "metadata": {},
     "output_type": "execute_result"
    }
   ],
   "source": [
    "grid_search[\"rf\"].best_estimator_"
   ]
  },
  {
   "cell_type": "markdown",
   "id": "413f1834",
   "metadata": {},
   "source": [
    "The best hyperparameters for `decision tree` and `random forest` were shown in the `green dot`."
   ]
  },
  {
   "cell_type": "code",
   "execution_count": 19,
   "id": "f70e4454",
   "metadata": {},
   "outputs": [
    {
     "data": {
      "image/png": "[encoded data removed]",
      "text/plain": [
       "<Figure size 720x360 with 2 Axes>"
      ]
     },
     "metadata": {
      "needs_background": "light"
     },
     "output_type": "display_data"
    }
   ],
   "source": [
    "fig, ax = plt.subplots(nrows=1, ncols=2, figsize=(10, 5))\n",
    "ax[0].scatter(combin[\"dt\"][\"depth\"], combin[\"dt\"][\"leaf\"], color=\"blue\", alpha=0.5, s=200, label=\"RandSearchCV\")\n",
    "ax[0].scatter(grid[\"dt\"][\"depth\"], grid[\"dt\"][\"leaf\"], color=\"red\", alpha=0.5, s=100, label=\"GridSearchCV\")\n",
    "ax[0].scatter([grid_search[\"dt\"].best_estimator_.max_depth], [grid_search[\"dt\"].best_estimator_.max_leaf_nodes], \n",
    "              color=\"green\", s=100, label=\"Optimum Hyperparameters\")\n",
    "ax[0].set_xlabel(\"Max Depth\")\n",
    "ax[0].set_ylabel(\"Max Leaf Nodes\")\n",
    "ax[0].set_title(\"GridSearchCV (Decision Tree)\")\n",
    "\n",
    "ax[1].scatter(combin[\"rf\"][\"depth\"], combin[\"rf\"][\"leaf\"], color=\"blue\", alpha=0.5, s=200, label=\"RandSearchCV\")\n",
    "ax[1].scatter(grid[\"rf\"][\"depth\"], grid[\"rf\"][\"leaf\"], color=\"red\", alpha=0.5, s=100, label=\"GridSearchCV\")\n",
    "ax[1].scatter([grid_search[\"rf\"].best_estimator_.max_depth], [grid_search[\"rf\"].best_estimator_.max_leaf_nodes], \n",
    "              color=\"green\", s=100, label=\"Optimum Hyperparameters\")\n",
    "ax[1].set_xlabel(\"Max Depth\")\n",
    "ax[1].set_title(\"GridSearchCV (Random Forest)\")\n",
    "\n",
    "plt.legend(bbox_to_anchor=(1.5, 0.5), loc=\"center\")\n",
    "plt.show()"
   ]
  },
  {
   "cell_type": "markdown",
   "id": "87891bf9",
   "metadata": {},
   "source": [
    "# Prediction and Inference  \n",
    "\n",
    "The trained model is ready for prediction.  Use `predict_proba` to estimate prediction probability.  \n",
    "**Activity 6**: Estimate prediction probability for both models."
   ]
  },
  {
   "cell_type": "code",
   "execution_count": 20,
   "id": "971c2892",
   "metadata": {},
   "outputs": [],
   "source": [
    "probs = {}\n",
    "probs[\"dt\"] = grid_search[\"dt\"].best_estimator_.predict_proba(X[test.index])\n",
    "probs[\"rf\"] = grid_search[\"rf\"].best_estimator_.predict_proba(X[test.index])"
   ]
  },
  {
   "cell_type": "markdown",
   "id": "4625e877",
   "metadata": {},
   "source": [
    "Model calibration helps to get better inference the predicted labels by determining the cutoff probability from the `training data`.  Without calibration, the default cutoff in `scikit-learn` is set at 0.5 and can be directly inference via `predict`. Basic idea to derive the optimum cutoff is the `ROC curve` where the optimum cutoff makes the curve approch to the top left corner.  Therefore, the optimum cutoff yields the maximum difference between `TPR` (True-Positive Rate) and `FPR` (False-Positive Rate).  \n",
    "\n",
    "**Activity 7**: Use `roc_curve` to determine the optimum cutoff."
   ]
  },
  {
   "cell_type": "code",
   "execution_count": 21,
   "id": "e8a25019",
   "metadata": {},
   "outputs": [
    {
     "name": "stdout",
     "output_type": "stream",
     "text": [
      "The optimum cutoff for decision tree is 0.544\n",
      "The optimum cutoff for random forest is 0.505\n"
     ]
    }
   ],
   "source": [
    "from sklearn.metrics import roc_curve\n",
    "\n",
    "p = {}\n",
    "p[\"dt\"] = grid_search[\"dt\"].best_estimator_.predict_proba(X[train.index])\n",
    "p[\"rf\"] = grid_search[\"rf\"].best_estimator_.predict_proba(X[train.index])\n",
    "\n",
    "fpr = {}\n",
    "tpr = {}\n",
    "thresholds = {}\n",
    "fpr[\"dt\"], tpr[\"dt\"], thresholds[\"dt\"] = roc_curve(y_true=y[train.index], y_score=p[\"dt\"][:, 1], pos_label=1)\n",
    "fpr[\"rf\"], tpr[\"rf\"], thresholds[\"rf\"] = roc_curve(y_true=y[train.index], y_score=p[\"rf\"][:, 1], pos_label=1)\n",
    "\n",
    "idx = {}\n",
    "idx[\"dt\"] = np.argmax(tpr[\"dt\"] - fpr[\"dt\"])\n",
    "idx[\"rf\"] = np.argmax(tpr[\"rf\"] - fpr[\"rf\"])\n",
    "\n",
    "cutoff = {}\n",
    "cutoff[\"dt\"] = thresholds[\"dt\"][idx[\"dt\"]]\n",
    "cutoff[\"rf\"] = thresholds[\"rf\"][idx[\"rf\"]]\n",
    "\n",
    "print(\"The optimum cutoff for decision tree is {}\".format(round(cutoff[\"dt\"], 3)))\n",
    "print(\"The optimum cutoff for random forest is {}\".format(round(cutoff[\"rf\"], 3)))"
   ]
  },
  {
   "cell_type": "markdown",
   "id": "da8d8b29",
   "metadata": {},
   "source": [
    "**Activity 8**: Make label prediction from the cutoff."
   ]
  },
  {
   "cell_type": "code",
   "execution_count": 22,
   "id": "8bd7b63c",
   "metadata": {},
   "outputs": [],
   "source": [
    "yhat = {}\n",
    "yhat[\"dt\"] = (probs[\"dt\"][:, 1] >= cutoff[\"dt\"]).astype(int)\n",
    "yhat[\"rf\"] = (probs[\"rf\"][:, 1] >= cutoff[\"rf\"]).astype(int)"
   ]
  },
  {
   "cell_type": "markdown",
   "id": "533b3b27",
   "metadata": {},
   "source": [
    "# Evaluation  \n",
    "\n",
    "Model performance evaluation starts from deriving a confusion matrix.  Performance metrics such as `precision`, `recall`, `F1`, and `accuracy` can be obtained from the confusion matrix. \n",
    "\n",
    "**Activity 9**: Get the confusion matrix."
   ]
  },
  {
   "cell_type": "code",
   "execution_count": 23,
   "id": "879abe73",
   "metadata": {},
   "outputs": [
    {
     "name": "stdout",
     "output_type": "stream",
     "text": [
      "{'dt\"': array([[20,  2],\n",
      "       [21, 72]], dtype=int64), 'rf\"': array([[20,  2],\n",
      "       [19, 74]], dtype=int64)}\n"
     ]
    }
   ],
   "source": [
    "from sklearn.metrics import confusion_matrix\n",
    "\n",
    "cmat = {}\n",
    "cmat['dt\"'] = confusion_matrix(y[test.index], yhat[\"dt\"])\n",
    "cmat['rf\"'] = confusion_matrix(y[test.index], yhat[\"rf\"])\n",
    "\n",
    "print(cmat)"
   ]
  },
  {
   "cell_type": "markdown",
   "id": "e83c0d3a",
   "metadata": {},
   "source": [
    "For binary classification, each count is located as follows.  \n",
    "- `TP`: cmat[1, 1]  \n",
    "- `TN`: cmat[0, 0]  \n",
    "- `FP`: cmat[0, 1]  \n",
    "- `FN`: cmat[1, 0]"
   ]
  },
  {
   "cell_type": "markdown",
   "id": "68123437",
   "metadata": {},
   "source": [
    "**Activity 10**: Measure `precision`, `recall`, `F1`, and `accuracy`."
   ]
  },
  {
   "cell_type": "code",
   "execution_count": 24,
   "id": "08c2bd14",
   "metadata": {},
   "outputs": [
    {
     "name": "stdout",
     "output_type": "stream",
     "text": [
      "Model performance (dt, rf) are the following.\n",
      "Precision are (0.973, 0.974)\n",
      "Recall are (0.774, 0.796)\n",
      "Accuracy are (0.8, 0.817)\n",
      "F1 are (0.862, 0.876)\n"
     ]
    }
   ],
   "source": [
    "from sklearn.metrics import precision_score, recall_score, accuracy_score, f1_score\n",
    "\n",
    "precision = {}\n",
    "precision[\"dt\"] = precision_score(y[test.index], yhat[\"dt\"])\n",
    "precision[\"rf\"] = precision_score(y[test.index], yhat[\"rf\"])\n",
    "\n",
    "recall = {}\n",
    "recall[\"dt\"] = recall_score(y[test.index], yhat[\"dt\"])\n",
    "recall[\"rf\"] = recall_score(y[test.index], yhat[\"rf\"])\n",
    "\n",
    "accuracy = {}\n",
    "accuracy[\"dt\"] = accuracy_score(y[test.index], yhat[\"dt\"])\n",
    "accuracy[\"rf\"] = accuracy_score(y[test.index], yhat[\"rf\"])\n",
    "\n",
    "f1 = {}\n",
    "f1[\"dt\"] = f1_score(y[test.index], yhat[\"dt\"])\n",
    "f1[\"rf\"] = f1_score(y[test.index], yhat[\"rf\"])\n",
    "\n",
    "print(\"Model performance (dt, rf) are the following.\")\n",
    "print(\"Precision are ({}, {})\".format(round(precision[\"dt\"], 3), round(precision[\"rf\"], 3)))\n",
    "print(\"Recall are ({}, {})\".format(round(recall[\"dt\"], 3), round(recall[\"rf\"], 3)))\n",
    "print(\"Accuracy are ({}, {})\".format(round(accuracy[\"dt\"], 3), round(accuracy[\"rf\"], 3)))\n",
    "print(\"F1 are ({}, {})\".format(round(f1[\"dt\"], 3), round(f1[\"rf\"], 3)))"
   ]
  },
  {
   "cell_type": "markdown",
   "id": "766a27cc",
   "metadata": {},
   "source": [
    "Our results follow the theory that `random forest` is better than `decision tree` at the same settings."
   ]
  },
  {
   "cell_type": "markdown",
   "id": "489f3c29",
   "metadata": {},
   "source": [
    "Explore the model behavior in `ROC Curve`."
   ]
  },
  {
   "cell_type": "code",
   "execution_count": 25,
   "id": "f881c396",
   "metadata": {},
   "outputs": [
    {
     "data": {
      "image/png": "[encoded data removed]",
      "text/plain": [
       "<Figure size 500x500 with 1 Axes>"
      ]
     },
     "metadata": {},
     "output_type": "display_data"
    }
   ],
   "source": [
    "from sklearn.metrics import roc_auc_score\n",
    "\n",
    "aucroc = {}\n",
    "aucroc[\"dt\"] = roc_auc_score(y_true=y[test.index], y_score=probs[\"dt\"][:, 1])\n",
    "aucroc[\"rf\"] = roc_auc_score(y_true=y[test.index], y_score=probs[\"rf\"][:, 1])\n",
    "\n",
    "plt.style.use(\"default\")\n",
    "plt.figure(figsize=(5, 5))\n",
    "plt.plot(fpr[\"dt\"], tpr[\"dt\"], color=\"blue\", linewidth=1, label=\"AUCROC (DT): {}\".format(round(aucroc[\"rf\"], 3)))\n",
    "plt.plot(fpr[\"rf\"], tpr[\"rf\"], color=\"red\", linewidth=1, label=\"AUCROC (RF): {}\".format(round(aucroc[\"rf\"], 3)))\n",
    "plt.plot([0, 1], [0, 1], color=\"gray\", linewidth=0.5)\n",
    "plt.xlim(0, 1)\n",
    "plt.ylim(0, 1)\n",
    "plt.xlabel(\"False=Positive Rate\")\n",
    "plt.ylabel(\"True-Positive Rate\")\n",
    "plt.title(\"ROC Curve\")\n",
    "plt.legend(loc=\"best\")\n",
    "plt.fill_between(fpr[\"dt\"], tpr[\"dt\"], color=\"blue\", alpha=0.2)\n",
    "plt.fill_between(fpr[\"rf\"], tpr[\"rf\"], color=\"red\", alpha=0.2)\n",
    "plt.savefig(\"../plot/roc_dt_and_rf.svg\", format=\"svg\")"
   ]
  },
  {
   "cell_type": "code",
   "execution_count": 27,
   "id": "03429197",
   "metadata": {},
   "outputs": [],
   "source": [
    "samples = {}\n",
    "samples[\"dt\"] = test.copy()\n",
    "samples[\"dt\"][\"P(y|X)\"] = probs[\"dt\"][:, 1]\n",
    "samples[\"dt\"][\"yhat\"] = yhat[\"dt\"]\n",
    "\n",
    "samples[\"rf\"] = test.copy()\n",
    "samples[\"rf\"][\"P(y|X)\"] = probs[\"rf\"][:, 1]\n",
    "samples[\"rf\"][\"yhat\"] = yhat[\"rf\"]"
   ]
  },
  {
   "cell_type": "code",
   "execution_count": 30,
   "id": "e61e3eef",
   "metadata": {},
   "outputs": [
    {
     "data": {
      "text/html": [
       "<div>\n",
       "<style scoped>\n",
       "    .dataframe tbody tr th:only-of-type {\n",
       "        vertical-align: middle;\n",
       "    }\n",
       "\n",
       "    .dataframe tbody tr th {\n",
       "        vertical-align: top;\n",
       "    }\n",
       "\n",
       "    .dataframe thead th {\n",
       "        text-align: right;\n",
       "    }\n",
       "</style>\n",
       "<table border=\"1\" class=\"dataframe\">\n",
       "  <thead>\n",
       "    <tr style=\"text-align: right;\">\n",
       "      <th></th>\n",
       "      <th>X1</th>\n",
       "      <th>X2</th>\n",
       "      <th>X3</th>\n",
       "      <th>X4</th>\n",
       "      <th>X5</th>\n",
       "      <th>X6</th>\n",
       "      <th>X7</th>\n",
       "      <th>X8</th>\n",
       "      <th>Y1</th>\n",
       "      <th>Y2</th>\n",
       "      <th>is_energy_saving</th>\n",
       "      <th>orientation</th>\n",
       "      <th>east</th>\n",
       "      <th>north</th>\n",
       "      <th>south</th>\n",
       "      <th>west</th>\n",
       "      <th>P(y|X)</th>\n",
       "      <th>yhat</th>\n",
       "    </tr>\n",
       "  </thead>\n",
       "  <tbody>\n",
       "    <tr>\n",
       "      <th>510</th>\n",
       "      <td>0.71</td>\n",
       "      <td>710.5</td>\n",
       "      <td>269.5</td>\n",
       "      <td>220.5</td>\n",
       "      <td>3.5</td>\n",
       "      <td>4</td>\n",
       "      <td>0.25</td>\n",
       "      <td>5</td>\n",
       "      <td>12.25</td>\n",
       "      <td>15.23</td>\n",
       "      <td>1</td>\n",
       "      <td>south</td>\n",
       "      <td>0</td>\n",
       "      <td>0</td>\n",
       "      <td>1</td>\n",
       "      <td>0</td>\n",
       "      <td>0.989181</td>\n",
       "      <td>1</td>\n",
       "    </tr>\n",
       "    <tr>\n",
       "      <th>112</th>\n",
       "      <td>0.79</td>\n",
       "      <td>637.0</td>\n",
       "      <td>343.0</td>\n",
       "      <td>147.0</td>\n",
       "      <td>7.0</td>\n",
       "      <td>2</td>\n",
       "      <td>0.10</td>\n",
       "      <td>2</td>\n",
       "      <td>35.65</td>\n",
       "      <td>41.07</td>\n",
       "      <td>1</td>\n",
       "      <td>north</td>\n",
       "      <td>0</td>\n",
       "      <td>1</td>\n",
       "      <td>0</td>\n",
       "      <td>0</td>\n",
       "      <td>0.989181</td>\n",
       "      <td>1</td>\n",
       "    </tr>\n",
       "    <tr>\n",
       "      <th>346</th>\n",
       "      <td>0.86</td>\n",
       "      <td>588.0</td>\n",
       "      <td>294.0</td>\n",
       "      <td>147.0</td>\n",
       "      <td>7.0</td>\n",
       "      <td>4</td>\n",
       "      <td>0.25</td>\n",
       "      <td>2</td>\n",
       "      <td>29.27</td>\n",
       "      <td>29.90</td>\n",
       "      <td>0</td>\n",
       "      <td>south</td>\n",
       "      <td>0</td>\n",
       "      <td>0</td>\n",
       "      <td>1</td>\n",
       "      <td>0</td>\n",
       "      <td>0.291944</td>\n",
       "      <td>0</td>\n",
       "    </tr>\n",
       "    <tr>\n",
       "      <th>89</th>\n",
       "      <td>0.64</td>\n",
       "      <td>784.0</td>\n",
       "      <td>343.0</td>\n",
       "      <td>220.5</td>\n",
       "      <td>3.5</td>\n",
       "      <td>3</td>\n",
       "      <td>0.10</td>\n",
       "      <td>1</td>\n",
       "      <td>15.20</td>\n",
       "      <td>19.43</td>\n",
       "      <td>1</td>\n",
       "      <td>east</td>\n",
       "      <td>1</td>\n",
       "      <td>0</td>\n",
       "      <td>0</td>\n",
       "      <td>0</td>\n",
       "      <td>0.989181</td>\n",
       "      <td>1</td>\n",
       "    </tr>\n",
       "    <tr>\n",
       "      <th>229</th>\n",
       "      <td>0.66</td>\n",
       "      <td>759.5</td>\n",
       "      <td>318.5</td>\n",
       "      <td>220.5</td>\n",
       "      <td>3.5</td>\n",
       "      <td>3</td>\n",
       "      <td>0.10</td>\n",
       "      <td>4</td>\n",
       "      <td>11.42</td>\n",
       "      <td>14.67</td>\n",
       "      <td>1</td>\n",
       "      <td>east</td>\n",
       "      <td>1</td>\n",
       "      <td>0</td>\n",
       "      <td>0</td>\n",
       "      <td>0</td>\n",
       "      <td>0.989181</td>\n",
       "      <td>1</td>\n",
       "    </tr>\n",
       "  </tbody>\n",
       "</table>\n",
       "</div>"
      ],
      "text/plain": [
       "       X1     X2     X3     X4   X5  X6    X7  X8     Y1     Y2  \\\n",
       "510  0.71  710.5  269.5  220.5  3.5   4  0.25   5  12.25  15.23   \n",
       "112  0.79  637.0  343.0  147.0  7.0   2  0.10   2  35.65  41.07   \n",
       "346  0.86  588.0  294.0  147.0  7.0   4  0.25   2  29.27  29.90   \n",
       "89   0.64  784.0  343.0  220.5  3.5   3  0.10   1  15.20  19.43   \n",
       "229  0.66  759.5  318.5  220.5  3.5   3  0.10   4  11.42  14.67   \n",
       "\n",
       "     is_energy_saving orientation  east  north  south  west    P(y|X)  yhat  \n",
       "510                 1       south     0      0      1     0  0.989181     1  \n",
       "112                 1       north     0      1      0     0  0.989181     1  \n",
       "346                 0       south     0      0      1     0  0.291944     0  \n",
       "89                  1        east     1      0      0     0  0.989181     1  \n",
       "229                 1        east     1      0      0     0  0.989181     1  "
      ]
     },
     "execution_count": 30,
     "metadata": {},
     "output_type": "execute_result"
    }
   ],
   "source": [
    "samples[\"dt\"].head()"
   ]
  },
  {
   "cell_type": "code",
   "execution_count": 31,
   "id": "fd5e5e50",
   "metadata": {},
   "outputs": [
    {
     "data": {
      "text/html": [
       "<div>\n",
       "<style scoped>\n",
       "    .dataframe tbody tr th:only-of-type {\n",
       "        vertical-align: middle;\n",
       "    }\n",
       "\n",
       "    .dataframe tbody tr th {\n",
       "        vertical-align: top;\n",
       "    }\n",
       "\n",
       "    .dataframe thead th {\n",
       "        text-align: right;\n",
       "    }\n",
       "</style>\n",
       "<table border=\"1\" class=\"dataframe\">\n",
       "  <thead>\n",
       "    <tr style=\"text-align: right;\">\n",
       "      <th></th>\n",
       "      <th>X1</th>\n",
       "      <th>X2</th>\n",
       "      <th>X3</th>\n",
       "      <th>X4</th>\n",
       "      <th>X5</th>\n",
       "      <th>X6</th>\n",
       "      <th>X7</th>\n",
       "      <th>X8</th>\n",
       "      <th>Y1</th>\n",
       "      <th>Y2</th>\n",
       "      <th>is_energy_saving</th>\n",
       "      <th>orientation</th>\n",
       "      <th>east</th>\n",
       "      <th>north</th>\n",
       "      <th>south</th>\n",
       "      <th>west</th>\n",
       "      <th>P(y|X)</th>\n",
       "      <th>yhat</th>\n",
       "    </tr>\n",
       "  </thead>\n",
       "  <tbody>\n",
       "    <tr>\n",
       "      <th>510</th>\n",
       "      <td>0.71</td>\n",
       "      <td>710.5</td>\n",
       "      <td>269.5</td>\n",
       "      <td>220.5</td>\n",
       "      <td>3.5</td>\n",
       "      <td>4</td>\n",
       "      <td>0.25</td>\n",
       "      <td>5</td>\n",
       "      <td>12.25</td>\n",
       "      <td>15.23</td>\n",
       "      <td>1</td>\n",
       "      <td>south</td>\n",
       "      <td>0</td>\n",
       "      <td>0</td>\n",
       "      <td>1</td>\n",
       "      <td>0</td>\n",
       "      <td>0.985493</td>\n",
       "      <td>1</td>\n",
       "    </tr>\n",
       "    <tr>\n",
       "      <th>112</th>\n",
       "      <td>0.79</td>\n",
       "      <td>637.0</td>\n",
       "      <td>343.0</td>\n",
       "      <td>147.0</td>\n",
       "      <td>7.0</td>\n",
       "      <td>2</td>\n",
       "      <td>0.10</td>\n",
       "      <td>2</td>\n",
       "      <td>35.65</td>\n",
       "      <td>41.07</td>\n",
       "      <td>1</td>\n",
       "      <td>north</td>\n",
       "      <td>0</td>\n",
       "      <td>1</td>\n",
       "      <td>0</td>\n",
       "      <td>0</td>\n",
       "      <td>0.978018</td>\n",
       "      <td>1</td>\n",
       "    </tr>\n",
       "    <tr>\n",
       "      <th>346</th>\n",
       "      <td>0.86</td>\n",
       "      <td>588.0</td>\n",
       "      <td>294.0</td>\n",
       "      <td>147.0</td>\n",
       "      <td>7.0</td>\n",
       "      <td>4</td>\n",
       "      <td>0.25</td>\n",
       "      <td>2</td>\n",
       "      <td>29.27</td>\n",
       "      <td>29.90</td>\n",
       "      <td>0</td>\n",
       "      <td>south</td>\n",
       "      <td>0</td>\n",
       "      <td>0</td>\n",
       "      <td>1</td>\n",
       "      <td>0</td>\n",
       "      <td>0.383596</td>\n",
       "      <td>0</td>\n",
       "    </tr>\n",
       "    <tr>\n",
       "      <th>89</th>\n",
       "      <td>0.64</td>\n",
       "      <td>784.0</td>\n",
       "      <td>343.0</td>\n",
       "      <td>220.5</td>\n",
       "      <td>3.5</td>\n",
       "      <td>3</td>\n",
       "      <td>0.10</td>\n",
       "      <td>1</td>\n",
       "      <td>15.20</td>\n",
       "      <td>19.43</td>\n",
       "      <td>1</td>\n",
       "      <td>east</td>\n",
       "      <td>1</td>\n",
       "      <td>0</td>\n",
       "      <td>0</td>\n",
       "      <td>0</td>\n",
       "      <td>0.993064</td>\n",
       "      <td>1</td>\n",
       "    </tr>\n",
       "    <tr>\n",
       "      <th>229</th>\n",
       "      <td>0.66</td>\n",
       "      <td>759.5</td>\n",
       "      <td>318.5</td>\n",
       "      <td>220.5</td>\n",
       "      <td>3.5</td>\n",
       "      <td>3</td>\n",
       "      <td>0.10</td>\n",
       "      <td>4</td>\n",
       "      <td>11.42</td>\n",
       "      <td>14.67</td>\n",
       "      <td>1</td>\n",
       "      <td>east</td>\n",
       "      <td>1</td>\n",
       "      <td>0</td>\n",
       "      <td>0</td>\n",
       "      <td>0</td>\n",
       "      <td>0.992910</td>\n",
       "      <td>1</td>\n",
       "    </tr>\n",
       "  </tbody>\n",
       "</table>\n",
       "</div>"
      ],
      "text/plain": [
       "       X1     X2     X3     X4   X5  X6    X7  X8     Y1     Y2  \\\n",
       "510  0.71  710.5  269.5  220.5  3.5   4  0.25   5  12.25  15.23   \n",
       "112  0.79  637.0  343.0  147.0  7.0   2  0.10   2  35.65  41.07   \n",
       "346  0.86  588.0  294.0  147.0  7.0   4  0.25   2  29.27  29.90   \n",
       "89   0.64  784.0  343.0  220.5  3.5   3  0.10   1  15.20  19.43   \n",
       "229  0.66  759.5  318.5  220.5  3.5   3  0.10   4  11.42  14.67   \n",
       "\n",
       "     is_energy_saving orientation  east  north  south  west    P(y|X)  yhat  \n",
       "510                 1       south     0      0      1     0  0.985493     1  \n",
       "112                 1       north     0      1      0     0  0.978018     1  \n",
       "346                 0       south     0      0      1     0  0.383596     0  \n",
       "89                  1        east     1      0      0     0  0.993064     1  \n",
       "229                 1        east     1      0      0     0  0.992910     1  "
      ]
     },
     "execution_count": 31,
     "metadata": {},
     "output_type": "execute_result"
    }
   ],
   "source": [
    "samples[\"rf\"].head()"
   ]
  },
  {
   "cell_type": "code",
   "execution_count": 32,
   "id": "195f6d24",
   "metadata": {},
   "outputs": [],
   "source": [
    "fp = {}\n",
    "fp[\"dt\"] = samples[\"dt\"][(samples[\"dt\"][\"is_energy_saving\"] == 0) & (samples[\"dt\"][\"yhat\"] == 1)]\n",
    "fp[\"rf\"] = samples[\"rf\"][(samples[\"rf\"][\"is_energy_saving\"] == 0) & (samples[\"rf\"][\"yhat\"] == 1)]"
   ]
  },
  {
   "cell_type": "code",
   "execution_count": 33,
   "id": "6dd9338f",
   "metadata": {},
   "outputs": [
    {
     "data": {
      "text/html": [
       "<div>\n",
       "<style scoped>\n",
       "    .dataframe tbody tr th:only-of-type {\n",
       "        vertical-align: middle;\n",
       "    }\n",
       "\n",
       "    .dataframe tbody tr th {\n",
       "        vertical-align: top;\n",
       "    }\n",
       "\n",
       "    .dataframe thead th {\n",
       "        text-align: right;\n",
       "    }\n",
       "</style>\n",
       "<table border=\"1\" class=\"dataframe\">\n",
       "  <thead>\n",
       "    <tr style=\"text-align: right;\">\n",
       "      <th></th>\n",
       "      <th>X1</th>\n",
       "      <th>X2</th>\n",
       "      <th>X3</th>\n",
       "      <th>X4</th>\n",
       "      <th>X5</th>\n",
       "      <th>X6</th>\n",
       "      <th>X7</th>\n",
       "      <th>X8</th>\n",
       "      <th>Y1</th>\n",
       "      <th>Y2</th>\n",
       "      <th>is_energy_saving</th>\n",
       "      <th>orientation</th>\n",
       "      <th>east</th>\n",
       "      <th>north</th>\n",
       "      <th>south</th>\n",
       "      <th>west</th>\n",
       "      <th>P(y|X)</th>\n",
       "      <th>yhat</th>\n",
       "    </tr>\n",
       "  </thead>\n",
       "  <tbody>\n",
       "    <tr>\n",
       "      <th>155</th>\n",
       "      <td>0.86</td>\n",
       "      <td>588.0</td>\n",
       "      <td>294.0</td>\n",
       "      <td>147.0</td>\n",
       "      <td>7.0</td>\n",
       "      <td>5</td>\n",
       "      <td>0.1</td>\n",
       "      <td>3</td>\n",
       "      <td>26.46</td>\n",
       "      <td>27.40</td>\n",
       "      <td>0</td>\n",
       "      <td>west</td>\n",
       "      <td>0</td>\n",
       "      <td>0</td>\n",
       "      <td>0</td>\n",
       "      <td>1</td>\n",
       "      <td>0.544118</td>\n",
       "      <td>1</td>\n",
       "    </tr>\n",
       "    <tr>\n",
       "      <th>249</th>\n",
       "      <td>0.86</td>\n",
       "      <td>588.0</td>\n",
       "      <td>294.0</td>\n",
       "      <td>147.0</td>\n",
       "      <td>7.0</td>\n",
       "      <td>3</td>\n",
       "      <td>0.1</td>\n",
       "      <td>5</td>\n",
       "      <td>26.45</td>\n",
       "      <td>27.33</td>\n",
       "      <td>0</td>\n",
       "      <td>east</td>\n",
       "      <td>1</td>\n",
       "      <td>0</td>\n",
       "      <td>0</td>\n",
       "      <td>0</td>\n",
       "      <td>0.608091</td>\n",
       "      <td>1</td>\n",
       "    </tr>\n",
       "  </tbody>\n",
       "</table>\n",
       "</div>"
      ],
      "text/plain": [
       "       X1     X2     X3     X4   X5  X6   X7  X8     Y1     Y2  \\\n",
       "155  0.86  588.0  294.0  147.0  7.0   5  0.1   3  26.46  27.40   \n",
       "249  0.86  588.0  294.0  147.0  7.0   3  0.1   5  26.45  27.33   \n",
       "\n",
       "     is_energy_saving orientation  east  north  south  west    P(y|X)  yhat  \n",
       "155                 0        west     0      0      0     1  0.544118     1  \n",
       "249                 0        east     1      0      0     0  0.608091     1  "
      ]
     },
     "execution_count": 33,
     "metadata": {},
     "output_type": "execute_result"
    }
   ],
   "source": [
    "fp[\"dt\"].head()"
   ]
  },
  {
   "cell_type": "code",
   "execution_count": 34,
   "id": "51d520ca",
   "metadata": {},
   "outputs": [
    {
     "data": {
      "text/html": [
       "<div>\n",
       "<style scoped>\n",
       "    .dataframe tbody tr th:only-of-type {\n",
       "        vertical-align: middle;\n",
       "    }\n",
       "\n",
       "    .dataframe tbody tr th {\n",
       "        vertical-align: top;\n",
       "    }\n",
       "\n",
       "    .dataframe thead th {\n",
       "        text-align: right;\n",
       "    }\n",
       "</style>\n",
       "<table border=\"1\" class=\"dataframe\">\n",
       "  <thead>\n",
       "    <tr style=\"text-align: right;\">\n",
       "      <th></th>\n",
       "      <th>X1</th>\n",
       "      <th>X2</th>\n",
       "      <th>X3</th>\n",
       "      <th>X4</th>\n",
       "      <th>X5</th>\n",
       "      <th>X6</th>\n",
       "      <th>X7</th>\n",
       "      <th>X8</th>\n",
       "      <th>Y1</th>\n",
       "      <th>Y2</th>\n",
       "      <th>is_energy_saving</th>\n",
       "      <th>orientation</th>\n",
       "      <th>east</th>\n",
       "      <th>north</th>\n",
       "      <th>south</th>\n",
       "      <th>west</th>\n",
       "      <th>P(y|X)</th>\n",
       "      <th>yhat</th>\n",
       "    </tr>\n",
       "  </thead>\n",
       "  <tbody>\n",
       "    <tr>\n",
       "      <th>155</th>\n",
       "      <td>0.86</td>\n",
       "      <td>588.0</td>\n",
       "      <td>294.0</td>\n",
       "      <td>147.0</td>\n",
       "      <td>7.0</td>\n",
       "      <td>5</td>\n",
       "      <td>0.1</td>\n",
       "      <td>3</td>\n",
       "      <td>26.46</td>\n",
       "      <td>27.40</td>\n",
       "      <td>0</td>\n",
       "      <td>west</td>\n",
       "      <td>0</td>\n",
       "      <td>0</td>\n",
       "      <td>0</td>\n",
       "      <td>1</td>\n",
       "      <td>0.558838</td>\n",
       "      <td>1</td>\n",
       "    </tr>\n",
       "    <tr>\n",
       "      <th>249</th>\n",
       "      <td>0.86</td>\n",
       "      <td>588.0</td>\n",
       "      <td>294.0</td>\n",
       "      <td>147.0</td>\n",
       "      <td>7.0</td>\n",
       "      <td>3</td>\n",
       "      <td>0.1</td>\n",
       "      <td>5</td>\n",
       "      <td>26.45</td>\n",
       "      <td>27.33</td>\n",
       "      <td>0</td>\n",
       "      <td>east</td>\n",
       "      <td>1</td>\n",
       "      <td>0</td>\n",
       "      <td>0</td>\n",
       "      <td>0</td>\n",
       "      <td>0.506388</td>\n",
       "      <td>1</td>\n",
       "    </tr>\n",
       "  </tbody>\n",
       "</table>\n",
       "</div>"
      ],
      "text/plain": [
       "       X1     X2     X3     X4   X5  X6   X7  X8     Y1     Y2  \\\n",
       "155  0.86  588.0  294.0  147.0  7.0   5  0.1   3  26.46  27.40   \n",
       "249  0.86  588.0  294.0  147.0  7.0   3  0.1   5  26.45  27.33   \n",
       "\n",
       "     is_energy_saving orientation  east  north  south  west    P(y|X)  yhat  \n",
       "155                 0        west     0      0      0     1  0.558838     1  \n",
       "249                 0        east     1      0      0     0  0.506388     1  "
      ]
     },
     "execution_count": 34,
     "metadata": {},
     "output_type": "execute_result"
    }
   ],
   "source": [
    "fp[\"rf\"].head()"
   ]
  },
  {
   "cell_type": "code",
   "execution_count": 35,
   "id": "32577803",
   "metadata": {},
   "outputs": [
    {
     "data": {
      "text/plain": [
       "count    115.000000\n",
       "mean       0.777565\n",
       "std        0.118474\n",
       "min        0.620000\n",
       "25%        0.690000\n",
       "50%        0.740000\n",
       "75%        0.860000\n",
       "max        0.980000\n",
       "Name: X1, dtype: float64"
      ]
     },
     "execution_count": 35,
     "metadata": {},
     "output_type": "execute_result"
    }
   ],
   "source": [
    "volume_to_surface_ratio = samples[\"dt\"][\"X1\"].describe()\n",
    "volume_to_surface_ratio"
   ]
  },
  {
   "cell_type": "code",
   "execution_count": 36,
   "id": "0946557b",
   "metadata": {},
   "outputs": [
    {
     "data": {
      "text/plain": [
       "count    115.000000\n",
       "mean     662.991304\n",
       "std       96.007218\n",
       "min      514.500000\n",
       "25%      588.000000\n",
       "50%      686.000000\n",
       "75%      735.000000\n",
       "max      808.500000\n",
       "Name: X2, dtype: float64"
      ]
     },
     "execution_count": 36,
     "metadata": {},
     "output_type": "execute_result"
    }
   ],
   "source": [
    "surface_area = samples[\"dt\"][\"X2\"].describe()\n",
    "surface_area"
   ]
  },
  {
   "cell_type": "code",
   "execution_count": 37,
   "id": "9649f425",
   "metadata": {},
   "outputs": [
    {
     "data": {
      "text/plain": [
       "count    115.000000\n",
       "mean     313.173913\n",
       "std       45.173741\n",
       "min      245.000000\n",
       "25%      294.000000\n",
       "50%      294.000000\n",
       "75%      343.000000\n",
       "max      416.500000\n",
       "Name: X3, dtype: float64"
      ]
     },
     "execution_count": 37,
     "metadata": {},
     "output_type": "execute_result"
    }
   ],
   "source": [
    "wall_area = samples[\"dt\"][\"X3\"].describe()\n",
    "wall_area"
   ]
  },
  {
   "cell_type": "code",
   "execution_count": 38,
   "id": "0e284bfb",
   "metadata": {},
   "outputs": [
    {
     "data": {
      "text/plain": [
       "count    115.000000\n",
       "mean     174.908696\n",
       "std       47.542379\n",
       "min      110.250000\n",
       "25%      122.500000\n",
       "50%      220.500000\n",
       "75%      220.500000\n",
       "max      220.500000\n",
       "Name: X4, dtype: float64"
      ]
     },
     "execution_count": 38,
     "metadata": {},
     "output_type": "execute_result"
    }
   ],
   "source": [
    "roof_area = samples[\"dt\"][\"X4\"].describe()\n",
    "roof_area"
   ]
  },
  {
   "cell_type": "code",
   "execution_count": 39,
   "id": "88257d58",
   "metadata": {},
   "outputs": [
    {
     "data": {
      "text/plain": [
       "count    115.000000\n",
       "mean       5.234783\n",
       "std        1.757592\n",
       "min        3.500000\n",
       "25%        3.500000\n",
       "50%        3.500000\n",
       "75%        7.000000\n",
       "max        7.000000\n",
       "Name: X5, dtype: float64"
      ]
     },
     "execution_count": 39,
     "metadata": {},
     "output_type": "execute_result"
    }
   ],
   "source": [
    "overall_height = samples[\"dt\"][\"X5\"].describe()\n",
    "overall_height"
   ]
  },
  {
   "cell_type": "code",
   "execution_count": 40,
   "id": "fd6435bb",
   "metadata": {},
   "outputs": [
    {
     "data": {
      "text/plain": [
       "count       115\n",
       "unique        4\n",
       "top       north\n",
       "freq         31\n",
       "Name: orientation, dtype: object"
      ]
     },
     "execution_count": 40,
     "metadata": {},
     "output_type": "execute_result"
    }
   ],
   "source": [
    "orientation = samples[\"dt\"][\"orientation\"].describe()\n",
    "orientation"
   ]
  },
  {
   "cell_type": "code",
   "execution_count": 41,
   "id": "febd7061",
   "metadata": {},
   "outputs": [
    {
     "data": {
      "text/plain": [
       "count    115.000000\n",
       "mean       0.222609\n",
       "std        0.134138\n",
       "min        0.000000\n",
       "25%        0.100000\n",
       "50%        0.250000\n",
       "75%        0.400000\n",
       "max        0.400000\n",
       "Name: X7, dtype: float64"
      ]
     },
     "execution_count": 41,
     "metadata": {},
     "output_type": "execute_result"
    }
   ],
   "source": [
    "glazing_area = samples[\"dt\"][\"X7\"].describe()\n",
    "glazing_area"
   ]
  },
  {
   "cell_type": "markdown",
   "id": "cf59ed8a",
   "metadata": {},
   "source": [
    "The overall building characteristics seems to be hard for heat transferred.  The harder heat transferred the less energy consumption to maintain temperature inside the building.  However, such buildings seems to be very large indicated to volume and overall height.  These characteristics could confuse our model to make non-energy saving building as an energy saving building.  \n",
    "\n",
    "Since the False-Positive sampels from `Random Forest` are the same as `Decision Tree`, its analysis of errors follows the same as above."
   ]
  },
  {
   "cell_type": "markdown",
   "id": "760a1a4d",
   "metadata": {},
   "source": [
    "# Congratulation  \n",
    "\n",
    "Weldone.  You have completed the lab 3 (Logistic Regression).  Save your preprocess data for further used in another tool `Orange`."
   ]
  },
  {
   "cell_type": "code",
   "execution_count": null,
   "id": "b97ec4a2",
   "metadata": {},
   "outputs": [],
   "source": [
    "df.to_csv(\"../data/lab4-data.csv\", index=False)"
   ]
  }
 ],
 "metadata": {
  "kernelspec": {
   "display_name": "Python 3 (ipykernel)",
   "language": "python",
   "name": "python3"
  },
  "language_info": {
   "codemirror_mode": {
    "name": "ipython",
    "version": 3
   },
   "file_extension": ".py",
   "mimetype": "text/x-python",
   "name": "python",
   "nbconvert_exporter": "python",
   "pygments_lexer": "ipython3",
   "version": "3.9.0"
  }
 },
 "nbformat": 4,
 "nbformat_minor": 5
}
