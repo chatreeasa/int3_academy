{
 "cells": [
  {
   "cell_type": "markdown",
   "id": "36a7bc62",
   "metadata": {},
   "source": [
    "# Import Data  \n",
    "This coding practice was designed for 3 hour completion in class.  Learners will fill the incomplete codes (None) to make them complete.  Given a project structure as follows  \n",
    "- Project  \n",
    "  - src  \n",
    "  - data  \n",
    "  - plot  \n",
    "\n",
    "Your `.ipynb` file was saved in the `src` folder and your data was saved in the `data` folder.  We learned how to import data until data preparation from the previous lab.  Let's reuse it again starting from import data."
   ]
  },
  {
   "cell_type": "code",
   "execution_count": 1,
   "id": "48befcea",
   "metadata": {},
   "outputs": [],
   "source": [
    "import pandas as pd\n",
    "\n",
    "df = pd.read_excel(\"../data/ENB2012_data.xlsx\", sheet_name=\"data\")"
   ]
  },
  {
   "cell_type": "markdown",
   "id": "4900b9c2",
   "metadata": {},
   "source": [
    "**Optional**: The unsupervised learning does not require label.  This label preparation is just help in visualizaiton.  The original data does not have a categorical label whether a building is an energy-saving or not.  We created a utility function to derive such label from heating load (hl) and cooling load (cl)."
   ]
  },
  {
   "cell_type": "code",
   "execution_count": 2,
   "id": "30397fb0",
   "metadata": {},
   "outputs": [],
   "source": [
    "import numpy as np\n",
    "\n",
    "def getlabel(hl, cl, alpha=1):\n",
    "    if np.abs(hl - cl) - alpha >= 0:\n",
    "        return 1\n",
    "    else:\n",
    "        return 0"
   ]
  },
  {
   "cell_type": "code",
   "execution_count": 3,
   "id": "a633003f",
   "metadata": {},
   "outputs": [],
   "source": [
    "df[\"is_energy_saving\"] = df.apply(lambda x: getlabel(x[\"Y1\"], x[\"Y2\"]), axis=1)"
   ]
  },
  {
   "cell_type": "markdown",
   "id": "1bbb3212",
   "metadata": {},
   "source": [
    "Some categorical data was encoded such as `X6`.  However, it is inappropriate to use such encoding values directly to the clustering algorithm due to the basic of statistical data type (Nomonal, Ordinal, Interval and Ratio).  We have 2 options to handle it.  \n",
    "\n",
    "- Option 1: Use dummy variables  \n",
    "- Option 2: Exclude from features during clustering then use them later after getting clustering output for interpretation purpose.  \n",
    "\n",
    "Let's make it to be a meaningful featul feature and create a set of dummy variables so that we can do any option above."
   ]
  },
  {
   "cell_type": "code",
   "execution_count": 4,
   "id": "25da8425",
   "metadata": {},
   "outputs": [],
   "source": [
    "df[\"orientation\"] = df[\"X6\"].map({2: \"north\", 3: \"east\", 4: \"south\", 5: \"west\"})\n",
    "orientation = pd.get_dummies(df[\"orientation\"])\n",
    "df = pd.concat([df, orientation], axis=1)"
   ]
  },
  {
   "cell_type": "code",
   "execution_count": 5,
   "id": "ce3e926b",
   "metadata": {},
   "outputs": [
    {
     "data": {
      "text/html": [
       "<div>\n",
       "<style scoped>\n",
       "    .dataframe tbody tr th:only-of-type {\n",
       "        vertical-align: middle;\n",
       "    }\n",
       "\n",
       "    .dataframe tbody tr th {\n",
       "        vertical-align: top;\n",
       "    }\n",
       "\n",
       "    .dataframe thead th {\n",
       "        text-align: right;\n",
       "    }\n",
       "</style>\n",
       "<table border=\"1\" class=\"dataframe\">\n",
       "  <thead>\n",
       "    <tr style=\"text-align: right;\">\n",
       "      <th></th>\n",
       "      <th>X1</th>\n",
       "      <th>X2</th>\n",
       "      <th>X3</th>\n",
       "      <th>X4</th>\n",
       "      <th>X5</th>\n",
       "      <th>X6</th>\n",
       "      <th>X7</th>\n",
       "      <th>X8</th>\n",
       "      <th>Y1</th>\n",
       "      <th>Y2</th>\n",
       "      <th>is_energy_saving</th>\n",
       "      <th>orientation</th>\n",
       "      <th>east</th>\n",
       "      <th>north</th>\n",
       "      <th>south</th>\n",
       "      <th>west</th>\n",
       "    </tr>\n",
       "  </thead>\n",
       "  <tbody>\n",
       "    <tr>\n",
       "      <th>0</th>\n",
       "      <td>0.98</td>\n",
       "      <td>514.5</td>\n",
       "      <td>294.0</td>\n",
       "      <td>110.25</td>\n",
       "      <td>7.0</td>\n",
       "      <td>2</td>\n",
       "      <td>0.0</td>\n",
       "      <td>0</td>\n",
       "      <td>15.55</td>\n",
       "      <td>21.33</td>\n",
       "      <td>1</td>\n",
       "      <td>north</td>\n",
       "      <td>0</td>\n",
       "      <td>1</td>\n",
       "      <td>0</td>\n",
       "      <td>0</td>\n",
       "    </tr>\n",
       "    <tr>\n",
       "      <th>1</th>\n",
       "      <td>0.98</td>\n",
       "      <td>514.5</td>\n",
       "      <td>294.0</td>\n",
       "      <td>110.25</td>\n",
       "      <td>7.0</td>\n",
       "      <td>3</td>\n",
       "      <td>0.0</td>\n",
       "      <td>0</td>\n",
       "      <td>15.55</td>\n",
       "      <td>21.33</td>\n",
       "      <td>1</td>\n",
       "      <td>east</td>\n",
       "      <td>1</td>\n",
       "      <td>0</td>\n",
       "      <td>0</td>\n",
       "      <td>0</td>\n",
       "    </tr>\n",
       "    <tr>\n",
       "      <th>2</th>\n",
       "      <td>0.98</td>\n",
       "      <td>514.5</td>\n",
       "      <td>294.0</td>\n",
       "      <td>110.25</td>\n",
       "      <td>7.0</td>\n",
       "      <td>4</td>\n",
       "      <td>0.0</td>\n",
       "      <td>0</td>\n",
       "      <td>15.55</td>\n",
       "      <td>21.33</td>\n",
       "      <td>1</td>\n",
       "      <td>south</td>\n",
       "      <td>0</td>\n",
       "      <td>0</td>\n",
       "      <td>1</td>\n",
       "      <td>0</td>\n",
       "    </tr>\n",
       "    <tr>\n",
       "      <th>3</th>\n",
       "      <td>0.98</td>\n",
       "      <td>514.5</td>\n",
       "      <td>294.0</td>\n",
       "      <td>110.25</td>\n",
       "      <td>7.0</td>\n",
       "      <td>5</td>\n",
       "      <td>0.0</td>\n",
       "      <td>0</td>\n",
       "      <td>15.55</td>\n",
       "      <td>21.33</td>\n",
       "      <td>1</td>\n",
       "      <td>west</td>\n",
       "      <td>0</td>\n",
       "      <td>0</td>\n",
       "      <td>0</td>\n",
       "      <td>1</td>\n",
       "    </tr>\n",
       "    <tr>\n",
       "      <th>4</th>\n",
       "      <td>0.90</td>\n",
       "      <td>563.5</td>\n",
       "      <td>318.5</td>\n",
       "      <td>122.50</td>\n",
       "      <td>7.0</td>\n",
       "      <td>2</td>\n",
       "      <td>0.0</td>\n",
       "      <td>0</td>\n",
       "      <td>20.84</td>\n",
       "      <td>28.28</td>\n",
       "      <td>1</td>\n",
       "      <td>north</td>\n",
       "      <td>0</td>\n",
       "      <td>1</td>\n",
       "      <td>0</td>\n",
       "      <td>0</td>\n",
       "    </tr>\n",
       "  </tbody>\n",
       "</table>\n",
       "</div>"
      ],
      "text/plain": [
       "     X1     X2     X3      X4   X5  X6   X7  X8     Y1     Y2  \\\n",
       "0  0.98  514.5  294.0  110.25  7.0   2  0.0   0  15.55  21.33   \n",
       "1  0.98  514.5  294.0  110.25  7.0   3  0.0   0  15.55  21.33   \n",
       "2  0.98  514.5  294.0  110.25  7.0   4  0.0   0  15.55  21.33   \n",
       "3  0.98  514.5  294.0  110.25  7.0   5  0.0   0  15.55  21.33   \n",
       "4  0.90  563.5  318.5  122.50  7.0   2  0.0   0  20.84  28.28   \n",
       "\n",
       "   is_energy_saving orientation  east  north  south  west  \n",
       "0                 1       north     0      1      0     0  \n",
       "1                 1        east     1      0      0     0  \n",
       "2                 1       south     0      0      1     0  \n",
       "3                 1        west     0      0      0     1  \n",
       "4                 1       north     0      1      0     0  "
      ]
     },
     "execution_count": 5,
     "metadata": {},
     "output_type": "execute_result"
    }
   ],
   "source": [
    "df.head()"
   ]
  },
  {
   "cell_type": "markdown",
   "id": "6d876809",
   "metadata": {},
   "source": [
    "This tutorials demonstrate the option 2, howver the option 1 can use knowledge obtained from this tutorials.  "
   ]
  },
  {
   "cell_type": "markdown",
   "id": "a2555623",
   "metadata": {},
   "source": [
    "# Data Preparation  \n",
    "\n",
    "Select features for clustering.  Here we follow the `option 2`.  The `X6` will be ommitted where `X8` is unusable according to our `Lab 3` and `Lab 4`."
   ]
  },
  {
   "cell_type": "code",
   "execution_count": 6,
   "id": "23b0481e",
   "metadata": {},
   "outputs": [],
   "source": [
    "X = df.loc[:, [\"X1\", \"X2\", \"X3\", \"X4\", \"X5\", \"X7\"]].values"
   ]
  },
  {
   "cell_type": "markdown",
   "id": "6d1424fe",
   "metadata": {},
   "source": [
    "The basic settings for clustering, mostly, use `Euclidean Distance`.  However, its limitation is the scaling.  Different feature scale could bias to the clustering algorithm.  To prevent such a problem, we apply one of scaling techniques called `MinMax Scaling`."
   ]
  },
  {
   "cell_type": "code",
   "execution_count": 7,
   "id": "cad9adf8",
   "metadata": {},
   "outputs": [],
   "source": [
    "from sklearn.preprocessing import MinMaxScaler\n",
    "\n",
    "scaler = MinMaxScaler().fit(X)\n",
    "\n",
    "X_scaled = scaler.transform(X)"
   ]
  },
  {
   "cell_type": "markdown",
   "id": "07da6eea",
   "metadata": {},
   "source": [
    "`X` is the original data while `X_scaled` will be used for running clustering algorithms."
   ]
  },
  {
   "cell_type": "markdown",
   "id": "f6e2ecdf",
   "metadata": {},
   "source": [
    "# Modeling  \n",
    "\n",
    "This tutorials demonstrate `K-means`, `Hierarchical Agglomorative Clustering (HAC)`, and `DBscan`.  All of them returns the same things called `cluster membership` which is the cluster label assigned to each samples.  "
   ]
  },
  {
   "cell_type": "markdown",
   "id": "07d28748",
   "metadata": {},
   "source": [
    "## K-Means Clustering  \n",
    "\n",
    "The goal is to determine cluster membership for each sample from the best `k` groups.  The optimal `k` can be derived from the `Elbow method` by varying `k` and pick the minimum `silhouette score`.  \n",
    "\n",
    "**Activity 1**: Initialize the `K-means clustering` and vary `k` from 2 to 8."
   ]
  },
  {
   "cell_type": "code",
   "execution_count": 8,
   "id": "3126eee9",
   "metadata": {},
   "outputs": [],
   "source": [
    "from sklearn.cluster import KMeans\n",
    "\n",
    "seed = 433\n",
    "\n",
    "kmeans = {}\n",
    "\n",
    "for k in range(2, 8):\n",
    "    kmeans[k] = KMeans(n_clusters=k, random_state=seed).fit(X_scaled)"
   ]
  },
  {
   "cell_type": "markdown",
   "id": "f641c1ad",
   "metadata": {},
   "source": [
    "**Activity 2**: Discover the change of `silhouette score`."
   ]
  },
  {
   "cell_type": "code",
   "execution_count": 9,
   "id": "f60055d7",
   "metadata": {},
   "outputs": [
    {
     "data": {
      "text/plain": [
       "Text(0, 0.5, 'Silhouette Score')"
      ]
     },
     "execution_count": 9,
     "metadata": {},
     "output_type": "execute_result"
    },
    {
     "data": {
      "image/png": "[encoded data removed]",
      "text/plain": [
       "<Figure size 432x288 with 1 Axes>"
      ]
     },
     "metadata": {
      "needs_background": "light"
     },
     "output_type": "display_data"
    }
   ],
   "source": [
    "import matplotlib.pyplot as plt\n",
    "from sklearn.metrics import silhouette_score\n",
    "\n",
    "n_clusters = list(range(2, 8))\n",
    "\n",
    "scores = {}\n",
    "scores[\"kmeans\"] = [silhouette_score(X_scaled, kmeans[k].labels_, metric=\"euclidean\") for k in n_clusters]\n",
    "\n",
    "plt.plot(n_clusters, scores[\"kmeans\"])\n",
    "plt.xlabel(\"Number of Clusters\")\n",
    "plt.ylabel(\"Silhouette Score\")"
   ]
  },
  {
   "cell_type": "markdown",
   "id": "3d5d1c04",
   "metadata": {},
   "source": [
    "The optimum number of `k` groups is 4.  Therefore, we will pick the cluster membership from `k=4`.  Note that the optimum `k` could be overwritten by business constraints.  The cluster memberships when `k=4` are the following"
   ]
  },
  {
   "cell_type": "code",
   "execution_count": 10,
   "id": "2c7b6f14",
   "metadata": {},
   "outputs": [
    {
     "data": {
      "text/plain": [
       "array([1, 1, 1, 1, 1, 1, 1, 1, 1, 1, 1, 1, 1, 1, 1, 1, 3, 3, 3, 3, 3, 3,\n",
       "       3, 3, 0, 0, 0, 0, 0, 0, 0, 0, 0, 0, 0, 0, 0, 0, 0, 0, 0, 0, 0, 0,\n",
       "       0, 0, 0, 0, 1, 1, 1, 1, 1, 1, 1, 1, 1, 1, 1, 1, 1, 1, 1, 1, 3, 3,\n",
       "       3, 3, 3, 3, 3, 3, 0, 0, 0, 0, 0, 0, 0, 0, 0, 0, 0, 0, 0, 0, 0, 0,\n",
       "       0, 0, 0, 0, 0, 0, 0, 0, 1, 1, 1, 1, 1, 1, 1, 1, 1, 1, 1, 1, 1, 1,\n",
       "       1, 1, 3, 3, 3, 3, 3, 3, 3, 3, 0, 0, 0, 0, 0, 0, 0, 0, 0, 0, 0, 0,\n",
       "       0, 0, 0, 0, 0, 0, 0, 0, 0, 0, 0, 0, 1, 1, 1, 1, 1, 1, 1, 1, 1, 1,\n",
       "       1, 1, 1, 1, 1, 1, 3, 3, 3, 3, 3, 3, 3, 3, 0, 0, 0, 0, 0, 0, 0, 0,\n",
       "       0, 0, 0, 0, 0, 0, 0, 0, 0, 0, 0, 0, 0, 0, 0, 0, 1, 1, 1, 1, 1, 1,\n",
       "       1, 1, 1, 1, 1, 1, 1, 1, 1, 1, 3, 3, 3, 3, 3, 3, 3, 3, 0, 0, 0, 0,\n",
       "       0, 0, 0, 0, 0, 0, 0, 0, 0, 0, 0, 0, 0, 0, 0, 0, 0, 0, 0, 0, 1, 1,\n",
       "       1, 1, 1, 1, 1, 1, 1, 1, 1, 1, 1, 1, 1, 1, 3, 3, 3, 3, 3, 3, 3, 3,\n",
       "       0, 0, 0, 0, 0, 0, 0, 0, 0, 0, 0, 0, 0, 0, 0, 0, 0, 0, 0, 0, 0, 0,\n",
       "       0, 0, 1, 1, 1, 1, 1, 1, 1, 1, 1, 1, 1, 1, 1, 1, 1, 1, 3, 3, 3, 3,\n",
       "       3, 3, 3, 3, 0, 0, 0, 0, 0, 0, 0, 0, 0, 0, 0, 0, 2, 2, 2, 2, 2, 2,\n",
       "       2, 2, 2, 2, 2, 2, 1, 1, 1, 1, 1, 1, 1, 1, 1, 1, 1, 1, 1, 1, 1, 1,\n",
       "       3, 3, 3, 3, 3, 3, 3, 3, 0, 0, 0, 0, 0, 0, 0, 0, 0, 0, 0, 0, 2, 2,\n",
       "       2, 2, 2, 2, 2, 2, 2, 2, 2, 2, 1, 1, 1, 1, 1, 1, 1, 1, 1, 1, 1, 1,\n",
       "       1, 1, 1, 1, 3, 3, 3, 3, 3, 3, 3, 3, 0, 0, 0, 0, 0, 0, 0, 0, 0, 0,\n",
       "       0, 0, 2, 2, 2, 2, 2, 2, 2, 2, 2, 2, 2, 2, 1, 1, 1, 1, 1, 1, 1, 1,\n",
       "       1, 1, 1, 1, 1, 1, 1, 1, 3, 3, 3, 3, 3, 3, 3, 3, 0, 0, 0, 0, 0, 0,\n",
       "       0, 0, 0, 0, 0, 0, 2, 2, 2, 2, 2, 2, 2, 2, 2, 2, 2, 2, 1, 1, 1, 1,\n",
       "       1, 1, 1, 1, 1, 1, 1, 1, 1, 1, 1, 1, 3, 3, 3, 3, 3, 3, 3, 3, 0, 0,\n",
       "       0, 0, 0, 0, 0, 0, 0, 0, 0, 0, 2, 2, 2, 2, 2, 2, 2, 2, 2, 2, 2, 2,\n",
       "       1, 1, 1, 1, 1, 1, 1, 1, 1, 1, 1, 1, 1, 1, 1, 1, 1, 1, 1, 1, 3, 3,\n",
       "       3, 3, 2, 2, 2, 2, 2, 2, 2, 2, 2, 2, 2, 2, 2, 2, 2, 2, 2, 2, 2, 2,\n",
       "       2, 2, 2, 2, 1, 1, 1, 1, 1, 1, 1, 1, 1, 1, 1, 1, 1, 1, 1, 1, 1, 1,\n",
       "       1, 1, 3, 3, 3, 3, 2, 2, 2, 2, 2, 2, 2, 2, 2, 2, 2, 2, 2, 2, 2, 2,\n",
       "       2, 2, 2, 2, 2, 2, 2, 2, 1, 1, 1, 1, 1, 1, 1, 1, 1, 1, 1, 1, 1, 1,\n",
       "       1, 1, 1, 1, 1, 1, 3, 3, 3, 3, 2, 2, 2, 2, 2, 2, 2, 2, 2, 2, 2, 2,\n",
       "       2, 2, 2, 2, 2, 2, 2, 2, 2, 2, 2, 2, 1, 1, 1, 1, 1, 1, 1, 1, 1, 1,\n",
       "       1, 1, 1, 1, 1, 1, 1, 1, 1, 1, 3, 3, 3, 3, 2, 2, 2, 2, 2, 2, 2, 2,\n",
       "       2, 2, 2, 2, 2, 2, 2, 2, 2, 2, 2, 2, 2, 2, 2, 2, 1, 1, 1, 1, 1, 1,\n",
       "       1, 1, 1, 1, 1, 1, 1, 1, 1, 1, 1, 1, 1, 1, 3, 3, 3, 3, 2, 2, 2, 2,\n",
       "       2, 2, 2, 2, 2, 2, 2, 2, 2, 2, 2, 2, 2, 2, 2, 2, 2, 2, 2, 2])"
      ]
     },
     "execution_count": 10,
     "metadata": {},
     "output_type": "execute_result"
    }
   ],
   "source": [
    "kmeans[4].labels_"
   ]
  },
  {
   "cell_type": "markdown",
   "id": "695ae16a",
   "metadata": {},
   "source": [
    "Let's add this output to the original data"
   ]
  },
  {
   "cell_type": "code",
   "execution_count": 11,
   "id": "e7c8bc69",
   "metadata": {},
   "outputs": [],
   "source": [
    "df[\"kmeans\"] = kmeans[4].labels_"
   ]
  },
  {
   "cell_type": "code",
   "execution_count": 12,
   "id": "1f553e1b",
   "metadata": {},
   "outputs": [
    {
     "data": {
      "text/html": [
       "<div>\n",
       "<style scoped>\n",
       "    .dataframe tbody tr th:only-of-type {\n",
       "        vertical-align: middle;\n",
       "    }\n",
       "\n",
       "    .dataframe tbody tr th {\n",
       "        vertical-align: top;\n",
       "    }\n",
       "\n",
       "    .dataframe thead th {\n",
       "        text-align: right;\n",
       "    }\n",
       "</style>\n",
       "<table border=\"1\" class=\"dataframe\">\n",
       "  <thead>\n",
       "    <tr style=\"text-align: right;\">\n",
       "      <th></th>\n",
       "      <th>X1</th>\n",
       "      <th>X2</th>\n",
       "      <th>X3</th>\n",
       "      <th>X4</th>\n",
       "      <th>X5</th>\n",
       "      <th>X6</th>\n",
       "      <th>X7</th>\n",
       "      <th>X8</th>\n",
       "      <th>Y1</th>\n",
       "      <th>Y2</th>\n",
       "      <th>is_energy_saving</th>\n",
       "      <th>orientation</th>\n",
       "      <th>east</th>\n",
       "      <th>north</th>\n",
       "      <th>south</th>\n",
       "      <th>west</th>\n",
       "      <th>kmeans</th>\n",
       "    </tr>\n",
       "  </thead>\n",
       "  <tbody>\n",
       "    <tr>\n",
       "      <th>0</th>\n",
       "      <td>0.98</td>\n",
       "      <td>514.5</td>\n",
       "      <td>294.0</td>\n",
       "      <td>110.25</td>\n",
       "      <td>7.0</td>\n",
       "      <td>2</td>\n",
       "      <td>0.0</td>\n",
       "      <td>0</td>\n",
       "      <td>15.55</td>\n",
       "      <td>21.33</td>\n",
       "      <td>1</td>\n",
       "      <td>north</td>\n",
       "      <td>0</td>\n",
       "      <td>1</td>\n",
       "      <td>0</td>\n",
       "      <td>0</td>\n",
       "      <td>1</td>\n",
       "    </tr>\n",
       "    <tr>\n",
       "      <th>1</th>\n",
       "      <td>0.98</td>\n",
       "      <td>514.5</td>\n",
       "      <td>294.0</td>\n",
       "      <td>110.25</td>\n",
       "      <td>7.0</td>\n",
       "      <td>3</td>\n",
       "      <td>0.0</td>\n",
       "      <td>0</td>\n",
       "      <td>15.55</td>\n",
       "      <td>21.33</td>\n",
       "      <td>1</td>\n",
       "      <td>east</td>\n",
       "      <td>1</td>\n",
       "      <td>0</td>\n",
       "      <td>0</td>\n",
       "      <td>0</td>\n",
       "      <td>1</td>\n",
       "    </tr>\n",
       "    <tr>\n",
       "      <th>2</th>\n",
       "      <td>0.98</td>\n",
       "      <td>514.5</td>\n",
       "      <td>294.0</td>\n",
       "      <td>110.25</td>\n",
       "      <td>7.0</td>\n",
       "      <td>4</td>\n",
       "      <td>0.0</td>\n",
       "      <td>0</td>\n",
       "      <td>15.55</td>\n",
       "      <td>21.33</td>\n",
       "      <td>1</td>\n",
       "      <td>south</td>\n",
       "      <td>0</td>\n",
       "      <td>0</td>\n",
       "      <td>1</td>\n",
       "      <td>0</td>\n",
       "      <td>1</td>\n",
       "    </tr>\n",
       "    <tr>\n",
       "      <th>3</th>\n",
       "      <td>0.98</td>\n",
       "      <td>514.5</td>\n",
       "      <td>294.0</td>\n",
       "      <td>110.25</td>\n",
       "      <td>7.0</td>\n",
       "      <td>5</td>\n",
       "      <td>0.0</td>\n",
       "      <td>0</td>\n",
       "      <td>15.55</td>\n",
       "      <td>21.33</td>\n",
       "      <td>1</td>\n",
       "      <td>west</td>\n",
       "      <td>0</td>\n",
       "      <td>0</td>\n",
       "      <td>0</td>\n",
       "      <td>1</td>\n",
       "      <td>1</td>\n",
       "    </tr>\n",
       "    <tr>\n",
       "      <th>4</th>\n",
       "      <td>0.90</td>\n",
       "      <td>563.5</td>\n",
       "      <td>318.5</td>\n",
       "      <td>122.50</td>\n",
       "      <td>7.0</td>\n",
       "      <td>2</td>\n",
       "      <td>0.0</td>\n",
       "      <td>0</td>\n",
       "      <td>20.84</td>\n",
       "      <td>28.28</td>\n",
       "      <td>1</td>\n",
       "      <td>north</td>\n",
       "      <td>0</td>\n",
       "      <td>1</td>\n",
       "      <td>0</td>\n",
       "      <td>0</td>\n",
       "      <td>1</td>\n",
       "    </tr>\n",
       "  </tbody>\n",
       "</table>\n",
       "</div>"
      ],
      "text/plain": [
       "     X1     X2     X3      X4   X5  X6   X7  X8     Y1     Y2  \\\n",
       "0  0.98  514.5  294.0  110.25  7.0   2  0.0   0  15.55  21.33   \n",
       "1  0.98  514.5  294.0  110.25  7.0   3  0.0   0  15.55  21.33   \n",
       "2  0.98  514.5  294.0  110.25  7.0   4  0.0   0  15.55  21.33   \n",
       "3  0.98  514.5  294.0  110.25  7.0   5  0.0   0  15.55  21.33   \n",
       "4  0.90  563.5  318.5  122.50  7.0   2  0.0   0  20.84  28.28   \n",
       "\n",
       "   is_energy_saving orientation  east  north  south  west  kmeans  \n",
       "0                 1       north     0      1      0     0       1  \n",
       "1                 1        east     1      0      0     0       1  \n",
       "2                 1       south     0      0      1     0       1  \n",
       "3                 1        west     0      0      0     1       1  \n",
       "4                 1       north     0      1      0     0       1  "
      ]
     },
     "execution_count": 12,
     "metadata": {},
     "output_type": "execute_result"
    }
   ],
   "source": [
    "df.head()"
   ]
  },
  {
   "cell_type": "markdown",
   "id": "2849e7d6",
   "metadata": {},
   "source": [
    "## Hierarchical Clusering  \n",
    "The goal is determine cluster membership for each sample from the cutoff.  However, the cutoff is arbitrally chosen or finding the optimal cutoff from the `elbow method`.  \n",
    "\n",
    "**Activity 3**: Initialize the `Hierarchical Clustering` using the `single-linked` method."
   ]
  },
  {
   "cell_type": "code",
   "execution_count": 13,
   "id": "013e5ecd",
   "metadata": {},
   "outputs": [],
   "source": [
    "from scipy.cluster import hierarchy\n",
    "from scipy.cluster.hierarchy import fcluster\n",
    "\n",
    "hac = hierarchy.linkage(X_scaled, method=\"single\", metric=\"euclidean\")"
   ]
  },
  {
   "cell_type": "markdown",
   "id": "6759d58b",
   "metadata": {},
   "source": [
    "The output of `HAC` can be represented by a dendrogram."
   ]
  },
  {
   "cell_type": "code",
   "execution_count": 14,
   "id": "88b3c56f",
   "metadata": {},
   "outputs": [
    {
     "data": {
      "image/png": "[encoded data removed]",
      "text/plain": [
       "<Figure size 360x720 with 1 Axes>"
      ]
     },
     "metadata": {
      "needs_background": "light"
     },
     "output_type": "display_data"
    }
   ],
   "source": [
    "fig = plt.figure(figsize=(5, 10))\n",
    "dendrogram = hierarchy.dendrogram(hac, orientation=\"right\",leaf_font_size=9, leaf_rotation=360)\n",
    "plt.xlabel('Euclidean Distance');"
   ]
  },
  {
   "cell_type": "markdown",
   "id": "e9f92ad3",
   "metadata": {},
   "source": [
    "One of dendrogram limitations is reading difficulty when the number of samples is getting large.  The above figure compressed samples and make the values on axis unreadable.  \n",
    "\n",
    "**Activity 4**: Expand the plot on the vertical axis.  Discuss about the next problem of dendrogram."
   ]
  },
  {
   "cell_type": "code",
   "execution_count": 15,
   "id": "e7c42937",
   "metadata": {},
   "outputs": [
    {
     "data": {
      "image/png": "[encoded data removed]",
      "text/plain": [
       "<Figure size 360x10800 with 1 Axes>"
      ]
     },
     "metadata": {
      "needs_background": "light"
     },
     "output_type": "display_data"
    }
   ],
   "source": [
    "fig = plt.figure(figsize=(5, 150))\n",
    "dendrogram = hierarchy.dendrogram(hac, orientation=\"right\",leaf_font_size=9, leaf_rotation=360)\n",
    "plt.xlabel('Euclidean Distance');"
   ]
  },
  {
   "cell_type": "markdown",
   "id": "f019d94a",
   "metadata": {},
   "source": [
    "Even though the values are readable, it induces another problem about observing cluster membership difficulty.  Therefore, the dendrogram is good when the number of samples is small.  \n",
    "\n",
    "We will arbitrally define the cutoff to obtain cluster membership/"
   ]
  },
  {
   "cell_type": "code",
   "execution_count": 16,
   "id": "cef41e7e",
   "metadata": {},
   "outputs": [
    {
     "name": "stdout",
     "output_type": "stream",
     "text": [
      "We have 768 data points\n",
      "Setting threshold at 0.2 returns 20 clusters\n"
     ]
    }
   ],
   "source": [
    "cutoff = 0.2\n",
    "membership = fcluster(hac, t=cutoff, criterion=\"distance\")\n",
    "print(\"We have {} data points\".format(X.shape[0]))\n",
    "print (\"Setting threshold at {} returns {} clusters\".format(cutoff, len(np.unique(membership))))"
   ]
  },
  {
   "cell_type": "markdown",
   "id": "88bae286",
   "metadata": {},
   "source": [
    "The cutoff indicates the minimum distance to be merged according to the `single-link method`.  The smaller the more number of clusters you will get.  We can also use the `elbow approach` to determine the optimal cutoff, however it is harder than the `k-means` because the cutoff is not integer.  The more precise cutoff the more computational resource you need.  \n",
    "\n",
    "To simplify computation, we will just vary the cutoff from 0.2 to 0.5 where each steps increases the cutoff by 0.05.  \n",
    "\n",
    "**Activity 5**: Create a range of cutoff values from 0.2 to 0.5 where each steps increases the cutoff by 0.05."
   ]
  },
  {
   "cell_type": "code",
   "execution_count": 17,
   "id": "3e6e89e6",
   "metadata": {},
   "outputs": [
    {
     "name": "stdout",
     "output_type": "stream",
     "text": [
      "List of cutoffs is: [0.2  0.25 0.3  0.35 0.4  0.45 0.5 ]\n"
     ]
    }
   ],
   "source": [
    "import numpy as np\n",
    "\n",
    "lower = 0.2\n",
    "upper = 0.5\n",
    "steps = 0.05\n",
    "nticks = round(((upper - lower) / steps)) + 1\n",
    "cutoffs = np.linspace(lower, upper, num=nticks, endpoint=True)\n",
    "print(\"List of cutoffs is: {}\".format(cutoffs))"
   ]
  },
  {
   "cell_type": "markdown",
   "id": "56a9406f",
   "metadata": {},
   "source": [
    "Then we run the `HAC` with the above cutoff values."
   ]
  },
  {
   "cell_type": "code",
   "execution_count": 18,
   "id": "ec958785",
   "metadata": {},
   "outputs": [],
   "source": [
    "HAC = {}\n",
    "\n",
    "for c in cutoffs:\n",
    "    HAC[c] = fcluster(hac, t=c, criterion=\"distance\")\n",
    "\n",
    "scores[\"hac\"] = [silhouette_score(X_scaled, HAC[c], metric=\"euclidean\") for c in cutoffs]"
   ]
  },
  {
   "cell_type": "code",
   "execution_count": 19,
   "id": "583631af",
   "metadata": {},
   "outputs": [
    {
     "data": {
      "text/plain": [
       "Text(0, 0.5, 'Silhouette Score')"
      ]
     },
     "execution_count": 19,
     "metadata": {},
     "output_type": "execute_result"
    },
    {
     "data": {
      "image/png": "[encoded data removed]",
      "text/plain": [
       "<Figure size 432x288 with 1 Axes>"
      ]
     },
     "metadata": {
      "needs_background": "light"
     },
     "output_type": "display_data"
    }
   ],
   "source": [
    "plt.plot(cutoffs, scores[\"hac\"])\n",
    "plt.xlabel(\"Cutoff Values\")\n",
    "plt.ylabel(\"Silhouette Score\")"
   ]
  },
  {
   "cell_type": "markdown",
   "id": "c82ff762",
   "metadata": {},
   "source": [
    "The optimal cutoff is 0.35. Therefore, we update the cluster membership to the original data.  \n",
    "\n",
    "**Important**: Note that the cluster label from differnce cluster algorithm does not infer the same meaning even the label is the same."
   ]
  },
  {
   "cell_type": "code",
   "execution_count": 20,
   "id": "7efdbbd1",
   "metadata": {},
   "outputs": [
    {
     "data": {
      "text/html": [
       "<div>\n",
       "<style scoped>\n",
       "    .dataframe tbody tr th:only-of-type {\n",
       "        vertical-align: middle;\n",
       "    }\n",
       "\n",
       "    .dataframe tbody tr th {\n",
       "        vertical-align: top;\n",
       "    }\n",
       "\n",
       "    .dataframe thead th {\n",
       "        text-align: right;\n",
       "    }\n",
       "</style>\n",
       "<table border=\"1\" class=\"dataframe\">\n",
       "  <thead>\n",
       "    <tr style=\"text-align: right;\">\n",
       "      <th></th>\n",
       "      <th>X1</th>\n",
       "      <th>X2</th>\n",
       "      <th>X3</th>\n",
       "      <th>X4</th>\n",
       "      <th>X5</th>\n",
       "      <th>X6</th>\n",
       "      <th>X7</th>\n",
       "      <th>X8</th>\n",
       "      <th>Y1</th>\n",
       "      <th>Y2</th>\n",
       "      <th>is_energy_saving</th>\n",
       "      <th>orientation</th>\n",
       "      <th>east</th>\n",
       "      <th>north</th>\n",
       "      <th>south</th>\n",
       "      <th>west</th>\n",
       "      <th>kmeans</th>\n",
       "      <th>hac</th>\n",
       "    </tr>\n",
       "  </thead>\n",
       "  <tbody>\n",
       "    <tr>\n",
       "      <th>0</th>\n",
       "      <td>0.98</td>\n",
       "      <td>514.5</td>\n",
       "      <td>294.0</td>\n",
       "      <td>110.25</td>\n",
       "      <td>7.0</td>\n",
       "      <td>2</td>\n",
       "      <td>0.0</td>\n",
       "      <td>0</td>\n",
       "      <td>15.55</td>\n",
       "      <td>21.33</td>\n",
       "      <td>1</td>\n",
       "      <td>north</td>\n",
       "      <td>0</td>\n",
       "      <td>1</td>\n",
       "      <td>0</td>\n",
       "      <td>0</td>\n",
       "      <td>1</td>\n",
       "      <td>5</td>\n",
       "    </tr>\n",
       "    <tr>\n",
       "      <th>1</th>\n",
       "      <td>0.98</td>\n",
       "      <td>514.5</td>\n",
       "      <td>294.0</td>\n",
       "      <td>110.25</td>\n",
       "      <td>7.0</td>\n",
       "      <td>3</td>\n",
       "      <td>0.0</td>\n",
       "      <td>0</td>\n",
       "      <td>15.55</td>\n",
       "      <td>21.33</td>\n",
       "      <td>1</td>\n",
       "      <td>east</td>\n",
       "      <td>1</td>\n",
       "      <td>0</td>\n",
       "      <td>0</td>\n",
       "      <td>0</td>\n",
       "      <td>1</td>\n",
       "      <td>5</td>\n",
       "    </tr>\n",
       "    <tr>\n",
       "      <th>2</th>\n",
       "      <td>0.98</td>\n",
       "      <td>514.5</td>\n",
       "      <td>294.0</td>\n",
       "      <td>110.25</td>\n",
       "      <td>7.0</td>\n",
       "      <td>4</td>\n",
       "      <td>0.0</td>\n",
       "      <td>0</td>\n",
       "      <td>15.55</td>\n",
       "      <td>21.33</td>\n",
       "      <td>1</td>\n",
       "      <td>south</td>\n",
       "      <td>0</td>\n",
       "      <td>0</td>\n",
       "      <td>1</td>\n",
       "      <td>0</td>\n",
       "      <td>1</td>\n",
       "      <td>5</td>\n",
       "    </tr>\n",
       "    <tr>\n",
       "      <th>3</th>\n",
       "      <td>0.98</td>\n",
       "      <td>514.5</td>\n",
       "      <td>294.0</td>\n",
       "      <td>110.25</td>\n",
       "      <td>7.0</td>\n",
       "      <td>5</td>\n",
       "      <td>0.0</td>\n",
       "      <td>0</td>\n",
       "      <td>15.55</td>\n",
       "      <td>21.33</td>\n",
       "      <td>1</td>\n",
       "      <td>west</td>\n",
       "      <td>0</td>\n",
       "      <td>0</td>\n",
       "      <td>0</td>\n",
       "      <td>1</td>\n",
       "      <td>1</td>\n",
       "      <td>5</td>\n",
       "    </tr>\n",
       "    <tr>\n",
       "      <th>4</th>\n",
       "      <td>0.90</td>\n",
       "      <td>563.5</td>\n",
       "      <td>318.5</td>\n",
       "      <td>122.50</td>\n",
       "      <td>7.0</td>\n",
       "      <td>2</td>\n",
       "      <td>0.0</td>\n",
       "      <td>0</td>\n",
       "      <td>20.84</td>\n",
       "      <td>28.28</td>\n",
       "      <td>1</td>\n",
       "      <td>north</td>\n",
       "      <td>0</td>\n",
       "      <td>1</td>\n",
       "      <td>0</td>\n",
       "      <td>0</td>\n",
       "      <td>1</td>\n",
       "      <td>5</td>\n",
       "    </tr>\n",
       "  </tbody>\n",
       "</table>\n",
       "</div>"
      ],
      "text/plain": [
       "     X1     X2     X3      X4   X5  X6   X7  X8     Y1     Y2  \\\n",
       "0  0.98  514.5  294.0  110.25  7.0   2  0.0   0  15.55  21.33   \n",
       "1  0.98  514.5  294.0  110.25  7.0   3  0.0   0  15.55  21.33   \n",
       "2  0.98  514.5  294.0  110.25  7.0   4  0.0   0  15.55  21.33   \n",
       "3  0.98  514.5  294.0  110.25  7.0   5  0.0   0  15.55  21.33   \n",
       "4  0.90  563.5  318.5  122.50  7.0   2  0.0   0  20.84  28.28   \n",
       "\n",
       "   is_energy_saving orientation  east  north  south  west  kmeans  hac  \n",
       "0                 1       north     0      1      0     0       1    5  \n",
       "1                 1        east     1      0      0     0       1    5  \n",
       "2                 1       south     0      0      1     0       1    5  \n",
       "3                 1        west     0      0      0     1       1    5  \n",
       "4                 1       north     0      1      0     0       1    5  "
      ]
     },
     "execution_count": 20,
     "metadata": {},
     "output_type": "execute_result"
    }
   ],
   "source": [
    "df[\"hac\"] = HAC[0.35]\n",
    "df.head()"
   ]
  },
  {
   "cell_type": "markdown",
   "id": "bbff44ad",
   "metadata": {},
   "source": [
    "## DBscan  \n",
    "\n",
    "The goal is to determine cluster memberships from predefined epsilon and minimum samples inside the scanning boundaries.  \n",
    "\n",
    "**Activity 6**: Initialize a `DBscan` where the `epsilon` is set to 0.4 and minimum samples is set to 5 samples."
   ]
  },
  {
   "cell_type": "code",
   "execution_count": 21,
   "id": "301a8006",
   "metadata": {},
   "outputs": [
    {
     "data": {
      "text/plain": [
       "DBSCAN(eps=0.4)"
      ]
     },
     "execution_count": 21,
     "metadata": {},
     "output_type": "execute_result"
    }
   ],
   "source": [
    "from sklearn.cluster import DBSCAN\n",
    "\n",
    "dbs = DBSCAN(eps=0.4, min_samples=5)\n",
    "dbs.fit(X_scaled)"
   ]
  },
  {
   "cell_type": "markdown",
   "id": "31400b3b",
   "metadata": {},
   "source": [
    "Explore the cluster membership."
   ]
  },
  {
   "cell_type": "code",
   "execution_count": 22,
   "id": "c0ef6b2d",
   "metadata": {},
   "outputs": [
    {
     "data": {
      "text/plain": [
       "array([0, 0, 0, 0, 0, 0, 0, 0, 0, 0, 0, 0, 0, 0, 0, 0, 0, 0, 0, 0, 1, 1,\n",
       "       1, 1, 2, 2, 2, 2, 2, 2, 2, 2, 2, 2, 2, 2, 2, 2, 2, 2, 2, 2, 2, 2,\n",
       "       2, 2, 2, 2, 0, 0, 0, 0, 0, 0, 0, 0, 0, 0, 0, 0, 0, 0, 0, 0, 0, 0,\n",
       "       0, 0, 1, 1, 1, 1, 2, 2, 2, 2, 2, 2, 2, 2, 2, 2, 2, 2, 2, 2, 2, 2,\n",
       "       2, 2, 2, 2, 2, 2, 2, 2, 0, 0, 0, 0, 0, 0, 0, 0, 0, 0, 0, 0, 0, 0,\n",
       "       0, 0, 0, 0, 0, 0, 1, 1, 1, 1, 2, 2, 2, 2, 2, 2, 2, 2, 2, 2, 2, 2,\n",
       "       2, 2, 2, 2, 2, 2, 2, 2, 2, 2, 2, 2, 0, 0, 0, 0, 0, 0, 0, 0, 0, 0,\n",
       "       0, 0, 0, 0, 0, 0, 0, 0, 0, 0, 1, 1, 1, 1, 2, 2, 2, 2, 2, 2, 2, 2,\n",
       "       2, 2, 2, 2, 2, 2, 2, 2, 2, 2, 2, 2, 2, 2, 2, 2, 0, 0, 0, 0, 0, 0,\n",
       "       0, 0, 0, 0, 0, 0, 0, 0, 0, 0, 0, 0, 0, 0, 1, 1, 1, 1, 2, 2, 2, 2,\n",
       "       2, 2, 2, 2, 2, 2, 2, 2, 2, 2, 2, 2, 2, 2, 2, 2, 2, 2, 2, 2, 0, 0,\n",
       "       0, 0, 0, 0, 0, 0, 0, 0, 0, 0, 0, 0, 0, 0, 0, 0, 0, 0, 1, 1, 1, 1,\n",
       "       2, 2, 2, 2, 2, 2, 2, 2, 2, 2, 2, 2, 2, 2, 2, 2, 2, 2, 2, 2, 2, 2,\n",
       "       2, 2, 0, 0, 0, 0, 0, 0, 0, 0, 0, 0, 0, 0, 0, 0, 0, 0, 0, 0, 0, 0,\n",
       "       1, 1, 1, 1, 2, 2, 2, 2, 2, 2, 2, 2, 2, 2, 2, 2, 2, 2, 2, 2, 2, 2,\n",
       "       2, 2, 2, 2, 2, 2, 0, 0, 0, 0, 0, 0, 0, 0, 0, 0, 0, 0, 0, 0, 0, 0,\n",
       "       0, 0, 0, 0, 1, 1, 1, 1, 2, 2, 2, 2, 2, 2, 2, 2, 2, 2, 2, 2, 2, 2,\n",
       "       2, 2, 2, 2, 2, 2, 2, 2, 2, 2, 0, 0, 0, 0, 0, 0, 0, 0, 0, 0, 0, 0,\n",
       "       0, 0, 0, 0, 0, 0, 0, 0, 1, 1, 1, 1, 2, 2, 2, 2, 2, 2, 2, 2, 2, 2,\n",
       "       2, 2, 2, 2, 2, 2, 2, 2, 2, 2, 2, 2, 2, 2, 0, 0, 0, 0, 0, 0, 0, 0,\n",
       "       0, 0, 0, 0, 0, 0, 0, 0, 0, 0, 0, 0, 1, 1, 1, 1, 2, 2, 2, 2, 2, 2,\n",
       "       2, 2, 2, 2, 2, 2, 2, 2, 2, 2, 2, 2, 2, 2, 2, 2, 2, 2, 0, 0, 0, 0,\n",
       "       0, 0, 0, 0, 0, 0, 0, 0, 0, 0, 0, 0, 0, 0, 0, 0, 1, 1, 1, 1, 2, 2,\n",
       "       2, 2, 2, 2, 2, 2, 2, 2, 2, 2, 2, 2, 2, 2, 2, 2, 2, 2, 2, 2, 2, 2,\n",
       "       0, 0, 0, 0, 0, 0, 0, 0, 0, 0, 0, 0, 0, 0, 0, 0, 0, 0, 0, 0, 1, 1,\n",
       "       1, 1, 2, 2, 2, 2, 2, 2, 2, 2, 2, 2, 2, 2, 2, 2, 2, 2, 2, 2, 2, 2,\n",
       "       2, 2, 2, 2, 0, 0, 0, 0, 0, 0, 0, 0, 0, 0, 0, 0, 0, 0, 0, 0, 0, 0,\n",
       "       0, 0, 1, 1, 1, 1, 2, 2, 2, 2, 2, 2, 2, 2, 2, 2, 2, 2, 2, 2, 2, 2,\n",
       "       2, 2, 2, 2, 2, 2, 2, 2, 0, 0, 0, 0, 0, 0, 0, 0, 0, 0, 0, 0, 0, 0,\n",
       "       0, 0, 0, 0, 0, 0, 1, 1, 1, 1, 2, 2, 2, 2, 2, 2, 2, 2, 2, 2, 2, 2,\n",
       "       2, 2, 2, 2, 2, 2, 2, 2, 2, 2, 2, 2, 0, 0, 0, 0, 0, 0, 0, 0, 0, 0,\n",
       "       0, 0, 0, 0, 0, 0, 0, 0, 0, 0, 1, 1, 1, 1, 2, 2, 2, 2, 2, 2, 2, 2,\n",
       "       2, 2, 2, 2, 2, 2, 2, 2, 2, 2, 2, 2, 2, 2, 2, 2, 0, 0, 0, 0, 0, 0,\n",
       "       0, 0, 0, 0, 0, 0, 0, 0, 0, 0, 0, 0, 0, 0, 1, 1, 1, 1, 2, 2, 2, 2,\n",
       "       2, 2, 2, 2, 2, 2, 2, 2, 2, 2, 2, 2, 2, 2, 2, 2, 2, 2, 2, 2],\n",
       "      dtype=int64)"
      ]
     },
     "execution_count": 22,
     "metadata": {},
     "output_type": "execute_result"
    }
   ],
   "source": [
    "dbs.labels_"
   ]
  },
  {
   "cell_type": "markdown",
   "id": "d1fe82f7",
   "metadata": {},
   "source": [
    "If any cluster membership equals to `-1`, it means such a data point cannot join with any cluster for `DBscan algorithm`.  Finding the optimum hyperparameters can follows the same idea of the elbow method.  However, `DBscan` has 2 hyperparameters, the combination of them could be much more than previous algorithms.  To simplify our study, let's create a simple hyperplane.  \n",
    "**Activity 7**: Create a hyperplane as follows  \n",
    "- Epsilon varied from 0.1 to 0.4 where each step is increased by 0.1.  \n",
    "- Minimum samples varied from 3 to 8 where each step is increased by 1.  \n",
    "\n",
    "Plot the hyperplane."
   ]
  },
  {
   "cell_type": "code",
   "execution_count": 23,
   "id": "25021e64",
   "metadata": {},
   "outputs": [
    {
     "name": "stdout",
     "output_type": "stream",
     "text": [
      "List of epsilons is: [0.1 0.2 0.3 0.4]\n",
      "List of minimum samples is: [3. 4. 5. 6. 7. 8.]\n"
     ]
    }
   ],
   "source": [
    "lower_eps = 0.1\n",
    "upper_eps = 0.4\n",
    "steps_eps = 0.1\n",
    "nticks_eps = round(((upper_eps - lower_eps) / steps_eps)) + 1\n",
    "epsilons = np.linspace(lower_eps, upper_eps, num=nticks_eps, endpoint=True)\n",
    "print(\"List of epsilons is: {}\".format(epsilons))\n",
    "\n",
    "lower_nsamples = 3\n",
    "upper_nsamples = 8\n",
    "steps_nsamples = 1\n",
    "nticks_nsamples = round(((upper_nsamples - lower_nsamples) / steps_nsamples)) + 1\n",
    "nsamples = np.linspace(lower_nsamples, upper_nsamples, num=nticks_nsamples, endpoint=True)\n",
    "print(\"List of minimum samples is: {}\".format(nsamples))"
   ]
  },
  {
   "cell_type": "markdown",
   "id": "ead6862a",
   "metadata": {},
   "source": [
    "Let's determine the cluster membership from optimum hyperparameters."
   ]
  },
  {
   "cell_type": "code",
   "execution_count": 24,
   "id": "98bc7bf7",
   "metadata": {},
   "outputs": [],
   "source": [
    "from itertools import product\n",
    "hparams = list(product(*(epsilons, nsamples)))\n",
    "\n",
    "DBS = {}\n",
    "for hparam in hparams:\n",
    "    DBS[hparam] = DBSCAN(eps=hparam[0], min_samples=int(hparam[1])).fit(X_scaled)\n",
    "\n",
    "scores[\"dbs\"] = [silhouette_score(X_scaled, DBS[hparam].labels_, metric=\"euclidean\") for hparam in hparams]"
   ]
  },
  {
   "cell_type": "markdown",
   "id": "fceffe8f",
   "metadata": {},
   "source": [
    "Visualize the change of silhouette score."
   ]
  },
  {
   "cell_type": "code",
   "execution_count": 25,
   "id": "f3423358",
   "metadata": {
    "scrolled": false
   },
   "outputs": [
    {
     "data": {
      "text/plain": [
       "Text(0, 0.5, 'Silhouette Score')"
      ]
     },
     "execution_count": 25,
     "metadata": {},
     "output_type": "execute_result"
    },
    {
     "data": {
      "image/png": "[encoded data removed]",
      "text/plain": [
       "<Figure size 432x288 with 1 Axes>"
      ]
     },
     "metadata": {
      "needs_background": "light"
     },
     "output_type": "display_data"
    }
   ],
   "source": [
    "plt.plot(range(len(hparams)), scores[\"dbs\"])\n",
    "plt.xlabel(\"hparams\")\n",
    "plt.ylabel(\"Silhouette Score\")"
   ]
  },
  {
   "cell_type": "markdown",
   "id": "2fc5d36a",
   "metadata": {},
   "source": [
    "We can observe that hyperparameter set 12 to 17 return minimum silhouette score.  We could pick any of them.  Let's pick the set 12.  Our optimum hyperparameters are the following."
   ]
  },
  {
   "cell_type": "code",
   "execution_count": 26,
   "id": "aa58c389",
   "metadata": {},
   "outputs": [
    {
     "data": {
      "text/plain": [
       "(0.30000000000000004, 3.0)"
      ]
     },
     "execution_count": 26,
     "metadata": {},
     "output_type": "execute_result"
    }
   ],
   "source": [
    "hparams[12]"
   ]
  },
  {
   "cell_type": "markdown",
   "id": "2a6d06e2",
   "metadata": {},
   "source": [
    "We add this result from the set 12 of hyperparameters to the original data."
   ]
  },
  {
   "cell_type": "code",
   "execution_count": 27,
   "id": "7ab15c19",
   "metadata": {},
   "outputs": [],
   "source": [
    "df[\"dbscan\"] = DBS[hparams[12]].labels_"
   ]
  },
  {
   "cell_type": "code",
   "execution_count": 28,
   "id": "89157d98",
   "metadata": {},
   "outputs": [
    {
     "data": {
      "text/html": [
       "<div>\n",
       "<style scoped>\n",
       "    .dataframe tbody tr th:only-of-type {\n",
       "        vertical-align: middle;\n",
       "    }\n",
       "\n",
       "    .dataframe tbody tr th {\n",
       "        vertical-align: top;\n",
       "    }\n",
       "\n",
       "    .dataframe thead th {\n",
       "        text-align: right;\n",
       "    }\n",
       "</style>\n",
       "<table border=\"1\" class=\"dataframe\">\n",
       "  <thead>\n",
       "    <tr style=\"text-align: right;\">\n",
       "      <th></th>\n",
       "      <th>X1</th>\n",
       "      <th>X2</th>\n",
       "      <th>X3</th>\n",
       "      <th>X4</th>\n",
       "      <th>X5</th>\n",
       "      <th>X6</th>\n",
       "      <th>X7</th>\n",
       "      <th>X8</th>\n",
       "      <th>Y1</th>\n",
       "      <th>Y2</th>\n",
       "      <th>is_energy_saving</th>\n",
       "      <th>orientation</th>\n",
       "      <th>east</th>\n",
       "      <th>north</th>\n",
       "      <th>south</th>\n",
       "      <th>west</th>\n",
       "      <th>kmeans</th>\n",
       "      <th>hac</th>\n",
       "      <th>dbscan</th>\n",
       "    </tr>\n",
       "  </thead>\n",
       "  <tbody>\n",
       "    <tr>\n",
       "      <th>0</th>\n",
       "      <td>0.98</td>\n",
       "      <td>514.5</td>\n",
       "      <td>294.0</td>\n",
       "      <td>110.25</td>\n",
       "      <td>7.0</td>\n",
       "      <td>2</td>\n",
       "      <td>0.0</td>\n",
       "      <td>0</td>\n",
       "      <td>15.55</td>\n",
       "      <td>21.33</td>\n",
       "      <td>1</td>\n",
       "      <td>north</td>\n",
       "      <td>0</td>\n",
       "      <td>1</td>\n",
       "      <td>0</td>\n",
       "      <td>0</td>\n",
       "      <td>1</td>\n",
       "      <td>5</td>\n",
       "      <td>0</td>\n",
       "    </tr>\n",
       "    <tr>\n",
       "      <th>1</th>\n",
       "      <td>0.98</td>\n",
       "      <td>514.5</td>\n",
       "      <td>294.0</td>\n",
       "      <td>110.25</td>\n",
       "      <td>7.0</td>\n",
       "      <td>3</td>\n",
       "      <td>0.0</td>\n",
       "      <td>0</td>\n",
       "      <td>15.55</td>\n",
       "      <td>21.33</td>\n",
       "      <td>1</td>\n",
       "      <td>east</td>\n",
       "      <td>1</td>\n",
       "      <td>0</td>\n",
       "      <td>0</td>\n",
       "      <td>0</td>\n",
       "      <td>1</td>\n",
       "      <td>5</td>\n",
       "      <td>0</td>\n",
       "    </tr>\n",
       "    <tr>\n",
       "      <th>2</th>\n",
       "      <td>0.98</td>\n",
       "      <td>514.5</td>\n",
       "      <td>294.0</td>\n",
       "      <td>110.25</td>\n",
       "      <td>7.0</td>\n",
       "      <td>4</td>\n",
       "      <td>0.0</td>\n",
       "      <td>0</td>\n",
       "      <td>15.55</td>\n",
       "      <td>21.33</td>\n",
       "      <td>1</td>\n",
       "      <td>south</td>\n",
       "      <td>0</td>\n",
       "      <td>0</td>\n",
       "      <td>1</td>\n",
       "      <td>0</td>\n",
       "      <td>1</td>\n",
       "      <td>5</td>\n",
       "      <td>0</td>\n",
       "    </tr>\n",
       "    <tr>\n",
       "      <th>3</th>\n",
       "      <td>0.98</td>\n",
       "      <td>514.5</td>\n",
       "      <td>294.0</td>\n",
       "      <td>110.25</td>\n",
       "      <td>7.0</td>\n",
       "      <td>5</td>\n",
       "      <td>0.0</td>\n",
       "      <td>0</td>\n",
       "      <td>15.55</td>\n",
       "      <td>21.33</td>\n",
       "      <td>1</td>\n",
       "      <td>west</td>\n",
       "      <td>0</td>\n",
       "      <td>0</td>\n",
       "      <td>0</td>\n",
       "      <td>1</td>\n",
       "      <td>1</td>\n",
       "      <td>5</td>\n",
       "      <td>0</td>\n",
       "    </tr>\n",
       "    <tr>\n",
       "      <th>4</th>\n",
       "      <td>0.90</td>\n",
       "      <td>563.5</td>\n",
       "      <td>318.5</td>\n",
       "      <td>122.50</td>\n",
       "      <td>7.0</td>\n",
       "      <td>2</td>\n",
       "      <td>0.0</td>\n",
       "      <td>0</td>\n",
       "      <td>20.84</td>\n",
       "      <td>28.28</td>\n",
       "      <td>1</td>\n",
       "      <td>north</td>\n",
       "      <td>0</td>\n",
       "      <td>1</td>\n",
       "      <td>0</td>\n",
       "      <td>0</td>\n",
       "      <td>1</td>\n",
       "      <td>5</td>\n",
       "      <td>1</td>\n",
       "    </tr>\n",
       "    <tr>\n",
       "      <th>5</th>\n",
       "      <td>0.90</td>\n",
       "      <td>563.5</td>\n",
       "      <td>318.5</td>\n",
       "      <td>122.50</td>\n",
       "      <td>7.0</td>\n",
       "      <td>3</td>\n",
       "      <td>0.0</td>\n",
       "      <td>0</td>\n",
       "      <td>21.46</td>\n",
       "      <td>25.38</td>\n",
       "      <td>1</td>\n",
       "      <td>east</td>\n",
       "      <td>1</td>\n",
       "      <td>0</td>\n",
       "      <td>0</td>\n",
       "      <td>0</td>\n",
       "      <td>1</td>\n",
       "      <td>5</td>\n",
       "      <td>1</td>\n",
       "    </tr>\n",
       "    <tr>\n",
       "      <th>6</th>\n",
       "      <td>0.90</td>\n",
       "      <td>563.5</td>\n",
       "      <td>318.5</td>\n",
       "      <td>122.50</td>\n",
       "      <td>7.0</td>\n",
       "      <td>4</td>\n",
       "      <td>0.0</td>\n",
       "      <td>0</td>\n",
       "      <td>20.71</td>\n",
       "      <td>25.16</td>\n",
       "      <td>1</td>\n",
       "      <td>south</td>\n",
       "      <td>0</td>\n",
       "      <td>0</td>\n",
       "      <td>1</td>\n",
       "      <td>0</td>\n",
       "      <td>1</td>\n",
       "      <td>5</td>\n",
       "      <td>1</td>\n",
       "    </tr>\n",
       "    <tr>\n",
       "      <th>7</th>\n",
       "      <td>0.90</td>\n",
       "      <td>563.5</td>\n",
       "      <td>318.5</td>\n",
       "      <td>122.50</td>\n",
       "      <td>7.0</td>\n",
       "      <td>5</td>\n",
       "      <td>0.0</td>\n",
       "      <td>0</td>\n",
       "      <td>19.68</td>\n",
       "      <td>29.60</td>\n",
       "      <td>1</td>\n",
       "      <td>west</td>\n",
       "      <td>0</td>\n",
       "      <td>0</td>\n",
       "      <td>0</td>\n",
       "      <td>1</td>\n",
       "      <td>1</td>\n",
       "      <td>5</td>\n",
       "      <td>1</td>\n",
       "    </tr>\n",
       "    <tr>\n",
       "      <th>8</th>\n",
       "      <td>0.86</td>\n",
       "      <td>588.0</td>\n",
       "      <td>294.0</td>\n",
       "      <td>147.00</td>\n",
       "      <td>7.0</td>\n",
       "      <td>2</td>\n",
       "      <td>0.0</td>\n",
       "      <td>0</td>\n",
       "      <td>19.50</td>\n",
       "      <td>27.30</td>\n",
       "      <td>1</td>\n",
       "      <td>north</td>\n",
       "      <td>0</td>\n",
       "      <td>1</td>\n",
       "      <td>0</td>\n",
       "      <td>0</td>\n",
       "      <td>1</td>\n",
       "      <td>5</td>\n",
       "      <td>1</td>\n",
       "    </tr>\n",
       "    <tr>\n",
       "      <th>9</th>\n",
       "      <td>0.86</td>\n",
       "      <td>588.0</td>\n",
       "      <td>294.0</td>\n",
       "      <td>147.00</td>\n",
       "      <td>7.0</td>\n",
       "      <td>3</td>\n",
       "      <td>0.0</td>\n",
       "      <td>0</td>\n",
       "      <td>19.95</td>\n",
       "      <td>21.97</td>\n",
       "      <td>1</td>\n",
       "      <td>east</td>\n",
       "      <td>1</td>\n",
       "      <td>0</td>\n",
       "      <td>0</td>\n",
       "      <td>0</td>\n",
       "      <td>1</td>\n",
       "      <td>5</td>\n",
       "      <td>1</td>\n",
       "    </tr>\n",
       "  </tbody>\n",
       "</table>\n",
       "</div>"
      ],
      "text/plain": [
       "     X1     X2     X3      X4   X5  X6   X7  X8     Y1     Y2  \\\n",
       "0  0.98  514.5  294.0  110.25  7.0   2  0.0   0  15.55  21.33   \n",
       "1  0.98  514.5  294.0  110.25  7.0   3  0.0   0  15.55  21.33   \n",
       "2  0.98  514.5  294.0  110.25  7.0   4  0.0   0  15.55  21.33   \n",
       "3  0.98  514.5  294.0  110.25  7.0   5  0.0   0  15.55  21.33   \n",
       "4  0.90  563.5  318.5  122.50  7.0   2  0.0   0  20.84  28.28   \n",
       "5  0.90  563.5  318.5  122.50  7.0   3  0.0   0  21.46  25.38   \n",
       "6  0.90  563.5  318.5  122.50  7.0   4  0.0   0  20.71  25.16   \n",
       "7  0.90  563.5  318.5  122.50  7.0   5  0.0   0  19.68  29.60   \n",
       "8  0.86  588.0  294.0  147.00  7.0   2  0.0   0  19.50  27.30   \n",
       "9  0.86  588.0  294.0  147.00  7.0   3  0.0   0  19.95  21.97   \n",
       "\n",
       "   is_energy_saving orientation  east  north  south  west  kmeans  hac  dbscan  \n",
       "0                 1       north     0      1      0     0       1    5       0  \n",
       "1                 1        east     1      0      0     0       1    5       0  \n",
       "2                 1       south     0      0      1     0       1    5       0  \n",
       "3                 1        west     0      0      0     1       1    5       0  \n",
       "4                 1       north     0      1      0     0       1    5       1  \n",
       "5                 1        east     1      0      0     0       1    5       1  \n",
       "6                 1       south     0      0      1     0       1    5       1  \n",
       "7                 1        west     0      0      0     1       1    5       1  \n",
       "8                 1       north     0      1      0     0       1    5       1  \n",
       "9                 1        east     1      0      0     0       1    5       1  "
      ]
     },
     "execution_count": 28,
     "metadata": {},
     "output_type": "execute_result"
    }
   ],
   "source": [
    "df.head(10)"
   ]
  },
  {
   "cell_type": "markdown",
   "id": "a9b49c40",
   "metadata": {},
   "source": [
    "# Interpretation  \n",
    "\n",
    "The aim of clustering is to reveal hidden structure in data that leads to some meaningful interpretation.  We shall compare the statistical parameters for each feature of each group incoporate with the categorical data that was excluded in feature selection.  `Seaborn` is an easy plot tool for this case that can be installed via command `pip install seaborn`.  We will demonstrate one cluster from the `K-means`. "
   ]
  },
  {
   "cell_type": "code",
   "execution_count": 43,
   "id": "103d2092",
   "metadata": {},
   "outputs": [
    {
     "data": {
      "image/png": "[encoded data removed]",
      "text/plain": [
       "<Figure size 864x504 with 6 Axes>"
      ]
     },
     "metadata": {
      "needs_background": "light"
     },
     "output_type": "display_data"
    }
   ],
   "source": [
    "import seaborn as sns\n",
    "\n",
    "fig, ax = plt.subplots(nrows=2, ncols=3, figsize=(12, 7), sharex=True)\n",
    "\n",
    "sns.boxplot(x=\"kmeans\", y=\"X1\", data=df, ax=ax[0, 0])\n",
    "ax[0, 0].set_xlabel(\"\")\n",
    "ax[0, 0].set_ylabel(\"Volume to Surface Ratio\")\n",
    "\n",
    "sns.boxplot(x=\"kmeans\", y=\"X2\", data=df, ax=ax[0, 1])\n",
    "ax[0, 1].set_xlabel(\"\")\n",
    "ax[0, 1].set_ylabel(\"Surface Area\")\n",
    "\n",
    "sns.boxplot(x=\"kmeans\", y=\"X3\", data=df, ax=ax[0, 2])\n",
    "ax[0, 2].set_xlabel(\"\")\n",
    "ax[0, 2].set_ylabel(\"Wall Area\")\n",
    "\n",
    "sns.boxplot(x=\"kmeans\", y=\"X4\", data=df, ax=ax[1, 0])\n",
    "ax[1, 0].set_xlabel(\"\")\n",
    "ax[1, 0].set_ylabel(\"Roof Area\")\n",
    "\n",
    "sns.boxplot(x=\"kmeans\", y=\"X5\", data=df, ax=ax[1, 1])\n",
    "ax[1, 1].set_xlabel(\"\")\n",
    "ax[1, 1].set_ylabel(\"Overall Height\")\n",
    "\n",
    "sns.boxplot(x=\"kmeans\", y=\"X7\", data=df, ax=ax[1, 2])\n",
    "ax[1, 2].set_xlabel(\"\")\n",
    "ax[1, 2].set_ylabel(\"Glazing Area\")\n",
    "\n",
    "plt.suptitle(\"K-Means\")\n",
    "fig.tight_layout()"
   ]
  },
  {
   "cell_type": "markdown",
   "id": "80cce220",
   "metadata": {},
   "source": [
    "We can interpret the characteristics of each cluster as follows.  \n",
    "**Cluster 0**: This cluster is one of the hardest for heat transferring compated to other clusters indicated by `X1`.  It has very large surface areas and highest variation of the wall area.  The roof area is very large but less variation.  Its overall height and overall glazing area are one of the lowest values.  Such characteristics probably reflect a one-floor modern style.  \n",
    "![Cluster0](https://www.banidea.com/wp-content/uploads/2020/04/roehnerryan-weave-modern-house-15-620x465.jpg)"
   ]
  },
  {
   "cell_type": "markdown",
   "id": "43c9d662",
   "metadata": {},
   "source": [
    "Save your data for further use in `Orange`."
   ]
  },
  {
   "cell_type": "code",
   "execution_count": null,
   "id": "e3875aab",
   "metadata": {},
   "outputs": [],
   "source": [
    "df.to_csv(\"../data/lab5-data.csv\", index-False)"
   ]
  },
  {
   "cell_type": "markdown",
   "id": "b2e4dafb",
   "metadata": {},
   "source": [
    "# Congratulation  \n",
    "You have completed the lab 5.  Good jobs."
   ]
  },
  {
   "cell_type": "code",
   "execution_count": null,
   "id": "7cc7244f",
   "metadata": {},
   "outputs": [],
   "source": []
  }
 ],
 "metadata": {
  "kernelspec": {
   "display_name": "Python 3 (ipykernel)",
   "language": "python",
   "name": "python3"
  },
  "language_info": {
   "codemirror_mode": {
    "name": "ipython",
    "version": 3
   },
   "file_extension": ".py",
   "mimetype": "text/x-python",
   "name": "python",
   "nbconvert_exporter": "python",
   "pygments_lexer": "ipython3",
   "version": "3.9.0"
  }
 },
 "nbformat": 4,
 "nbformat_minor": 5
}
