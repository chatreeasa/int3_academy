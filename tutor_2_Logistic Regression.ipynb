{
  "cells": [
    {
      "cell_type": "markdown",
      "id": "e0bc4577",
      "metadata": {
        "id": "e0bc4577"
      },
      "source": [
        "# Import Data  \n",
        "\n",
        "\n",
        "**Activity 1**: Read data in an `csv` file to a pandas dataframe."
      ]
    },
    {
      "cell_type": "code",
      "execution_count": 1,
      "id": "ad5fc978",
      "metadata": {
        "id": "ad5fc978"
      },
      "outputs": [],
      "source": [
        "import pandas as pd\n",
        "\n",
        "df = pd.read_csv(\"ENB2012_data.csv\")\n",
        "# -----------------------------------"
      ]
    },
    {
      "cell_type": "markdown",
      "id": "58e588ae",
      "metadata": {
        "id": "58e588ae"
      },
      "source": [
        "Explore the first 10 rows in the dataframe."
      ]
    },
    {
      "cell_type": "code",
      "execution_count": 2,
      "id": "9351781a",
      "metadata": {
        "colab": {
          "base_uri": "https://localhost:8080/",
          "height": 363
        },
        "id": "9351781a",
        "outputId": "da24825e-564f-476e-d548-6dc9df231a5e"
      },
      "outputs": [
        {
          "data": {
            "text/html": [
              "<div>\n",
              "<style scoped>\n",
              "    .dataframe tbody tr th:only-of-type {\n",
              "        vertical-align: middle;\n",
              "    }\n",
              "\n",
              "    .dataframe tbody tr th {\n",
              "        vertical-align: top;\n",
              "    }\n",
              "\n",
              "    .dataframe thead th {\n",
              "        text-align: right;\n",
              "    }\n",
              "</style>\n",
              "<table border=\"1\" class=\"dataframe\">\n",
              "  <thead>\n",
              "    <tr style=\"text-align: right;\">\n",
              "      <th></th>\n",
              "      <th>X1</th>\n",
              "      <th>X2</th>\n",
              "      <th>X3</th>\n",
              "      <th>X4</th>\n",
              "      <th>X5</th>\n",
              "      <th>X6</th>\n",
              "      <th>X7</th>\n",
              "      <th>X8</th>\n",
              "      <th>Y1</th>\n",
              "      <th>Y2</th>\n",
              "    </tr>\n",
              "  </thead>\n",
              "  <tbody>\n",
              "    <tr>\n",
              "      <th>0</th>\n",
              "      <td>0.98</td>\n",
              "      <td>514.5</td>\n",
              "      <td>294.0</td>\n",
              "      <td>110.25</td>\n",
              "      <td>7.0</td>\n",
              "      <td>2</td>\n",
              "      <td>0.0</td>\n",
              "      <td>0</td>\n",
              "      <td>15.55</td>\n",
              "      <td>21.33</td>\n",
              "    </tr>\n",
              "    <tr>\n",
              "      <th>1</th>\n",
              "      <td>0.98</td>\n",
              "      <td>514.5</td>\n",
              "      <td>294.0</td>\n",
              "      <td>110.25</td>\n",
              "      <td>7.0</td>\n",
              "      <td>3</td>\n",
              "      <td>0.0</td>\n",
              "      <td>0</td>\n",
              "      <td>15.55</td>\n",
              "      <td>21.33</td>\n",
              "    </tr>\n",
              "    <tr>\n",
              "      <th>2</th>\n",
              "      <td>0.98</td>\n",
              "      <td>514.5</td>\n",
              "      <td>294.0</td>\n",
              "      <td>110.25</td>\n",
              "      <td>7.0</td>\n",
              "      <td>4</td>\n",
              "      <td>0.0</td>\n",
              "      <td>0</td>\n",
              "      <td>15.55</td>\n",
              "      <td>21.33</td>\n",
              "    </tr>\n",
              "    <tr>\n",
              "      <th>3</th>\n",
              "      <td>0.98</td>\n",
              "      <td>514.5</td>\n",
              "      <td>294.0</td>\n",
              "      <td>110.25</td>\n",
              "      <td>7.0</td>\n",
              "      <td>5</td>\n",
              "      <td>0.0</td>\n",
              "      <td>0</td>\n",
              "      <td>15.55</td>\n",
              "      <td>21.33</td>\n",
              "    </tr>\n",
              "    <tr>\n",
              "      <th>4</th>\n",
              "      <td>0.90</td>\n",
              "      <td>563.5</td>\n",
              "      <td>318.5</td>\n",
              "      <td>122.50</td>\n",
              "      <td>7.0</td>\n",
              "      <td>2</td>\n",
              "      <td>0.0</td>\n",
              "      <td>0</td>\n",
              "      <td>20.84</td>\n",
              "      <td>28.28</td>\n",
              "    </tr>\n",
              "    <tr>\n",
              "      <th>...</th>\n",
              "      <td>...</td>\n",
              "      <td>...</td>\n",
              "      <td>...</td>\n",
              "      <td>...</td>\n",
              "      <td>...</td>\n",
              "      <td>...</td>\n",
              "      <td>...</td>\n",
              "      <td>...</td>\n",
              "      <td>...</td>\n",
              "      <td>...</td>\n",
              "    </tr>\n",
              "    <tr>\n",
              "      <th>763</th>\n",
              "      <td>0.64</td>\n",
              "      <td>784.0</td>\n",
              "      <td>343.0</td>\n",
              "      <td>220.50</td>\n",
              "      <td>3.5</td>\n",
              "      <td>5</td>\n",
              "      <td>0.4</td>\n",
              "      <td>5</td>\n",
              "      <td>17.88</td>\n",
              "      <td>21.40</td>\n",
              "    </tr>\n",
              "    <tr>\n",
              "      <th>764</th>\n",
              "      <td>0.62</td>\n",
              "      <td>808.5</td>\n",
              "      <td>367.5</td>\n",
              "      <td>220.50</td>\n",
              "      <td>3.5</td>\n",
              "      <td>2</td>\n",
              "      <td>0.4</td>\n",
              "      <td>5</td>\n",
              "      <td>16.54</td>\n",
              "      <td>16.88</td>\n",
              "    </tr>\n",
              "    <tr>\n",
              "      <th>765</th>\n",
              "      <td>0.62</td>\n",
              "      <td>808.5</td>\n",
              "      <td>367.5</td>\n",
              "      <td>220.50</td>\n",
              "      <td>3.5</td>\n",
              "      <td>3</td>\n",
              "      <td>0.4</td>\n",
              "      <td>5</td>\n",
              "      <td>16.44</td>\n",
              "      <td>17.11</td>\n",
              "    </tr>\n",
              "    <tr>\n",
              "      <th>766</th>\n",
              "      <td>0.62</td>\n",
              "      <td>808.5</td>\n",
              "      <td>367.5</td>\n",
              "      <td>220.50</td>\n",
              "      <td>3.5</td>\n",
              "      <td>4</td>\n",
              "      <td>0.4</td>\n",
              "      <td>5</td>\n",
              "      <td>16.48</td>\n",
              "      <td>16.61</td>\n",
              "    </tr>\n",
              "    <tr>\n",
              "      <th>767</th>\n",
              "      <td>0.62</td>\n",
              "      <td>808.5</td>\n",
              "      <td>367.5</td>\n",
              "      <td>220.50</td>\n",
              "      <td>3.5</td>\n",
              "      <td>5</td>\n",
              "      <td>0.4</td>\n",
              "      <td>5</td>\n",
              "      <td>16.64</td>\n",
              "      <td>16.03</td>\n",
              "    </tr>\n",
              "  </tbody>\n",
              "</table>\n",
              "<p>768 rows × 10 columns</p>\n",
              "</div>"
            ],
            "text/plain": [
              "       X1     X2     X3      X4   X5  X6   X7  X8     Y1     Y2\n",
              "0    0.98  514.5  294.0  110.25  7.0   2  0.0   0  15.55  21.33\n",
              "1    0.98  514.5  294.0  110.25  7.0   3  0.0   0  15.55  21.33\n",
              "2    0.98  514.5  294.0  110.25  7.0   4  0.0   0  15.55  21.33\n",
              "3    0.98  514.5  294.0  110.25  7.0   5  0.0   0  15.55  21.33\n",
              "4    0.90  563.5  318.5  122.50  7.0   2  0.0   0  20.84  28.28\n",
              "..    ...    ...    ...     ...  ...  ..  ...  ..    ...    ...\n",
              "763  0.64  784.0  343.0  220.50  3.5   5  0.4   5  17.88  21.40\n",
              "764  0.62  808.5  367.5  220.50  3.5   2  0.4   5  16.54  16.88\n",
              "765  0.62  808.5  367.5  220.50  3.5   3  0.4   5  16.44  17.11\n",
              "766  0.62  808.5  367.5  220.50  3.5   4  0.4   5  16.48  16.61\n",
              "767  0.62  808.5  367.5  220.50  3.5   5  0.4   5  16.64  16.03\n",
              "\n",
              "[768 rows x 10 columns]"
            ]
          },
          "execution_count": 2,
          "metadata": {},
          "output_type": "execute_result"
        }
      ],
      "source": [
        "\n",
        "df\n",
        "# -----------------------------------"
      ]
    },
    {
      "cell_type": "markdown",
      "id": "4777f822",
      "metadata": {
        "id": "4777f822"
      },
      "source": [
        "Check for data type of each columns"
      ]
    },
    {
      "cell_type": "code",
      "execution_count": 3,
      "id": "7483ec8b",
      "metadata": {
        "colab": {
          "base_uri": "https://localhost:8080/"
        },
        "id": "7483ec8b",
        "outputId": "06d7843e-ce37-448f-cbd9-2ced648c1399",
        "scrolled": true
      },
      "outputs": [
        {
          "data": {
            "text/plain": [
              "X1    float64\n",
              "X2    float64\n",
              "X3    float64\n",
              "X4    float64\n",
              "X5    float64\n",
              "X6      int64\n",
              "X7    float64\n",
              "X8      int64\n",
              "Y1    float64\n",
              "Y2    float64\n",
              "dtype: object"
            ]
          },
          "execution_count": 3,
          "metadata": {},
          "output_type": "execute_result"
        }
      ],
      "source": [
        "df.dtypes"
      ]
    },
    {
      "cell_type": "markdown",
      "id": "dd3b79ff",
      "metadata": {
        "id": "dd3b79ff"
      },
      "source": [
        "**Activity 2**: Label preparation.  Our label indicates whether a sample is an energy saving or not.  The energy saving refers to the difference between heating load (hl) and the cooling load (cl) that is greater than a threshold (alpha).  In this tutorials, we set alpha equal to 1.  Complete the following utility function `getlabel`. Where `Y1` is Heatling Load, `Y2` is Cooling load. "
      ]
    },
    {
      "cell_type": "code",
      "execution_count": 4,
      "id": "afd5096f",
      "metadata": {
        "id": "afd5096f"
      },
      "outputs": [],
      "source": [
        "import numpy as np\n",
        "\n",
        "def getlabel(hl, cl, alpha=1):\n",
        "    \n",
        "    if np.abs(hl - cl) - alpha >= 0:\n",
        "    \n",
        "        return 1\n",
        "    else:\n",
        "        return 0"
      ]
    },
    {
      "cell_type": "markdown",
      "id": "5505f8b9",
      "metadata": {
        "id": "5505f8b9"
      },
      "source": [
        "Apply the `getlabel` to create the new column in dataframe `df` using the annonymous function `lambda`."
      ]
    },
    {
      "cell_type": "code",
      "execution_count": 5,
      "id": "1aa6ab26",
      "metadata": {
        "id": "1aa6ab26"
      },
      "outputs": [],
      "source": [
        "df[\"is_energy_saving\"] = df.apply(lambda x: getlabel(x[\"Y1\"], x[\"Y2\"]), axis=1)"
      ]
    },
    {
      "cell_type": "code",
      "execution_count": 6,
      "id": "cf93d7d2",
      "metadata": {
        "colab": {
          "base_uri": "https://localhost:8080/",
          "height": 206
        },
        "id": "cf93d7d2",
        "outputId": "2078e7fb-1b7a-40b5-8d35-d1cf423bed2a"
      },
      "outputs": [
        {
          "data": {
            "text/html": [
              "<div>\n",
              "<style scoped>\n",
              "    .dataframe tbody tr th:only-of-type {\n",
              "        vertical-align: middle;\n",
              "    }\n",
              "\n",
              "    .dataframe tbody tr th {\n",
              "        vertical-align: top;\n",
              "    }\n",
              "\n",
              "    .dataframe thead th {\n",
              "        text-align: right;\n",
              "    }\n",
              "</style>\n",
              "<table border=\"1\" class=\"dataframe\">\n",
              "  <thead>\n",
              "    <tr style=\"text-align: right;\">\n",
              "      <th></th>\n",
              "      <th>X1</th>\n",
              "      <th>X2</th>\n",
              "      <th>X3</th>\n",
              "      <th>X4</th>\n",
              "      <th>X5</th>\n",
              "      <th>X6</th>\n",
              "      <th>X7</th>\n",
              "      <th>X8</th>\n",
              "      <th>Y1</th>\n",
              "      <th>Y2</th>\n",
              "      <th>is_energy_saving</th>\n",
              "    </tr>\n",
              "  </thead>\n",
              "  <tbody>\n",
              "    <tr>\n",
              "      <th>0</th>\n",
              "      <td>0.98</td>\n",
              "      <td>514.5</td>\n",
              "      <td>294.0</td>\n",
              "      <td>110.25</td>\n",
              "      <td>7.0</td>\n",
              "      <td>2</td>\n",
              "      <td>0.0</td>\n",
              "      <td>0</td>\n",
              "      <td>15.55</td>\n",
              "      <td>21.33</td>\n",
              "      <td>1</td>\n",
              "    </tr>\n",
              "    <tr>\n",
              "      <th>1</th>\n",
              "      <td>0.98</td>\n",
              "      <td>514.5</td>\n",
              "      <td>294.0</td>\n",
              "      <td>110.25</td>\n",
              "      <td>7.0</td>\n",
              "      <td>3</td>\n",
              "      <td>0.0</td>\n",
              "      <td>0</td>\n",
              "      <td>15.55</td>\n",
              "      <td>21.33</td>\n",
              "      <td>1</td>\n",
              "    </tr>\n",
              "    <tr>\n",
              "      <th>2</th>\n",
              "      <td>0.98</td>\n",
              "      <td>514.5</td>\n",
              "      <td>294.0</td>\n",
              "      <td>110.25</td>\n",
              "      <td>7.0</td>\n",
              "      <td>4</td>\n",
              "      <td>0.0</td>\n",
              "      <td>0</td>\n",
              "      <td>15.55</td>\n",
              "      <td>21.33</td>\n",
              "      <td>1</td>\n",
              "    </tr>\n",
              "    <tr>\n",
              "      <th>3</th>\n",
              "      <td>0.98</td>\n",
              "      <td>514.5</td>\n",
              "      <td>294.0</td>\n",
              "      <td>110.25</td>\n",
              "      <td>7.0</td>\n",
              "      <td>5</td>\n",
              "      <td>0.0</td>\n",
              "      <td>0</td>\n",
              "      <td>15.55</td>\n",
              "      <td>21.33</td>\n",
              "      <td>1</td>\n",
              "    </tr>\n",
              "    <tr>\n",
              "      <th>4</th>\n",
              "      <td>0.90</td>\n",
              "      <td>563.5</td>\n",
              "      <td>318.5</td>\n",
              "      <td>122.50</td>\n",
              "      <td>7.0</td>\n",
              "      <td>2</td>\n",
              "      <td>0.0</td>\n",
              "      <td>0</td>\n",
              "      <td>20.84</td>\n",
              "      <td>28.28</td>\n",
              "      <td>1</td>\n",
              "    </tr>\n",
              "  </tbody>\n",
              "</table>\n",
              "</div>"
            ],
            "text/plain": [
              "     X1     X2     X3      X4   X5  X6   X7  X8     Y1     Y2  \\\n",
              "0  0.98  514.5  294.0  110.25  7.0   2  0.0   0  15.55  21.33   \n",
              "1  0.98  514.5  294.0  110.25  7.0   3  0.0   0  15.55  21.33   \n",
              "2  0.98  514.5  294.0  110.25  7.0   4  0.0   0  15.55  21.33   \n",
              "3  0.98  514.5  294.0  110.25  7.0   5  0.0   0  15.55  21.33   \n",
              "4  0.90  563.5  318.5  122.50  7.0   2  0.0   0  20.84  28.28   \n",
              "\n",
              "   is_energy_saving  \n",
              "0                 1  \n",
              "1                 1  \n",
              "2                 1  \n",
              "3                 1  \n",
              "4                 1  "
            ]
          },
          "execution_count": 6,
          "metadata": {},
          "output_type": "execute_result"
        }
      ],
      "source": [
        "df.head()"
      ]
    },
    {
      "cell_type": "markdown",
      "id": "05d73049",
      "metadata": {
        "id": "05d73049"
      },
      "source": [
        "# Exploratory Data Analysis  \n",
        "\n",
        "For classification task, it is important to understand the class distribution.  \n",
        "Use `groupby` to explore the class distribution over `is_energy_saving`."
      ]
    },
    {
      "cell_type": "code",
      "execution_count": 7,
      "id": "37c6bf31",
      "metadata": {
        "colab": {
          "base_uri": "https://localhost:8080/",
          "height": 112
        },
        "id": "37c6bf31",
        "outputId": "1e3f4df6-b84e-4d93-9316-159f6f502e6a"
      },
      "outputs": [
        {
          "data": {
            "text/html": [
              "<div>\n",
              "<style scoped>\n",
              "    .dataframe tbody tr th:only-of-type {\n",
              "        vertical-align: middle;\n",
              "    }\n",
              "\n",
              "    .dataframe tbody tr th {\n",
              "        vertical-align: top;\n",
              "    }\n",
              "\n",
              "    .dataframe thead th {\n",
              "        text-align: right;\n",
              "    }\n",
              "</style>\n",
              "<table border=\"1\" class=\"dataframe\">\n",
              "  <thead>\n",
              "    <tr style=\"text-align: right;\">\n",
              "      <th></th>\n",
              "      <th>is_energy_saving</th>\n",
              "      <th>#</th>\n",
              "    </tr>\n",
              "  </thead>\n",
              "  <tbody>\n",
              "    <tr>\n",
              "      <th>0</th>\n",
              "      <td>0</td>\n",
              "      <td>148</td>\n",
              "    </tr>\n",
              "    <tr>\n",
              "      <th>1</th>\n",
              "      <td>1</td>\n",
              "      <td>620</td>\n",
              "    </tr>\n",
              "  </tbody>\n",
              "</table>\n",
              "</div>"
            ],
            "text/plain": [
              "   is_energy_saving    #\n",
              "0                 0  148\n",
              "1                 1  620"
            ]
          },
          "execution_count": 7,
          "metadata": {},
          "output_type": "execute_result"
        }
      ],
      "source": [
        "df.groupby(\"is_energy_saving\").size().reset_index(name=\"#\")"
      ]
    },
    {
      "cell_type": "markdown",
      "id": "96e24d10",
      "metadata": {
        "id": "96e24d10"
      },
      "source": [
        "Make sure that all variables are usable and clearly defined.  "
      ]
    },
    {
      "cell_type": "code",
      "execution_count": 8,
      "id": "5656fa39",
      "metadata": {},
      "outputs": [
        {
          "name": "stdout",
          "output_type": "stream",
          "text": [
            "<class 'pandas.core.frame.DataFrame'>\n",
            "RangeIndex: 768 entries, 0 to 767\n",
            "Data columns (total 11 columns):\n",
            " #   Column            Non-Null Count  Dtype  \n",
            "---  ------            --------------  -----  \n",
            " 0   X1                768 non-null    float64\n",
            " 1   X2                768 non-null    float64\n",
            " 2   X3                768 non-null    float64\n",
            " 3   X4                768 non-null    float64\n",
            " 4   X5                768 non-null    float64\n",
            " 5   X6                768 non-null    int64  \n",
            " 6   X7                768 non-null    float64\n",
            " 7   X8                768 non-null    int64  \n",
            " 8   Y1                768 non-null    float64\n",
            " 9   Y2                768 non-null    float64\n",
            " 10  is_energy_saving  768 non-null    int64  \n",
            "dtypes: float64(8), int64(3)\n",
            "memory usage: 66.1 KB\n"
          ]
        }
      ],
      "source": [
        "df.info()"
      ]
    },
    {
      "cell_type": "code",
      "execution_count": 9,
      "id": "1814a57d",
      "metadata": {
        "colab": {
          "base_uri": "https://localhost:8080/",
          "height": 237
        },
        "id": "1814a57d",
        "outputId": "dea7821b-2a9e-4e73-ad20-3efd5ec095bb"
      },
      "outputs": [
        {
          "data": {
            "text/html": [
              "<div>\n",
              "<style scoped>\n",
              "    .dataframe tbody tr th:only-of-type {\n",
              "        vertical-align: middle;\n",
              "    }\n",
              "\n",
              "    .dataframe tbody tr th {\n",
              "        vertical-align: top;\n",
              "    }\n",
              "\n",
              "    .dataframe thead th {\n",
              "        text-align: right;\n",
              "    }\n",
              "</style>\n",
              "<table border=\"1\" class=\"dataframe\">\n",
              "  <thead>\n",
              "    <tr style=\"text-align: right;\">\n",
              "      <th></th>\n",
              "      <th>X8</th>\n",
              "      <th>#</th>\n",
              "    </tr>\n",
              "  </thead>\n",
              "  <tbody>\n",
              "    <tr>\n",
              "      <th>0</th>\n",
              "      <td>0</td>\n",
              "      <td>48</td>\n",
              "    </tr>\n",
              "    <tr>\n",
              "      <th>1</th>\n",
              "      <td>1</td>\n",
              "      <td>144</td>\n",
              "    </tr>\n",
              "    <tr>\n",
              "      <th>2</th>\n",
              "      <td>2</td>\n",
              "      <td>144</td>\n",
              "    </tr>\n",
              "    <tr>\n",
              "      <th>3</th>\n",
              "      <td>3</td>\n",
              "      <td>144</td>\n",
              "    </tr>\n",
              "    <tr>\n",
              "      <th>4</th>\n",
              "      <td>4</td>\n",
              "      <td>144</td>\n",
              "    </tr>\n",
              "    <tr>\n",
              "      <th>5</th>\n",
              "      <td>5</td>\n",
              "      <td>144</td>\n",
              "    </tr>\n",
              "  </tbody>\n",
              "</table>\n",
              "</div>"
            ],
            "text/plain": [
              "   X8    #\n",
              "0   0   48\n",
              "1   1  144\n",
              "2   2  144\n",
              "3   3  144\n",
              "4   4  144\n",
              "5   5  144"
            ]
          },
          "execution_count": 9,
          "metadata": {},
          "output_type": "execute_result"
        }
      ],
      "source": [
        "df.groupby(\"X8\").size().reset_index(name=\"#\")"
      ]
    },
    {
      "cell_type": "markdown",
      "id": "c85fad60",
      "metadata": {
        "id": "c85fad60"
      },
      "source": [
        "By cross checking with the dataset documents, we found that the variable `X8` was inconsistent.  The document defined its possible values as 1, 2, 3, 4, and 5 but the actual data has undefined value as zero.  Therefore, the `X8` will be excluded from our analysis."
      ]
    },
    {
      "cell_type": "markdown",
      "id": "932ec7df",
      "metadata": {
        "id": "932ec7df"
      },
      "source": [
        "# Create dummy variables  \n",
        "\n",
        "Logistic regerssion requires dummy variables to handle a categorical variable.  \n",
        "**Activity 3**: Map the following values in `X6` then create dummy variables.  \n",
        "- 2: north  \n",
        "- 3: east  \n",
        "- 4: south  \n",
        "- 5: west  \n",
        "\n",
        "Then concatenate the dummy variables to the original dataframe."
      ]
    },
    {
      "cell_type": "code",
      "execution_count": 10,
      "id": "41830c86",
      "metadata": {
        "id": "41830c86"
      },
      "outputs": [],
      "source": [
        "# --- To be completed by students ---\n",
        "df[\"orientation\"] = df[\"X6\"].map({2: \"north\", 3: \"east\", 4: \"south\", 5: \"west\"})\n",
        "orientation = pd.get_dummies(df[\"orientation\"], dtype=int)\n",
        "# -----------------------------------"
      ]
    },
    {
      "cell_type": "code",
      "execution_count": 11,
      "id": "07bf5694",
      "metadata": {
        "colab": {
          "base_uri": "https://localhost:8080/",
          "height": 206
        },
        "id": "07bf5694",
        "outputId": "5a3cea55-6771-4c78-fe6d-c240826941fd"
      },
      "outputs": [
        {
          "data": {
            "text/html": [
              "<div>\n",
              "<style scoped>\n",
              "    .dataframe tbody tr th:only-of-type {\n",
              "        vertical-align: middle;\n",
              "    }\n",
              "\n",
              "    .dataframe tbody tr th {\n",
              "        vertical-align: top;\n",
              "    }\n",
              "\n",
              "    .dataframe thead th {\n",
              "        text-align: right;\n",
              "    }\n",
              "</style>\n",
              "<table border=\"1\" class=\"dataframe\">\n",
              "  <thead>\n",
              "    <tr style=\"text-align: right;\">\n",
              "      <th></th>\n",
              "      <th>east</th>\n",
              "      <th>north</th>\n",
              "      <th>south</th>\n",
              "      <th>west</th>\n",
              "    </tr>\n",
              "  </thead>\n",
              "  <tbody>\n",
              "    <tr>\n",
              "      <th>0</th>\n",
              "      <td>0</td>\n",
              "      <td>1</td>\n",
              "      <td>0</td>\n",
              "      <td>0</td>\n",
              "    </tr>\n",
              "    <tr>\n",
              "      <th>1</th>\n",
              "      <td>1</td>\n",
              "      <td>0</td>\n",
              "      <td>0</td>\n",
              "      <td>0</td>\n",
              "    </tr>\n",
              "    <tr>\n",
              "      <th>2</th>\n",
              "      <td>0</td>\n",
              "      <td>0</td>\n",
              "      <td>1</td>\n",
              "      <td>0</td>\n",
              "    </tr>\n",
              "    <tr>\n",
              "      <th>3</th>\n",
              "      <td>0</td>\n",
              "      <td>0</td>\n",
              "      <td>0</td>\n",
              "      <td>1</td>\n",
              "    </tr>\n",
              "    <tr>\n",
              "      <th>4</th>\n",
              "      <td>0</td>\n",
              "      <td>1</td>\n",
              "      <td>0</td>\n",
              "      <td>0</td>\n",
              "    </tr>\n",
              "  </tbody>\n",
              "</table>\n",
              "</div>"
            ],
            "text/plain": [
              "   east  north  south  west\n",
              "0     0      1      0     0\n",
              "1     1      0      0     0\n",
              "2     0      0      1     0\n",
              "3     0      0      0     1\n",
              "4     0      1      0     0"
            ]
          },
          "execution_count": 11,
          "metadata": {},
          "output_type": "execute_result"
        }
      ],
      "source": [
        "orientation.head()"
      ]
    },
    {
      "cell_type": "code",
      "execution_count": 12,
      "id": "04835a41",
      "metadata": {
        "id": "04835a41"
      },
      "outputs": [],
      "source": [
        "# --- To be completed by students ---\n",
        "df = pd.concat([df, orientation], axis=1)\n",
        "# -----------------------------------"
      ]
    },
    {
      "cell_type": "code",
      "execution_count": 13,
      "id": "2ea89f62",
      "metadata": {
        "colab": {
          "base_uri": "https://localhost:8080/",
          "height": 206
        },
        "id": "2ea89f62",
        "outputId": "431af0c8-67aa-4c2a-ab88-8b9be47189b1"
      },
      "outputs": [
        {
          "data": {
            "text/html": [
              "<div>\n",
              "<style scoped>\n",
              "    .dataframe tbody tr th:only-of-type {\n",
              "        vertical-align: middle;\n",
              "    }\n",
              "\n",
              "    .dataframe tbody tr th {\n",
              "        vertical-align: top;\n",
              "    }\n",
              "\n",
              "    .dataframe thead th {\n",
              "        text-align: right;\n",
              "    }\n",
              "</style>\n",
              "<table border=\"1\" class=\"dataframe\">\n",
              "  <thead>\n",
              "    <tr style=\"text-align: right;\">\n",
              "      <th></th>\n",
              "      <th>X1</th>\n",
              "      <th>X2</th>\n",
              "      <th>X3</th>\n",
              "      <th>X4</th>\n",
              "      <th>X5</th>\n",
              "      <th>X6</th>\n",
              "      <th>X7</th>\n",
              "      <th>X8</th>\n",
              "      <th>Y1</th>\n",
              "      <th>Y2</th>\n",
              "      <th>is_energy_saving</th>\n",
              "      <th>orientation</th>\n",
              "      <th>east</th>\n",
              "      <th>north</th>\n",
              "      <th>south</th>\n",
              "      <th>west</th>\n",
              "    </tr>\n",
              "  </thead>\n",
              "  <tbody>\n",
              "    <tr>\n",
              "      <th>0</th>\n",
              "      <td>0.98</td>\n",
              "      <td>514.5</td>\n",
              "      <td>294.0</td>\n",
              "      <td>110.25</td>\n",
              "      <td>7.0</td>\n",
              "      <td>2</td>\n",
              "      <td>0.0</td>\n",
              "      <td>0</td>\n",
              "      <td>15.55</td>\n",
              "      <td>21.33</td>\n",
              "      <td>1</td>\n",
              "      <td>north</td>\n",
              "      <td>0</td>\n",
              "      <td>1</td>\n",
              "      <td>0</td>\n",
              "      <td>0</td>\n",
              "    </tr>\n",
              "    <tr>\n",
              "      <th>1</th>\n",
              "      <td>0.98</td>\n",
              "      <td>514.5</td>\n",
              "      <td>294.0</td>\n",
              "      <td>110.25</td>\n",
              "      <td>7.0</td>\n",
              "      <td>3</td>\n",
              "      <td>0.0</td>\n",
              "      <td>0</td>\n",
              "      <td>15.55</td>\n",
              "      <td>21.33</td>\n",
              "      <td>1</td>\n",
              "      <td>east</td>\n",
              "      <td>1</td>\n",
              "      <td>0</td>\n",
              "      <td>0</td>\n",
              "      <td>0</td>\n",
              "    </tr>\n",
              "    <tr>\n",
              "      <th>2</th>\n",
              "      <td>0.98</td>\n",
              "      <td>514.5</td>\n",
              "      <td>294.0</td>\n",
              "      <td>110.25</td>\n",
              "      <td>7.0</td>\n",
              "      <td>4</td>\n",
              "      <td>0.0</td>\n",
              "      <td>0</td>\n",
              "      <td>15.55</td>\n",
              "      <td>21.33</td>\n",
              "      <td>1</td>\n",
              "      <td>south</td>\n",
              "      <td>0</td>\n",
              "      <td>0</td>\n",
              "      <td>1</td>\n",
              "      <td>0</td>\n",
              "    </tr>\n",
              "    <tr>\n",
              "      <th>3</th>\n",
              "      <td>0.98</td>\n",
              "      <td>514.5</td>\n",
              "      <td>294.0</td>\n",
              "      <td>110.25</td>\n",
              "      <td>7.0</td>\n",
              "      <td>5</td>\n",
              "      <td>0.0</td>\n",
              "      <td>0</td>\n",
              "      <td>15.55</td>\n",
              "      <td>21.33</td>\n",
              "      <td>1</td>\n",
              "      <td>west</td>\n",
              "      <td>0</td>\n",
              "      <td>0</td>\n",
              "      <td>0</td>\n",
              "      <td>1</td>\n",
              "    </tr>\n",
              "    <tr>\n",
              "      <th>4</th>\n",
              "      <td>0.90</td>\n",
              "      <td>563.5</td>\n",
              "      <td>318.5</td>\n",
              "      <td>122.50</td>\n",
              "      <td>7.0</td>\n",
              "      <td>2</td>\n",
              "      <td>0.0</td>\n",
              "      <td>0</td>\n",
              "      <td>20.84</td>\n",
              "      <td>28.28</td>\n",
              "      <td>1</td>\n",
              "      <td>north</td>\n",
              "      <td>0</td>\n",
              "      <td>1</td>\n",
              "      <td>0</td>\n",
              "      <td>0</td>\n",
              "    </tr>\n",
              "  </tbody>\n",
              "</table>\n",
              "</div>"
            ],
            "text/plain": [
              "     X1     X2     X3      X4   X5  X6   X7  X8     Y1     Y2  \\\n",
              "0  0.98  514.5  294.0  110.25  7.0   2  0.0   0  15.55  21.33   \n",
              "1  0.98  514.5  294.0  110.25  7.0   3  0.0   0  15.55  21.33   \n",
              "2  0.98  514.5  294.0  110.25  7.0   4  0.0   0  15.55  21.33   \n",
              "3  0.98  514.5  294.0  110.25  7.0   5  0.0   0  15.55  21.33   \n",
              "4  0.90  563.5  318.5  122.50  7.0   2  0.0   0  20.84  28.28   \n",
              "\n",
              "   is_energy_saving orientation  east  north  south  west  \n",
              "0                 1       north     0      1      0     0  \n",
              "1                 1        east     1      0      0     0  \n",
              "2                 1       south     0      0      1     0  \n",
              "3                 1        west     0      0      0     1  \n",
              "4                 1       north     0      1      0     0  "
            ]
          },
          "execution_count": 13,
          "metadata": {},
          "output_type": "execute_result"
        }
      ],
      "source": [
        "df.head()"
      ]
    },
    {
      "cell_type": "code",
      "execution_count": 14,
      "id": "9208b268",
      "metadata": {},
      "outputs": [
        {
          "data": {
            "text/plain": [
              "X1                  False\n",
              "X2                  False\n",
              "X3                  False\n",
              "X4                  False\n",
              "X5                  False\n",
              "X6                  False\n",
              "X7                  False\n",
              "X8                  False\n",
              "Y1                  False\n",
              "Y2                  False\n",
              "is_energy_saving    False\n",
              "orientation         False\n",
              "east                False\n",
              "north               False\n",
              "south               False\n",
              "west                False\n",
              "dtype: bool"
            ]
          },
          "execution_count": 14,
          "metadata": {},
          "output_type": "execute_result"
        }
      ],
      "source": [
        "df.isnull().any()"
      ]
    },
    {
      "cell_type": "markdown",
      "id": "13e9cb8d",
      "metadata": {
        "id": "13e9cb8d"
      },
      "source": [
        "# Data Splitting  \n",
        "\n",
        "Data splitting relies on randomization processes.  To make a reproducable experiment, we will set a random seed first.  \n",
        "**Activity 4**: Split the original data into 3 dataframes: `train` (70%), `test` (15%), `val` (15%).  For the consistent splitting, we will split the original data to remain:test at 85:15 then split the remain data to train:val at 70:15 with respect to the size of original data.  The prepare `X` and `y` from the original dataframe `df`."
      ]
    },
    {
      "cell_type": "code",
      "execution_count": 15,
      "id": "260fbb6a",
      "metadata": {
        "id": "260fbb6a"
      },
      "outputs": [],
      "source": [
        "from sklearn.model_selection import train_test_split\n",
        "\n",
        "seed = 433 # Set random seed\n",
        "\n",
        "train, remain = train_test_split(df, test_size=0.3,\n",
        "                                stratify=df[\"is_energy_saving\"], random_state=seed)\n",
        "\n",
        "test, val = train_test_split(remain, test_size=0.15,\n",
        "                              stratify=remain[\"is_energy_saving\"], random_state=seed)\n"
      ]
    },
    {
      "cell_type": "markdown",
      "id": "fbfe2f7d",
      "metadata": {
        "id": "fbfe2f7d"
      },
      "source": [
        "Defiine your full dataset `X` and `y` from the dataframe `df`.  The `X` takes `X1`, `X2`, `X3`, `X4`, `X5`, `east`, `south`, `west`, and `X7` as features.  The target `y` is `is_energy_saving`."
      ]
    },
    {
      "cell_type": "code",
      "execution_count": 16,
      "id": "0930cde6",
      "metadata": {
        "id": "0930cde6"
      },
      "outputs": [],
      "source": [
        "# remove north\n",
        "features_lst = [\"X1\", \"X2\", \"X3\", \"X4\", \"X5\", \"east\", \"south\", \"west\", \"X7\"]\n",
        "X = df.loc[:, features_lst].values\n",
        "y = df[\"is_energy_saving\"].values.ravel()\n"
      ]
    },
    {
      "cell_type": "markdown",
      "id": "d649a1de",
      "metadata": {
        "id": "d649a1de"
      },
      "source": [
        "Make sure that the class distribution in `train`, `val`, and `test` are almost the same by using visualization."
      ]
    },
    {
      "cell_type": "code",
      "execution_count": 17,
      "id": "62c8cc9e",
      "metadata": {
        "colab": {
          "base_uri": "https://localhost:8080/",
          "height": 468
        },
        "id": "62c8cc9e",
        "outputId": "c0785629-2b72-4001-a8b3-b0ef78c65aaf",
        "scrolled": true
      },
      "outputs": [
        {
          "data": {
            "image/png": "[encoded data removed]",
            "text/plain": [
              "<Figure size 1000x500 with 3 Axes>"
            ]
          },
          "metadata": {},
          "output_type": "display_data"
        }
      ],
      "source": [
        "import matplotlib.pyplot as plt\n",
        "\n",
        "train_dist = train.groupby(\"is_energy_saving\").size().reset_index(name=\"#\")\n",
        "train_dist[\"%\"] = train_dist[\"#\"] / train_dist[\"#\"].sum()\n",
        "\n",
        "val_dist = val.groupby(\"is_energy_saving\").size().reset_index(name=\"#\")\n",
        "val_dist[\"%\"] = val_dist[\"#\"] / val_dist[\"#\"].sum()\n",
        "\n",
        "test_dist = test.groupby(\"is_energy_saving\").size().reset_index(name=\"#\")\n",
        "test_dist[\"%\"] = test_dist[\"#\"] / test_dist[\"#\"].sum()\n",
        "\n",
        "fig, ax = plt.subplots(nrows=1, ncols=3, figsize=(10, 5))\n",
        "ax[0].bar(train_dist[\"is_energy_saving\"], train_dist[\"%\"])\n",
        "ax[0].set_title(\"Train\")\n",
        "ax[1].bar(val_dist[\"is_energy_saving\"], val_dist[\"%\"])\n",
        "ax[1].set_title(\"Validation\")\n",
        "ax[2].bar(test_dist[\"is_energy_saving\"], test_dist[\"%\"])\n",
        "ax[2].set_title(\"Test\")\n",
        "plt.show()"
      ]
    },
    {
      "cell_type": "markdown",
      "id": "340b10b5",
      "metadata": {
        "id": "340b10b5"
      },
      "source": [
        "# Modeling  \n",
        "`RandomSearchCV` and `GridSearchCV` were applied as our model tuning strategies.  The `RandomSearchCV` was applied first to determine roughly optimal set of hyperparameters on the hyperplane.  There are several hyperparameters can be tuned.  For understanding purpose, our tutorials will tune only 2 hyperparameters: `C` and `penalty`.  \n",
        "\n",
        "Create a random hyperplane of `C` and `penalty`"
      ]
    },
    {
      "cell_type": "code",
      "execution_count": 18,
      "id": "75cfcdd8",
      "metadata": {
        "id": "75cfcdd8"
      },
      "outputs": [],
      "source": [
        "from scipy.stats import uniform\n",
        "\n",
        "np.random.seed(seed)\n",
        "rd_hparams = dict(C=uniform(loc=0, scale=5), penalty=[\"l2\", \"l1\"])"
      ]
    },
    {
      "cell_type": "markdown",
      "id": "54c0a814",
      "metadata": {
        "id": "54c0a814"
      },
      "source": [
        "**Activity 5**: Initialize a `Logistic Regression` to learn from balanced class distribution.  Use our predefined random seed and fit the model with `saga` optimizer.  Set the maximum learning iteration at 500.  Then apply the `RandomSearchCV` to our `Logistic Regression` using train, test, validate approach.  Use `accuracy` as the metrics for model convergence monitoring."
      ]
    },
    {
      "cell_type": "code",
      "execution_count": 19,
      "id": "fe3aa245",
      "metadata": {
        "colab": {
          "base_uri": "https://localhost:8080/"
        },
        "id": "fe3aa245",
        "outputId": "91a1288e-0daf-471d-b511-192583cbdc8c"
      },
      "outputs": [
        {
          "name": "stderr",
          "output_type": "stream",
          "text": [
            "[Parallel(n_jobs=1)]: Using backend SequentialBackend with 1 concurrent workers.\n"
          ]
        },
        {
          "name": "stdout",
          "output_type": "stream",
          "text": [
            "convergence after 3482 epochs took 0 seconds\n"
          ]
        },
        {
          "name": "stderr",
          "output_type": "stream",
          "text": [
            "[Parallel(n_jobs=1)]: Done   1 out of   1 | elapsed:    0.1s finished\n",
            "[Parallel(n_jobs=1)]: Using backend SequentialBackend with 1 concurrent workers.\n"
          ]
        },
        {
          "name": "stdout",
          "output_type": "stream",
          "text": [
            "convergence after 3482 epochs took 0 seconds\n"
          ]
        },
        {
          "name": "stderr",
          "output_type": "stream",
          "text": [
            "[Parallel(n_jobs=1)]: Done   1 out of   1 | elapsed:    0.2s finished\n",
            "[Parallel(n_jobs=1)]: Using backend SequentialBackend with 1 concurrent workers.\n"
          ]
        },
        {
          "name": "stdout",
          "output_type": "stream",
          "text": [
            "convergence after 3486 epochs took 1 seconds\n"
          ]
        },
        {
          "name": "stderr",
          "output_type": "stream",
          "text": [
            "[Parallel(n_jobs=1)]: Done   1 out of   1 | elapsed:    0.1s finished\n",
            "[Parallel(n_jobs=1)]: Using backend SequentialBackend with 1 concurrent workers.\n"
          ]
        },
        {
          "name": "stdout",
          "output_type": "stream",
          "text": [
            "convergence after 3482 epochs took 0 seconds\n"
          ]
        },
        {
          "name": "stderr",
          "output_type": "stream",
          "text": [
            "[Parallel(n_jobs=1)]: Done   1 out of   1 | elapsed:    0.2s finished\n",
            "[Parallel(n_jobs=1)]: Using backend SequentialBackend with 1 concurrent workers.\n"
          ]
        },
        {
          "name": "stdout",
          "output_type": "stream",
          "text": [
            "convergence after 3482 epochs took 0 seconds\n",
            "convergence after 3468 epochs took 0 seconds\n"
          ]
        },
        {
          "name": "stderr",
          "output_type": "stream",
          "text": [
            "[Parallel(n_jobs=1)]: Done   1 out of   1 | elapsed:    0.1s finished\n",
            "[Parallel(n_jobs=1)]: Using backend SequentialBackend with 1 concurrent workers.\n",
            "[Parallel(n_jobs=1)]: Done   1 out of   1 | elapsed:    0.1s finished\n",
            "[Parallel(n_jobs=1)]: Using backend SequentialBackend with 1 concurrent workers.\n"
          ]
        },
        {
          "name": "stdout",
          "output_type": "stream",
          "text": [
            "convergence after 3482 epochs took 0 seconds\n"
          ]
        },
        {
          "name": "stderr",
          "output_type": "stream",
          "text": [
            "[Parallel(n_jobs=1)]: Done   1 out of   1 | elapsed:    0.1s finished\n",
            "[Parallel(n_jobs=1)]: Using backend SequentialBackend with 1 concurrent workers.\n"
          ]
        },
        {
          "name": "stdout",
          "output_type": "stream",
          "text": [
            "convergence after 3493 epochs took 1 seconds\n"
          ]
        },
        {
          "name": "stderr",
          "output_type": "stream",
          "text": [
            "[Parallel(n_jobs=1)]: Done   1 out of   1 | elapsed:    0.1s finished\n",
            "[Parallel(n_jobs=1)]: Using backend SequentialBackend with 1 concurrent workers.\n"
          ]
        },
        {
          "name": "stdout",
          "output_type": "stream",
          "text": [
            "convergence after 3466 epochs took 0 seconds\n"
          ]
        },
        {
          "name": "stderr",
          "output_type": "stream",
          "text": [
            "[Parallel(n_jobs=1)]: Done   1 out of   1 | elapsed:    0.1s finished\n",
            "[Parallel(n_jobs=1)]: Using backend SequentialBackend with 1 concurrent workers.\n"
          ]
        },
        {
          "name": "stdout",
          "output_type": "stream",
          "text": [
            "convergence after 3482 epochs took 0 seconds\n"
          ]
        },
        {
          "name": "stderr",
          "output_type": "stream",
          "text": [
            "[Parallel(n_jobs=1)]: Done   1 out of   1 | elapsed:    0.1s finished\n",
            "[Parallel(n_jobs=1)]: Using backend SequentialBackend with 1 concurrent workers.\n"
          ]
        },
        {
          "name": "stdout",
          "output_type": "stream",
          "text": [
            "convergence after 2937 epochs took 0 seconds\n"
          ]
        },
        {
          "name": "stderr",
          "output_type": "stream",
          "text": [
            "[Parallel(n_jobs=1)]: Done   1 out of   1 | elapsed:    0.2s finished\n"
          ]
        }
      ],
      "source": [
        "from sklearn.linear_model import LogisticRegression\n",
        "from sklearn.model_selection import RandomizedSearchCV\n",
        "\n",
        "# class_weight=\"balanced\" to address imbalance data\n",
        "logreg = LogisticRegression(class_weight=\"balanced\",\n",
        "                            random_state=seed,\n",
        "                            verbose=1,\n",
        "                            solver=\"saga\",\n",
        "                            max_iter=5000)\n",
        "\n",
        "rand_tune = RandomizedSearchCV(logreg,\n",
        "                               rd_hparams,\n",
        "                               random_state=seed,\n",
        "                               cv=[(train.index, val.index)],\n",
        "                               scoring=\"accuracy\")\n",
        "\n",
        "rand_search = rand_tune.fit(X, y)\n"
      ]
    },
    {
      "cell_type": "markdown",
      "id": "7a5659cc",
      "metadata": {
        "id": "7a5659cc"
      },
      "source": [
        "The best estimator from `RandomSearchCV` can be accessed via the attribute `best_estimator_`"
      ]
    },
    {
      "cell_type": "code",
      "execution_count": 20,
      "id": "596c3ade",
      "metadata": {
        "colab": {
          "base_uri": "https://localhost:8080/",
          "height": 92
        },
        "id": "596c3ade",
        "outputId": "79c97267-11d6-4f75-ebee-37842189b41e"
      },
      "outputs": [
        {
          "data": {
            "text/html": [
              "<style>#sk-container-id-1 {color: black;background-color: white;}#sk-container-id-1 pre{padding: 0;}#sk-container-id-1 div.sk-toggleable {background-color: white;}#sk-container-id-1 label.sk-toggleable__label {cursor: pointer;display: block;width: 100%;margin-bottom: 0;padding: 0.3em;box-sizing: border-box;text-align: center;}#sk-container-id-1 label.sk-toggleable__label-arrow:before {content: \"▸\";float: left;margin-right: 0.25em;color: #696969;}#sk-container-id-1 label.sk-toggleable__label-arrow:hover:before {color: black;}#sk-container-id-1 div.sk-estimator:hover label.sk-toggleable__label-arrow:before {color: black;}#sk-container-id-1 div.sk-toggleable__content {max-height: 0;max-width: 0;overflow: hidden;text-align: left;background-color: #f0f8ff;}#sk-container-id-1 div.sk-toggleable__content pre {margin: 0.2em;color: black;border-radius: 0.25em;background-color: #f0f8ff;}#sk-container-id-1 input.sk-toggleable__control:checked~div.sk-toggleable__content {max-height: 200px;max-width: 100%;overflow: auto;}#sk-container-id-1 input.sk-toggleable__control:checked~label.sk-toggleable__label-arrow:before {content: \"▾\";}#sk-container-id-1 div.sk-estimator input.sk-toggleable__control:checked~label.sk-toggleable__label {background-color: #d4ebff;}#sk-container-id-1 div.sk-label input.sk-toggleable__control:checked~label.sk-toggleable__label {background-color: #d4ebff;}#sk-container-id-1 input.sk-hidden--visually {border: 0;clip: rect(1px 1px 1px 1px);clip: rect(1px, 1px, 1px, 1px);height: 1px;margin: -1px;overflow: hidden;padding: 0;position: absolute;width: 1px;}#sk-container-id-1 div.sk-estimator {font-family: monospace;background-color: #f0f8ff;border: 1px dotted black;border-radius: 0.25em;box-sizing: border-box;margin-bottom: 0.5em;}#sk-container-id-1 div.sk-estimator:hover {background-color: #d4ebff;}#sk-container-id-1 div.sk-parallel-item::after {content: \"\";width: 100%;border-bottom: 1px solid gray;flex-grow: 1;}#sk-container-id-1 div.sk-label:hover label.sk-toggleable__label {background-color: #d4ebff;}#sk-container-id-1 div.sk-serial::before {content: \"\";position: absolute;border-left: 1px solid gray;box-sizing: border-box;top: 0;bottom: 0;left: 50%;z-index: 0;}#sk-container-id-1 div.sk-serial {display: flex;flex-direction: column;align-items: center;background-color: white;padding-right: 0.2em;padding-left: 0.2em;position: relative;}#sk-container-id-1 div.sk-item {position: relative;z-index: 1;}#sk-container-id-1 div.sk-parallel {display: flex;align-items: stretch;justify-content: center;background-color: white;position: relative;}#sk-container-id-1 div.sk-item::before, #sk-container-id-1 div.sk-parallel-item::before {content: \"\";position: absolute;border-left: 1px solid gray;box-sizing: border-box;top: 0;bottom: 0;left: 50%;z-index: -1;}#sk-container-id-1 div.sk-parallel-item {display: flex;flex-direction: column;z-index: 1;position: relative;background-color: white;}#sk-container-id-1 div.sk-parallel-item:first-child::after {align-self: flex-end;width: 50%;}#sk-container-id-1 div.sk-parallel-item:last-child::after {align-self: flex-start;width: 50%;}#sk-container-id-1 div.sk-parallel-item:only-child::after {width: 0;}#sk-container-id-1 div.sk-dashed-wrapped {border: 1px dashed gray;margin: 0 0.4em 0.5em 0.4em;box-sizing: border-box;padding-bottom: 0.4em;background-color: white;}#sk-container-id-1 div.sk-label label {font-family: monospace;font-weight: bold;display: inline-block;line-height: 1.2em;}#sk-container-id-1 div.sk-label-container {text-align: center;}#sk-container-id-1 div.sk-container {/* jupyter's `normalize.less` sets `[hidden] { display: none; }` but bootstrap.min.css set `[hidden] { display: none !important; }` so we also need the `!important` here to be able to override the default hidden behavior on the sphinx rendered scikit-learn.org. See: https://github.com/scikit-learn/scikit-learn/issues/21755 */display: inline-block !important;position: relative;}#sk-container-id-1 div.sk-text-repr-fallback {display: none;}</style><div id=\"sk-container-id-1\" class=\"sk-top-container\"><div class=\"sk-text-repr-fallback\"><pre>LogisticRegression(C=2.3907937312322107, class_weight=&#x27;balanced&#x27;, max_iter=5000,\n",
              "                   penalty=&#x27;l1&#x27;, random_state=433, solver=&#x27;saga&#x27;, verbose=1)</pre><b>In a Jupyter environment, please rerun this cell to show the HTML representation or trust the notebook. <br />On GitHub, the HTML representation is unable to render, please try loading this page with nbviewer.org.</b></div><div class=\"sk-container\" hidden><div class=\"sk-item\"><div class=\"sk-estimator sk-toggleable\"><input class=\"sk-toggleable__control sk-hidden--visually\" id=\"sk-estimator-id-1\" type=\"checkbox\" checked><label for=\"sk-estimator-id-1\" class=\"sk-toggleable__label sk-toggleable__label-arrow\">LogisticRegression</label><div class=\"sk-toggleable__content\"><pre>LogisticRegression(C=2.3907937312322107, class_weight=&#x27;balanced&#x27;, max_iter=5000,\n",
              "                   penalty=&#x27;l1&#x27;, random_state=433, solver=&#x27;saga&#x27;, verbose=1)</pre></div></div></div></div></div>"
            ],
            "text/plain": [
              "LogisticRegression(C=2.3907937312322107, class_weight='balanced', max_iter=5000,\n",
              "                   penalty='l1', random_state=433, solver='saga', verbose=1)"
            ]
          },
          "execution_count": 20,
          "metadata": {},
          "output_type": "execute_result"
        }
      ],
      "source": [
        "rand_search.best_estimator_"
      ]
    },
    {
      "cell_type": "markdown",
      "id": "ece16131",
      "metadata": {
        "id": "ece16131"
      },
      "source": [
        "The best estimator located approximately optimum set of hyperparameters.  Let's define the precise grid of hyperparameters for fine tuning.  Since the `penalty` is a categorical variable, we will use as is without fine tuning.  \n",
        "\n",
        "**Activity 6**: Create a 1D grid where each tick moves around 0.05 for 5 ticks before and after the best `C` obtained from `RandomSearchCV`."
      ]
    },
    {
      "cell_type": "code",
      "execution_count": 21,
      "id": "bbc188fb",
      "metadata": {
        "id": "bbc188fb"
      },
      "outputs": [],
      "source": [
        "C = [rand_search.best_estimator_.C + 0.05*i for i in range(-5, 6)]\n"
      ]
    },
    {
      "cell_type": "markdown",
      "id": "16f25fa6",
      "metadata": {
        "id": "16f25fa6"
      },
      "source": [
        "Define the grid for `GridSearchCV` to precisely determine the set of optimum hyperparameters."
      ]
    },
    {
      "cell_type": "code",
      "execution_count": 22,
      "id": "d6f5f3ee",
      "metadata": {
        "id": "d6f5f3ee"
      },
      "outputs": [],
      "source": [
        "#Prevent C < 0\n",
        "gd_hparams = {\"C\": [i if i > 0 else 0.01 for i in C], \"penalty\": [rand_search.best_estimator_.penalty]}"
      ]
    },
    {
      "cell_type": "markdown",
      "id": "9019c7bc",
      "metadata": {
        "id": "9019c7bc"
      },
      "source": [
        "**Activity 7**: Initialize the `Logistic Regression` with the same hyperparameters as the `RandSearchCV` but apply it on the `GridSearchCV`."
      ]
    },
    {
      "cell_type": "code",
      "execution_count": 23,
      "id": "da3a898a",
      "metadata": {
        "colab": {
          "base_uri": "https://localhost:8080/"
        },
        "id": "da3a898a",
        "outputId": "83d97eca-1753-48c2-e796-bbda10392599"
      },
      "outputs": [
        {
          "name": "stderr",
          "output_type": "stream",
          "text": [
            "[Parallel(n_jobs=1)]: Using backend SequentialBackend with 1 concurrent workers.\n"
          ]
        },
        {
          "name": "stdout",
          "output_type": "stream",
          "text": [
            "convergence after 3482 epochs took 0 seconds\n"
          ]
        },
        {
          "name": "stderr",
          "output_type": "stream",
          "text": [
            "[Parallel(n_jobs=1)]: Done   1 out of   1 | elapsed:    0.1s finished\n",
            "[Parallel(n_jobs=1)]: Using backend SequentialBackend with 1 concurrent workers.\n"
          ]
        },
        {
          "name": "stdout",
          "output_type": "stream",
          "text": [
            "convergence after 3482 epochs took 0 seconds\n"
          ]
        },
        {
          "name": "stderr",
          "output_type": "stream",
          "text": [
            "[Parallel(n_jobs=1)]: Done   1 out of   1 | elapsed:    0.1s finished\n",
            "[Parallel(n_jobs=1)]: Using backend SequentialBackend with 1 concurrent workers.\n"
          ]
        },
        {
          "name": "stdout",
          "output_type": "stream",
          "text": [
            "convergence after 3482 epochs took 0 seconds\n"
          ]
        },
        {
          "name": "stderr",
          "output_type": "stream",
          "text": [
            "[Parallel(n_jobs=1)]: Done   1 out of   1 | elapsed:    0.1s finished\n",
            "[Parallel(n_jobs=1)]: Using backend SequentialBackend with 1 concurrent workers.\n"
          ]
        },
        {
          "name": "stdout",
          "output_type": "stream",
          "text": [
            "convergence after 3482 epochs took 1 seconds\n"
          ]
        },
        {
          "name": "stderr",
          "output_type": "stream",
          "text": [
            "[Parallel(n_jobs=1)]: Done   1 out of   1 | elapsed:    0.1s finished\n",
            "[Parallel(n_jobs=1)]: Using backend SequentialBackend with 1 concurrent workers.\n"
          ]
        },
        {
          "name": "stdout",
          "output_type": "stream",
          "text": [
            "convergence after 3482 epochs took 0 seconds\n"
          ]
        },
        {
          "name": "stderr",
          "output_type": "stream",
          "text": [
            "[Parallel(n_jobs=1)]: Done   1 out of   1 | elapsed:    0.1s finished\n",
            "[Parallel(n_jobs=1)]: Using backend SequentialBackend with 1 concurrent workers.\n"
          ]
        },
        {
          "name": "stdout",
          "output_type": "stream",
          "text": [
            "convergence after 3482 epochs took 0 seconds\n"
          ]
        },
        {
          "name": "stderr",
          "output_type": "stream",
          "text": [
            "[Parallel(n_jobs=1)]: Done   1 out of   1 | elapsed:    0.1s finished\n",
            "[Parallel(n_jobs=1)]: Using backend SequentialBackend with 1 concurrent workers.\n"
          ]
        },
        {
          "name": "stdout",
          "output_type": "stream",
          "text": [
            "convergence after 3482 epochs took 0 seconds\n"
          ]
        },
        {
          "name": "stderr",
          "output_type": "stream",
          "text": [
            "[Parallel(n_jobs=1)]: Done   1 out of   1 | elapsed:    0.2s finished\n",
            "[Parallel(n_jobs=1)]: Using backend SequentialBackend with 1 concurrent workers.\n"
          ]
        },
        {
          "name": "stdout",
          "output_type": "stream",
          "text": [
            "convergence after 3482 epochs took 1 seconds\n"
          ]
        },
        {
          "name": "stderr",
          "output_type": "stream",
          "text": [
            "[Parallel(n_jobs=1)]: Done   1 out of   1 | elapsed:    0.1s finished\n",
            "[Parallel(n_jobs=1)]: Using backend SequentialBackend with 1 concurrent workers.\n"
          ]
        },
        {
          "name": "stdout",
          "output_type": "stream",
          "text": [
            "convergence after 3482 epochs took 0 seconds\n"
          ]
        },
        {
          "name": "stderr",
          "output_type": "stream",
          "text": [
            "[Parallel(n_jobs=1)]: Done   1 out of   1 | elapsed:    0.1s finished\n",
            "[Parallel(n_jobs=1)]: Using backend SequentialBackend with 1 concurrent workers.\n"
          ]
        },
        {
          "name": "stdout",
          "output_type": "stream",
          "text": [
            "convergence after 3482 epochs took 0 seconds\n"
          ]
        },
        {
          "name": "stderr",
          "output_type": "stream",
          "text": [
            "[Parallel(n_jobs=1)]: Done   1 out of   1 | elapsed:    0.1s finished\n",
            "[Parallel(n_jobs=1)]: Using backend SequentialBackend with 1 concurrent workers.\n"
          ]
        },
        {
          "name": "stdout",
          "output_type": "stream",
          "text": [
            "convergence after 3482 epochs took 0 seconds\n"
          ]
        },
        {
          "name": "stderr",
          "output_type": "stream",
          "text": [
            "[Parallel(n_jobs=1)]: Done   1 out of   1 | elapsed:    0.2s finished\n",
            "[Parallel(n_jobs=1)]: Using backend SequentialBackend with 1 concurrent workers.\n"
          ]
        },
        {
          "name": "stdout",
          "output_type": "stream",
          "text": [
            "convergence after 2937 epochs took 1 seconds\n"
          ]
        },
        {
          "name": "stderr",
          "output_type": "stream",
          "text": [
            "[Parallel(n_jobs=1)]: Done   1 out of   1 | elapsed:    0.2s finished\n"
          ]
        }
      ],
      "source": [
        "from sklearn.model_selection import GridSearchCV\n",
        "\n",
        "clf = LogisticRegression(class_weight=\"balanced\",\n",
        "                         random_state=seed,\n",
        "                         verbose=1,\n",
        "                         solver=\"saga\",\n",
        "                         max_iter=5000)\n",
        "\n",
        "\n",
        "grid_tune = GridSearchCV(clf, gd_hparams, cv=[(train.index, val.index)], scoring=\"accuracy\")\n",
        "grid_search = grid_tune.fit(X, y)\n"
      ]
    },
    {
      "cell_type": "markdown",
      "id": "82fb95f9",
      "metadata": {
        "id": "82fb95f9"
      },
      "source": [
        "Let see our best estimator from `GridSearchCV`."
      ]
    },
    {
      "cell_type": "code",
      "execution_count": 24,
      "id": "d988b6a3",
      "metadata": {
        "colab": {
          "base_uri": "https://localhost:8080/",
          "height": 92
        },
        "id": "d988b6a3",
        "outputId": "daf47980-ebd9-479e-ee45-02b5eee8c2ca"
      },
      "outputs": [
        {
          "data": {
            "text/html": [
              "<style>#sk-container-id-2 {color: black;background-color: white;}#sk-container-id-2 pre{padding: 0;}#sk-container-id-2 div.sk-toggleable {background-color: white;}#sk-container-id-2 label.sk-toggleable__label {cursor: pointer;display: block;width: 100%;margin-bottom: 0;padding: 0.3em;box-sizing: border-box;text-align: center;}#sk-container-id-2 label.sk-toggleable__label-arrow:before {content: \"▸\";float: left;margin-right: 0.25em;color: #696969;}#sk-container-id-2 label.sk-toggleable__label-arrow:hover:before {color: black;}#sk-container-id-2 div.sk-estimator:hover label.sk-toggleable__label-arrow:before {color: black;}#sk-container-id-2 div.sk-toggleable__content {max-height: 0;max-width: 0;overflow: hidden;text-align: left;background-color: #f0f8ff;}#sk-container-id-2 div.sk-toggleable__content pre {margin: 0.2em;color: black;border-radius: 0.25em;background-color: #f0f8ff;}#sk-container-id-2 input.sk-toggleable__control:checked~div.sk-toggleable__content {max-height: 200px;max-width: 100%;overflow: auto;}#sk-container-id-2 input.sk-toggleable__control:checked~label.sk-toggleable__label-arrow:before {content: \"▾\";}#sk-container-id-2 div.sk-estimator input.sk-toggleable__control:checked~label.sk-toggleable__label {background-color: #d4ebff;}#sk-container-id-2 div.sk-label input.sk-toggleable__control:checked~label.sk-toggleable__label {background-color: #d4ebff;}#sk-container-id-2 input.sk-hidden--visually {border: 0;clip: rect(1px 1px 1px 1px);clip: rect(1px, 1px, 1px, 1px);height: 1px;margin: -1px;overflow: hidden;padding: 0;position: absolute;width: 1px;}#sk-container-id-2 div.sk-estimator {font-family: monospace;background-color: #f0f8ff;border: 1px dotted black;border-radius: 0.25em;box-sizing: border-box;margin-bottom: 0.5em;}#sk-container-id-2 div.sk-estimator:hover {background-color: #d4ebff;}#sk-container-id-2 div.sk-parallel-item::after {content: \"\";width: 100%;border-bottom: 1px solid gray;flex-grow: 1;}#sk-container-id-2 div.sk-label:hover label.sk-toggleable__label {background-color: #d4ebff;}#sk-container-id-2 div.sk-serial::before {content: \"\";position: absolute;border-left: 1px solid gray;box-sizing: border-box;top: 0;bottom: 0;left: 50%;z-index: 0;}#sk-container-id-2 div.sk-serial {display: flex;flex-direction: column;align-items: center;background-color: white;padding-right: 0.2em;padding-left: 0.2em;position: relative;}#sk-container-id-2 div.sk-item {position: relative;z-index: 1;}#sk-container-id-2 div.sk-parallel {display: flex;align-items: stretch;justify-content: center;background-color: white;position: relative;}#sk-container-id-2 div.sk-item::before, #sk-container-id-2 div.sk-parallel-item::before {content: \"\";position: absolute;border-left: 1px solid gray;box-sizing: border-box;top: 0;bottom: 0;left: 50%;z-index: -1;}#sk-container-id-2 div.sk-parallel-item {display: flex;flex-direction: column;z-index: 1;position: relative;background-color: white;}#sk-container-id-2 div.sk-parallel-item:first-child::after {align-self: flex-end;width: 50%;}#sk-container-id-2 div.sk-parallel-item:last-child::after {align-self: flex-start;width: 50%;}#sk-container-id-2 div.sk-parallel-item:only-child::after {width: 0;}#sk-container-id-2 div.sk-dashed-wrapped {border: 1px dashed gray;margin: 0 0.4em 0.5em 0.4em;box-sizing: border-box;padding-bottom: 0.4em;background-color: white;}#sk-container-id-2 div.sk-label label {font-family: monospace;font-weight: bold;display: inline-block;line-height: 1.2em;}#sk-container-id-2 div.sk-label-container {text-align: center;}#sk-container-id-2 div.sk-container {/* jupyter's `normalize.less` sets `[hidden] { display: none; }` but bootstrap.min.css set `[hidden] { display: none !important; }` so we also need the `!important` here to be able to override the default hidden behavior on the sphinx rendered scikit-learn.org. See: https://github.com/scikit-learn/scikit-learn/issues/21755 */display: inline-block !important;position: relative;}#sk-container-id-2 div.sk-text-repr-fallback {display: none;}</style><div id=\"sk-container-id-2\" class=\"sk-top-container\"><div class=\"sk-text-repr-fallback\"><pre>LogisticRegression(C=2.1407937312322107, class_weight=&#x27;balanced&#x27;, max_iter=5000,\n",
              "                   penalty=&#x27;l1&#x27;, random_state=433, solver=&#x27;saga&#x27;, verbose=1)</pre><b>In a Jupyter environment, please rerun this cell to show the HTML representation or trust the notebook. <br />On GitHub, the HTML representation is unable to render, please try loading this page with nbviewer.org.</b></div><div class=\"sk-container\" hidden><div class=\"sk-item\"><div class=\"sk-estimator sk-toggleable\"><input class=\"sk-toggleable__control sk-hidden--visually\" id=\"sk-estimator-id-2\" type=\"checkbox\" checked><label for=\"sk-estimator-id-2\" class=\"sk-toggleable__label sk-toggleable__label-arrow\">LogisticRegression</label><div class=\"sk-toggleable__content\"><pre>LogisticRegression(C=2.1407937312322107, class_weight=&#x27;balanced&#x27;, max_iter=5000,\n",
              "                   penalty=&#x27;l1&#x27;, random_state=433, solver=&#x27;saga&#x27;, verbose=1)</pre></div></div></div></div></div>"
            ],
            "text/plain": [
              "LogisticRegression(C=2.1407937312322107, class_weight='balanced', max_iter=5000,\n",
              "                   penalty='l1', random_state=433, solver='saga', verbose=1)"
            ]
          },
          "execution_count": 24,
          "metadata": {},
          "output_type": "execute_result"
        }
      ],
      "source": [
        "grid_search.best_estimator_"
      ]
    },
    {
      "cell_type": "markdown",
      "id": "3b7ada6e",
      "metadata": {
        "id": "3b7ada6e"
      },
      "source": [
        "Model parameters of `Logistic Regression` can be accessed via `coef_` and `intercept_`."
      ]
    },
    {
      "cell_type": "code",
      "execution_count": 25,
      "id": "c692f02f",
      "metadata": {
        "colab": {
          "base_uri": "https://localhost:8080/"
        },
        "id": "c692f02f",
        "outputId": "d11a5284-e857-4934-f52f-0c054ff36e37"
      },
      "outputs": [
        {
          "data": {
            "text/plain": [
              "{'X1': 0.030608004678931284,\n",
              " 'X2': 0.005651433059772649,\n",
              " 'X3': -0.024044482463522098,\n",
              " 'X4': 0.014847841542763788,\n",
              " 'X5': 0.28914103816471487,\n",
              " 'east': -0.03731396723140946,\n",
              " 'south': -0.002660147545659666,\n",
              " 'west': 0.046521783156427285,\n",
              " 'X7': -0.0645729612803755}"
            ]
          },
          "execution_count": 25,
          "metadata": {},
          "output_type": "execute_result"
        }
      ],
      "source": [
        "coef_dict = dict(zip(features_lst, list(grid_search.best_estimator_.coef_[0])))\n",
        "coef_dict\n"
      ]
    },
    {
      "cell_type": "code",
      "execution_count": 26,
      "id": "a6742ede",
      "metadata": {
        "colab": {
          "base_uri": "https://localhost:8080/"
        },
        "id": "a6742ede",
        "outputId": "d5727e2d-a12b-4d25-cc3b-abe7129a9b33"
      },
      "outputs": [
        {
          "data": {
            "text/plain": [
              "array([0.02590085])"
            ]
          },
          "execution_count": 26,
          "metadata": {},
          "output_type": "execute_result"
        }
      ],
      "source": [
        "grid_search.best_estimator_.intercept_"
      ]
    },
    {
      "cell_type": "markdown",
      "id": "3a7ad3d3",
      "metadata": {
        "id": "3a7ad3d3"
      },
      "source": [
        "# Prediction  \n",
        "\n",
        "The trained model is ready for prediction.  Use `predict_proba` to estimate prediction probability."
      ]
    },
    {
      "cell_type": "code",
      "execution_count": 27,
      "id": "92c66ab1",
      "metadata": {
        "id": "92c66ab1"
      },
      "outputs": [],
      "source": [
        "probs = grid_search.best_estimator_.predict_proba(X[test.index])"
      ]
    },
    {
      "cell_type": "markdown",
      "id": "e4411793",
      "metadata": {
        "id": "e4411793"
      },
      "source": [
        "The first column of `probs` refers to $P(y=0|X)$.  The second column of `probs` refers to $P(y=1|X)$.  "
      ]
    },
    {
      "cell_type": "code",
      "execution_count": 28,
      "id": "a57a5d3b",
      "metadata": {
        "colab": {
          "base_uri": "https://localhost:8080/"
        },
        "id": "a57a5d3b",
        "outputId": "e3bf5d51-9e65-4591-d6f2-0960fe21a396"
      },
      "outputs": [
        {
          "data": {
            "text/plain": [
              "array([[0.63116658, 0.36883342],\n",
              "       [0.49745012, 0.50254988],\n",
              "       [0.61318029, 0.38681971],\n",
              "       [0.60208938, 0.39791062],\n",
              "       [0.19757101, 0.80242899],\n",
              "       [0.19029922, 0.80970078],\n",
              "       [0.36519811, 0.63480189],\n",
              "       [0.47650846, 0.52349154],\n",
              "       [0.13668493, 0.86331507],\n",
              "       [0.49502877, 0.50497123],\n",
              "       [0.14114805, 0.85885195],\n",
              "       [0.13699914, 0.86300086],\n",
              "       [0.47892514, 0.52107486],\n",
              "       [0.60262691, 0.39737309],\n",
              "       [0.6504597 , 0.3495403 ],\n",
              "       [0.61381106, 0.38618894],\n",
              "       [0.19179617, 0.80820383],\n",
              "       [0.26772318, 0.73227682],\n",
              "       [0.09156709, 0.90843291],\n",
              "       [0.13668493, 0.86331507],\n",
              "       [0.59976656, 0.40023344],\n",
              "       [0.47959956, 0.52040044],\n",
              "       [0.20198769, 0.79801231],\n",
              "       [0.61381106, 0.38618894],\n",
              "       [0.38484414, 0.61515586],\n",
              "       [0.65265869, 0.34734131],\n",
              "       [0.36696082, 0.63303918],\n",
              "       [0.60262691, 0.39737309],\n",
              "       [0.59143503, 0.40856497],\n",
              "       [0.91245842, 0.08754158],\n",
              "       [0.65265869, 0.34734131],\n",
              "       [0.91581159, 0.08418841],\n",
              "       [0.64636942, 0.35363058],\n",
              "       [0.64415232, 0.35584768],\n",
              "       [0.26962635, 0.73037365],\n",
              "       [0.61151252, 0.38848748],\n",
              "       [0.09471862, 0.90528138],\n",
              "       [0.27153804, 0.72846196],\n",
              "       [0.28447538, 0.71552462],\n",
              "       [0.38484414, 0.61515586],\n",
              "       [0.91245842, 0.08754158],\n",
              "       [0.64415232, 0.35584768],\n",
              "       [0.0917886 , 0.9082114 ],\n",
              "       [0.6504597 , 0.3495403 ],\n",
              "       [0.47892514, 0.52107486],\n",
              "       [0.60030515, 0.39969485],\n",
              "       [0.28083745, 0.71916255],\n",
              "       [0.13128746, 0.86871254],\n",
              "       [0.91964625, 0.08035375],\n",
              "       [0.36696082, 0.63303918],\n",
              "       [0.59797887, 0.40202113],\n",
              "       [0.91778176, 0.08221824],\n",
              "       [0.28843492, 0.71156508],\n",
              "       [0.19603993, 0.80396007],\n",
              "       [0.38894345, 0.61105655],\n",
              "       [0.37618302, 0.62381698],\n",
              "       [0.09307053, 0.90692947],\n",
              "       [0.49188443, 0.50811557],\n",
              "       [0.62426719, 0.37573281],\n",
              "       [0.36744651, 0.63255349],\n",
              "       [0.38664392, 0.61335608],\n",
              "       [0.08572396, 0.91427604],\n",
              "       [0.09307053, 0.90692947],\n",
              "       [0.64636942, 0.35363058],\n",
              "       [0.50054717, 0.49945283],\n",
              "       [0.91322903, 0.08677097],\n",
              "       [0.27747461, 0.72252539],\n",
              "       [0.09252691, 0.90747309],\n",
              "       [0.38894345, 0.61105655],\n",
              "       [0.09018642, 0.90981358],\n",
              "       [0.38331659, 0.61668341],\n",
              "       [0.62426719, 0.37573281],\n",
              "       [0.18881124, 0.81118876],\n",
              "       [0.08996838, 0.91003162],\n",
              "       [0.49121958, 0.50878042],\n",
              "       [0.08623141, 0.91376859],\n",
              "       [0.91758081, 0.08241919],\n",
              "       [0.38894345, 0.61105655],\n",
              "       [0.49745012, 0.50254988],\n",
              "       [0.47409289, 0.52590711],\n",
              "       [0.60094325, 0.39905675],\n",
              "       [0.18881124, 0.81118876],\n",
              "       [0.13128746, 0.86871254],\n",
              "       [0.48879907, 0.51120093],\n",
              "       [0.28083745, 0.71916255],\n",
              "       [0.38894345, 0.61105655],\n",
              "       [0.37783318, 0.62216682],\n",
              "       [0.37555897, 0.62444103],\n",
              "       [0.47409289, 0.52590711],\n",
              "       [0.19502421, 0.80497579],\n",
              "       [0.09098434, 0.90901566],\n",
              "       [0.20512825, 0.79487175],\n",
              "       [0.13441505, 0.86558495],\n",
              "       [0.62199256, 0.37800744],\n",
              "       [0.36321885, 0.63678115],\n",
              "       [0.38434943, 0.61565057],\n",
              "       [0.37604928, 0.62395072],\n",
              "       [0.28447538, 0.71552462],\n",
              "       [0.13881597, 0.86118403],\n",
              "       [0.38282262, 0.61717738],\n",
              "       [0.59821552, 0.40178448],\n",
              "       [0.20198769, 0.79801231],\n",
              "       [0.91630811, 0.08369189],\n",
              "       [0.36471368, 0.63528632],\n",
              "       [0.27888536, 0.72111464],\n",
              "       [0.36519811, 0.63480189],\n",
              "       [0.91560626, 0.08439374],\n",
              "       [0.91322903, 0.08677097],\n",
              "       [0.20355346, 0.79644654],\n",
              "       [0.64254024, 0.35745976],\n",
              "       [0.19757101, 0.80242899],\n",
              "       [0.91704792, 0.08295208],\n",
              "       [0.48704364, 0.51295636],\n",
              "       [0.18881124, 0.81118876],\n",
              "       [0.9139935 , 0.0860065 ],\n",
              "       [0.08996838, 0.91003162],\n",
              "       [0.49409015, 0.50590985],\n",
              "       [0.59797887, 0.40202113],\n",
              "       [0.38944033, 0.61055967],\n",
              "       [0.37404586, 0.62595414],\n",
              "       [0.36970068, 0.63029932],\n",
              "       [0.20198769, 0.79801231],\n",
              "       [0.38944033, 0.61055967],\n",
              "       [0.6356647 , 0.3643353 ],\n",
              "       [0.91964625, 0.08035375],\n",
              "       [0.19645953, 0.80354047],\n",
              "       [0.61547517, 0.38452483],\n",
              "       [0.09471862, 0.90528138],\n",
              "       [0.91684533, 0.08315467],\n",
              "       [0.12909381, 0.87090619],\n",
              "       [0.09307053, 0.90692947],\n",
              "       [0.13018671, 0.86981329],\n",
              "       [0.09389133, 0.90610867],\n",
              "       [0.13441505, 0.86558495],\n",
              "       [0.28645105, 0.71354895],\n",
              "       [0.27747461, 0.72252539],\n",
              "       [0.61318029, 0.38681971],\n",
              "       [0.13881597, 0.86118403],\n",
              "       [0.5986182 , 0.4013818 ],\n",
              "       [0.37604928, 0.62395072],\n",
              "       [0.37783318, 0.62216682],\n",
              "       [0.65485119, 0.34514881],\n",
              "       [0.09471862, 0.90528138],\n",
              "       [0.50054717, 0.49945283],\n",
              "       [0.13997794, 0.86002206],\n",
              "       [0.64476185, 0.35523815],\n",
              "       [0.26962635, 0.73037365],\n",
              "       [0.36970068, 0.63029932],\n",
              "       [0.36744651, 0.63255349],\n",
              "       [0.38664392, 0.61335608],\n",
              "       [0.13699914, 0.86300086],\n",
              "       [0.37604928, 0.62395072],\n",
              "       [0.08699769, 0.91300231],\n",
              "       [0.91892758, 0.08107242],\n",
              "       [0.61971254, 0.38028746],\n",
              "       [0.19603993, 0.80396007],\n",
              "       [0.47650846, 0.52349154],\n",
              "       [0.47892514, 0.52107486],\n",
              "       [0.48704364, 0.51295636],\n",
              "       [0.38073979, 0.61926021],\n",
              "       [0.64192902, 0.35807098],\n",
              "       [0.37832466, 0.62167534],\n",
              "       [0.61151252, 0.38848748],\n",
              "       [0.59143503, 0.40856497],\n",
              "       [0.08996838, 0.91003162],\n",
              "       [0.13128746, 0.86871254],\n",
              "       [0.13585799, 0.86414201],\n",
              "       [0.48636853, 0.51363147],\n",
              "       [0.60262691, 0.39737309],\n",
              "       [0.61610454, 0.38389546],\n",
              "       [0.91758081, 0.08241919],\n",
              "       [0.38123274, 0.61876726],\n",
              "       [0.48543054, 0.51456946],\n",
              "       [0.27747461, 0.72252539],\n",
              "       [0.38434943, 0.61565057],\n",
              "       [0.13472486, 0.86527514],\n",
              "       [0.61971254, 0.38028746],\n",
              "       [0.4771826 , 0.5228174 ],\n",
              "       [0.64044342, 0.35955658],\n",
              "       [0.47650846, 0.52349154],\n",
              "       [0.38713972, 0.61286028],\n",
              "       [0.49987158, 0.50012842],\n",
              "       [0.09156709, 0.90843291],\n",
              "       [0.09471862, 0.90528138],\n",
              "       [0.49987158, 0.50012842],\n",
              "       [0.19911109, 0.80088891],\n",
              "       [0.14114805, 0.85885195],\n",
              "       [0.61318029, 0.38681971],\n",
              "       [0.4957043 , 0.5042957 ],\n",
              "       [0.9139935 , 0.0860065 ],\n",
              "       [0.38434943, 0.61565057],\n",
              "       [0.27694161, 0.72305839],\n",
              "       [0.08699769, 0.91300231],\n",
              "       [0.4771826 , 0.5228174 ],\n",
              "       [0.36921375, 0.63078625],\n",
              "       [0.2761819 , 0.7238181 ]])"
            ]
          },
          "execution_count": 28,
          "metadata": {},
          "output_type": "execute_result"
        }
      ],
      "source": [
        "probs"
      ]
    },
    {
      "cell_type": "markdown",
      "id": "c2e4ba35",
      "metadata": {
        "id": "c2e4ba35"
      },
      "source": [
        "# Prediction and Inference\n",
        "\n",
        "Model calibration helps to get better inference the predicted labels by determining the cutoff probability from the `training data`.  Without calibration, the default cutoff in `scikit-learn` is set at 0.5 and can be directly inference via `predict`. Basic idea to derive the optimum cutoff is the `ROC curve` where the optimum cutoff makes the curve approch to the top left corner.  Therefore, the optimum cutoff yields the maximum difference between `TPR` (True-Positive Rate) and `FPR` (False-Positive Rate).  \n",
        "\n",
        "**Activity 8**: Use `roc_curve` to determine the optimum cutoff."
      ]
    },
    {
      "cell_type": "code",
      "execution_count": 29,
      "id": "dc12c564",
      "metadata": {
        "colab": {
          "base_uri": "https://localhost:8080/"
        },
        "id": "dc12c564",
        "outputId": "d2822aad-adfb-427b-9363-6f3800fa2c71"
      },
      "outputs": [
        {
          "name": "stdout",
          "output_type": "stream",
          "text": [
            "The optimum cutoff is 0.526\n"
          ]
        }
      ],
      "source": [
        "from sklearn.metrics import roc_curve\n",
        "\n",
        "\n",
        "p = grid_search.best_estimator_.predict_proba(X[train.index])\n",
        "fpr, tpr, thresholds = roc_curve(y_true=y[train.index], y_score=p[:, 1], pos_label=1)\n",
        "idx = np.argmax(tpr - fpr)\n",
        "cutoff = thresholds[idx]\n",
        "\n",
        "print(\"The optimum cutoff is {}\".format(round(cutoff, 3)))\n"
      ]
    },
    {
      "cell_type": "markdown",
      "id": "42f89df4",
      "metadata": {
        "id": "42f89df4"
      },
      "source": [
        "Use the `cutoff` to derive predicted labels."
      ]
    },
    {
      "cell_type": "code",
      "execution_count": 30,
      "id": "2fa1cc74",
      "metadata": {
        "id": "2fa1cc74"
      },
      "outputs": [],
      "source": [
        "yhat = (probs[:, 1] >= cutoff).astype(int)"
      ]
    },
    {
      "cell_type": "code",
      "execution_count": 31,
      "id": "f1729f9a",
      "metadata": {
        "colab": {
          "base_uri": "https://localhost:8080/"
        },
        "id": "f1729f9a",
        "outputId": "dd381b71-d7c8-499c-ed98-608fbce9b3ed"
      },
      "outputs": [
        {
          "data": {
            "text/plain": [
              "array([0, 0, 0, 0, 1, 1, 1, 0, 1, 0, 1, 1, 0, 0, 0, 0, 1, 1, 1, 1, 0, 0,\n",
              "       1, 0, 1, 0, 1, 0, 0, 0, 0, 0, 0, 0, 1, 0, 1, 1, 1, 1, 0, 0, 1, 0,\n",
              "       0, 0, 1, 1, 0, 1, 0, 0, 1, 1, 1, 1, 1, 0, 0, 1, 1, 1, 1, 0, 0, 0,\n",
              "       1, 1, 1, 1, 1, 0, 1, 1, 0, 1, 0, 1, 0, 1, 0, 1, 1, 0, 1, 1, 1, 1,\n",
              "       1, 1, 1, 1, 1, 0, 1, 1, 1, 1, 1, 1, 0, 1, 0, 1, 1, 1, 0, 0, 1, 0,\n",
              "       1, 0, 0, 1, 0, 1, 0, 0, 1, 1, 1, 1, 1, 0, 0, 1, 0, 1, 0, 1, 1, 1,\n",
              "       1, 1, 1, 1, 0, 1, 0, 1, 1, 0, 1, 0, 1, 0, 1, 1, 1, 1, 1, 1, 1, 0,\n",
              "       0, 1, 0, 0, 0, 1, 0, 1, 0, 0, 1, 1, 1, 0, 0, 0, 0, 1, 0, 1, 1, 1,\n",
              "       0, 0, 0, 0, 1, 0, 1, 1, 0, 1, 1, 0, 0, 0, 1, 1, 1, 0, 1, 1])"
            ]
          },
          "execution_count": 31,
          "metadata": {},
          "output_type": "execute_result"
        }
      ],
      "source": [
        "yhat"
      ]
    },
    {
      "cell_type": "markdown",
      "id": "5d1f09ee",
      "metadata": {
        "id": "5d1f09ee"
      },
      "source": [
        "# Evaluation  \n",
        "\n",
        "Model performance evaluation starts from deriving a confusion matrix.  Performance metrics such as `precision`, `recall`, `F1`, and `accuracy` can be obtained from the confusion matrix.\n",
        "\n",
        "**Activity 9**: Get the confusion matrix."
      ]
    },
    {
      "cell_type": "code",
      "execution_count": 32,
      "id": "a3a833f8",
      "metadata": {
        "colab": {
          "base_uri": "https://localhost:8080/"
        },
        "id": "a3a833f8",
        "outputId": "09fec257-7251-45b3-aff3-0d2d16374473"
      },
      "outputs": [
        {
          "name": "stdout",
          "output_type": "stream",
          "text": [
            "[[ 35   3]\n",
            " [ 49 109]]\n"
          ]
        }
      ],
      "source": [
        "from sklearn.metrics import confusion_matrix\n",
        "\n",
        "cmat = confusion_matrix(y[test.index], yhat)\n",
        "\n",
        "\n",
        "print(cmat)"
      ]
    },
    {
      "cell_type": "markdown",
      "id": "dcf89789",
      "metadata": {
        "id": "dcf89789"
      },
      "source": [
        "For binary classification, each count is located as follows.  \n",
        "- `TP`: cmat[1, 1]  \n",
        "- `TN`: cmat[0, 0]  \n",
        "- `FP`: cmat[0, 1]  \n",
        "- `FN`: cmat[1, 0]"
      ]
    },
    {
      "cell_type": "markdown",
      "id": "e50988f2",
      "metadata": {
        "id": "e50988f2"
      },
      "source": [
        "**Activity 10**: Measure `precision`, `recall`, `F1`, and `accuracy`."
      ]
    },
    {
      "cell_type": "code",
      "execution_count": 33,
      "id": "beb65467",
      "metadata": {
        "colab": {
          "base_uri": "https://localhost:8080/"
        },
        "id": "beb65467",
        "outputId": "7b467855-4ed0-42bb-e56c-567b61d3a4ad"
      },
      "outputs": [
        {
          "name": "stdout",
          "output_type": "stream",
          "text": [
            "Precision is 0.973\n",
            "Recall is 0.69\n",
            "Accuracy is 0.735\n",
            "F1 is 0.807\n"
          ]
        }
      ],
      "source": [
        "from sklearn.metrics import precision_score, recall_score, accuracy_score, f1_score\n",
        "\n",
        "# ------ To be completed by students ------\n",
        "precision = precision_score(y[test.index], yhat)\n",
        "recall = recall_score(y[test.index], yhat)\n",
        "accuracy = accuracy_score(y[test.index], yhat)\n",
        "f1 = f1_score(y[test.index], yhat)\n",
        "# -----------------------------------------\n",
        "\n",
        "print(\"Precision is {}\".format(round(precision, 3)))\n",
        "print(\"Recall is {}\".format(round(recall, 3)))\n",
        "print(\"Accuracy is {}\".format(round(accuracy, 3)))\n",
        "print(\"F1 is {}\".format(round(f1, 3)))"
      ]
    },
    {
      "cell_type": "markdown",
      "id": "f6de44ae",
      "metadata": {
        "id": "f6de44ae"
      },
      "source": [
        "Explore the model behaviors in `ROC Curve`."
      ]
    },
    {
      "cell_type": "code",
      "execution_count": 34,
      "id": "d0033c44",
      "metadata": {
        "id": "d0033c44",
        "outputId": "b201a111-6a70-4443-cc6e-ba94c8d1ff04"
      },
      "outputs": [
        {
          "data": {
            "text/plain": [
              "<matplotlib.collections.PolyCollection at 0x1d40a518f10>"
            ]
          },
          "execution_count": 34,
          "metadata": {},
          "output_type": "execute_result"
        },
        {
          "data": {
            "image/png": "[encoded data removed]",
            "text/plain": [
              "<Figure size 640x480 with 1 Axes>"
            ]
          },
          "metadata": {},
          "output_type": "display_data"
        }
      ],
      "source": [
        "from sklearn.metrics import roc_auc_score\n",
        "\n",
        "aucroc = roc_auc_score(y_true=y[test.index], y_score=probs[:, 1])\n",
        "fpr, tpr, thresholds = roc_curve(y_true=y[test.index], y_score=probs[:, 1], pos_label=1)\n",
        "\n",
        "plt.style.use(\"default\")\n",
        "plt.plot(fpr, tpr, color=\"blue\", linewidth=2, label=\"AUCROC: {}\".format(round(aucroc, 3)))\n",
        "plt.plot([0, 1], [0, 1], color=\"gray\", linewidth=0.5)\n",
        "plt.xlim(0, 1)\n",
        "plt.ylim(0, 1)\n",
        "plt.xlabel(\"False=Positive Rate\")\n",
        "plt.ylabel(\"True-Positive Rate\")\n",
        "plt.title(\"ROC Curve\")\n",
        "plt.legend(loc=\"best\")\n",
        "plt.fill_between(fpr, tpr, color=\"azure\", alpha=0.5)\n"
      ]
    },
    {
      "cell_type": "markdown",
      "id": "92a52cc9",
      "metadata": {
        "id": "92a52cc9"
      },
      "source": [
        "# Analysis of Error  \n",
        "\n",
        "Constructing a building takes long time and consumes high costs.  Therefore, `precision` is more important than `recall` because `FP` (identify non-energy saving as energy-saving) could lead to the wrong investment.  Our analysis of error will focus on `FP` samples.  \n",
        "\n",
        "Let's add 2 columns ($P(y=1|X)$ and `yhat`) to the test dataframe"
      ]
    },
    {
      "cell_type": "code",
      "execution_count": 35,
      "id": "2de569aa",
      "metadata": {
        "colab": {
          "base_uri": "https://localhost:8080/",
          "height": 206
        },
        "id": "2de569aa",
        "outputId": "4a85747e-a5d5-4ab7-d2bb-35bb53af7e12"
      },
      "outputs": [
        {
          "data": {
            "text/html": [
              "<div>\n",
              "<style scoped>\n",
              "    .dataframe tbody tr th:only-of-type {\n",
              "        vertical-align: middle;\n",
              "    }\n",
              "\n",
              "    .dataframe tbody tr th {\n",
              "        vertical-align: top;\n",
              "    }\n",
              "\n",
              "    .dataframe thead th {\n",
              "        text-align: right;\n",
              "    }\n",
              "</style>\n",
              "<table border=\"1\" class=\"dataframe\">\n",
              "  <thead>\n",
              "    <tr style=\"text-align: right;\">\n",
              "      <th></th>\n",
              "      <th>X1</th>\n",
              "      <th>X2</th>\n",
              "      <th>X3</th>\n",
              "      <th>X4</th>\n",
              "      <th>X5</th>\n",
              "      <th>X6</th>\n",
              "      <th>X7</th>\n",
              "      <th>X8</th>\n",
              "      <th>Y1</th>\n",
              "      <th>Y2</th>\n",
              "      <th>is_energy_saving</th>\n",
              "      <th>orientation</th>\n",
              "      <th>east</th>\n",
              "      <th>north</th>\n",
              "      <th>south</th>\n",
              "      <th>west</th>\n",
              "      <th>P(y|X)</th>\n",
              "      <th>yhat</th>\n",
              "    </tr>\n",
              "  </thead>\n",
              "  <tbody>\n",
              "    <tr>\n",
              "      <th>103</th>\n",
              "      <td>0.90</td>\n",
              "      <td>563.5</td>\n",
              "      <td>318.5</td>\n",
              "      <td>122.50</td>\n",
              "      <td>7.0</td>\n",
              "      <td>5</td>\n",
              "      <td>0.10</td>\n",
              "      <td>2</td>\n",
              "      <td>27.90</td>\n",
              "      <td>34.20</td>\n",
              "      <td>1</td>\n",
              "      <td>west</td>\n",
              "      <td>0</td>\n",
              "      <td>0</td>\n",
              "      <td>0</td>\n",
              "      <td>1</td>\n",
              "      <td>0.368833</td>\n",
              "      <td>0</td>\n",
              "    </tr>\n",
              "    <tr>\n",
              "      <th>381</th>\n",
              "      <td>0.62</td>\n",
              "      <td>808.5</td>\n",
              "      <td>367.5</td>\n",
              "      <td>220.50</td>\n",
              "      <td>3.5</td>\n",
              "      <td>3</td>\n",
              "      <td>0.25</td>\n",
              "      <td>2</td>\n",
              "      <td>14.66</td>\n",
              "      <td>15.64</td>\n",
              "      <td>0</td>\n",
              "      <td>east</td>\n",
              "      <td>1</td>\n",
              "      <td>0</td>\n",
              "      <td>0</td>\n",
              "      <td>0</td>\n",
              "      <td>0.502550</td>\n",
              "      <td>0</td>\n",
              "    </tr>\n",
              "    <tr>\n",
              "      <th>432</th>\n",
              "      <td>0.98</td>\n",
              "      <td>514.5</td>\n",
              "      <td>294.0</td>\n",
              "      <td>110.25</td>\n",
              "      <td>7.0</td>\n",
              "      <td>2</td>\n",
              "      <td>0.25</td>\n",
              "      <td>4</td>\n",
              "      <td>28.70</td>\n",
              "      <td>29.61</td>\n",
              "      <td>0</td>\n",
              "      <td>north</td>\n",
              "      <td>0</td>\n",
              "      <td>1</td>\n",
              "      <td>0</td>\n",
              "      <td>0</td>\n",
              "      <td>0.386820</td>\n",
              "      <td>0</td>\n",
              "    </tr>\n",
              "    <tr>\n",
              "      <th>291</th>\n",
              "      <td>0.98</td>\n",
              "      <td>514.5</td>\n",
              "      <td>294.0</td>\n",
              "      <td>110.25</td>\n",
              "      <td>7.0</td>\n",
              "      <td>5</td>\n",
              "      <td>0.25</td>\n",
              "      <td>1</td>\n",
              "      <td>28.41</td>\n",
              "      <td>29.49</td>\n",
              "      <td>1</td>\n",
              "      <td>west</td>\n",
              "      <td>0</td>\n",
              "      <td>0</td>\n",
              "      <td>0</td>\n",
              "      <td>1</td>\n",
              "      <td>0.397911</td>\n",
              "      <td>0</td>\n",
              "    </tr>\n",
              "    <tr>\n",
              "      <th>416</th>\n",
              "      <td>0.69</td>\n",
              "      <td>735.0</td>\n",
              "      <td>294.0</td>\n",
              "      <td>220.50</td>\n",
              "      <td>3.5</td>\n",
              "      <td>2</td>\n",
              "      <td>0.25</td>\n",
              "      <td>3</td>\n",
              "      <td>12.34</td>\n",
              "      <td>14.92</td>\n",
              "      <td>1</td>\n",
              "      <td>north</td>\n",
              "      <td>0</td>\n",
              "      <td>1</td>\n",
              "      <td>0</td>\n",
              "      <td>0</td>\n",
              "      <td>0.802429</td>\n",
              "      <td>1</td>\n",
              "    </tr>\n",
              "  </tbody>\n",
              "</table>\n",
              "</div>"
            ],
            "text/plain": [
              "       X1     X2     X3      X4   X5  X6    X7  X8     Y1     Y2  \\\n",
              "103  0.90  563.5  318.5  122.50  7.0   5  0.10   2  27.90  34.20   \n",
              "381  0.62  808.5  367.5  220.50  3.5   3  0.25   2  14.66  15.64   \n",
              "432  0.98  514.5  294.0  110.25  7.0   2  0.25   4  28.70  29.61   \n",
              "291  0.98  514.5  294.0  110.25  7.0   5  0.25   1  28.41  29.49   \n",
              "416  0.69  735.0  294.0  220.50  3.5   2  0.25   3  12.34  14.92   \n",
              "\n",
              "     is_energy_saving orientation  east  north  south  west    P(y|X)  yhat  \n",
              "103                 1        west     0      0      0     1  0.368833     0  \n",
              "381                 0        east     1      0      0     0  0.502550     0  \n",
              "432                 0       north     0      1      0     0  0.386820     0  \n",
              "291                 1        west     0      0      0     1  0.397911     0  \n",
              "416                 1       north     0      1      0     0  0.802429     1  "
            ]
          },
          "execution_count": 35,
          "metadata": {},
          "output_type": "execute_result"
        }
      ],
      "source": [
        "samples = test.copy()\n",
        "samples[\"P(y|X)\"] = probs[:, 1]\n",
        "samples[\"yhat\"] = yhat\n",
        "\n",
        "samples.head()"
      ]
    },
    {
      "cell_type": "markdown",
      "id": "2c9074cc",
      "metadata": {
        "id": "2c9074cc"
      },
      "source": [
        "Perform dataframe slicing to get only `FP` samples."
      ]
    },
    {
      "cell_type": "code",
      "execution_count": 36,
      "id": "edafcd51",
      "metadata": {
        "colab": {
          "base_uri": "https://localhost:8080/",
          "height": 143
        },
        "id": "edafcd51",
        "outputId": "f414e7d6-1138-42fd-9b08-9c9ea529ac96"
      },
      "outputs": [
        {
          "data": {
            "text/html": [
              "<div>\n",
              "<style scoped>\n",
              "    .dataframe tbody tr th:only-of-type {\n",
              "        vertical-align: middle;\n",
              "    }\n",
              "\n",
              "    .dataframe tbody tr th {\n",
              "        vertical-align: top;\n",
              "    }\n",
              "\n",
              "    .dataframe thead th {\n",
              "        text-align: right;\n",
              "    }\n",
              "</style>\n",
              "<table border=\"1\" class=\"dataframe\">\n",
              "  <thead>\n",
              "    <tr style=\"text-align: right;\">\n",
              "      <th></th>\n",
              "      <th>X1</th>\n",
              "      <th>X2</th>\n",
              "      <th>X3</th>\n",
              "      <th>X4</th>\n",
              "      <th>X5</th>\n",
              "      <th>X6</th>\n",
              "      <th>X7</th>\n",
              "      <th>X8</th>\n",
              "      <th>Y1</th>\n",
              "      <th>Y2</th>\n",
              "      <th>is_energy_saving</th>\n",
              "      <th>orientation</th>\n",
              "      <th>east</th>\n",
              "      <th>north</th>\n",
              "      <th>south</th>\n",
              "      <th>west</th>\n",
              "      <th>P(y|X)</th>\n",
              "      <th>yhat</th>\n",
              "    </tr>\n",
              "  </thead>\n",
              "  <tbody>\n",
              "    <tr>\n",
              "      <th>155</th>\n",
              "      <td>0.86</td>\n",
              "      <td>588.0</td>\n",
              "      <td>294.0</td>\n",
              "      <td>147.0</td>\n",
              "      <td>7.0</td>\n",
              "      <td>5</td>\n",
              "      <td>0.1</td>\n",
              "      <td>3</td>\n",
              "      <td>26.46</td>\n",
              "      <td>27.40</td>\n",
              "      <td>0</td>\n",
              "      <td>west</td>\n",
              "      <td>0</td>\n",
              "      <td>0</td>\n",
              "      <td>0</td>\n",
              "      <td>1</td>\n",
              "      <td>0.634802</td>\n",
              "      <td>1</td>\n",
              "    </tr>\n",
              "    <tr>\n",
              "      <th>249</th>\n",
              "      <td>0.86</td>\n",
              "      <td>588.0</td>\n",
              "      <td>294.0</td>\n",
              "      <td>147.0</td>\n",
              "      <td>7.0</td>\n",
              "      <td>3</td>\n",
              "      <td>0.1</td>\n",
              "      <td>5</td>\n",
              "      <td>26.45</td>\n",
              "      <td>27.33</td>\n",
              "      <td>0</td>\n",
              "      <td>east</td>\n",
              "      <td>1</td>\n",
              "      <td>0</td>\n",
              "      <td>0</td>\n",
              "      <td>0</td>\n",
              "      <td>0.615156</td>\n",
              "      <td>1</td>\n",
              "    </tr>\n",
              "    <tr>\n",
              "      <th>271</th>\n",
              "      <td>0.71</td>\n",
              "      <td>710.5</td>\n",
              "      <td>269.5</td>\n",
              "      <td>220.5</td>\n",
              "      <td>3.5</td>\n",
              "      <td>5</td>\n",
              "      <td>0.1</td>\n",
              "      <td>5</td>\n",
              "      <td>13.69</td>\n",
              "      <td>13.89</td>\n",
              "      <td>0</td>\n",
              "      <td>west</td>\n",
              "      <td>0</td>\n",
              "      <td>0</td>\n",
              "      <td>0</td>\n",
              "      <td>1</td>\n",
              "      <td>0.870906</td>\n",
              "      <td>1</td>\n",
              "    </tr>\n",
              "  </tbody>\n",
              "</table>\n",
              "</div>"
            ],
            "text/plain": [
              "       X1     X2     X3     X4   X5  X6   X7  X8     Y1     Y2  \\\n",
              "155  0.86  588.0  294.0  147.0  7.0   5  0.1   3  26.46  27.40   \n",
              "249  0.86  588.0  294.0  147.0  7.0   3  0.1   5  26.45  27.33   \n",
              "271  0.71  710.5  269.5  220.5  3.5   5  0.1   5  13.69  13.89   \n",
              "\n",
              "     is_energy_saving orientation  east  north  south  west    P(y|X)  yhat  \n",
              "155                 0        west     0      0      0     1  0.634802     1  \n",
              "249                 0        east     1      0      0     0  0.615156     1  \n",
              "271                 0        west     0      0      0     1  0.870906     1  "
            ]
          },
          "execution_count": 36,
          "metadata": {},
          "output_type": "execute_result"
        }
      ],
      "source": [
        "fp = samples[(samples[\"is_energy_saving\"] == 0) & (samples[\"yhat\"] == 1)]\n",
        "\n",
        "fp.head()"
      ]
    },
    {
      "cell_type": "markdown",
      "id": "64cb8d0b",
      "metadata": {
        "id": "64cb8d0b"
      },
      "source": [
        "Explaining wrong prediction over these samples requires domain knowledge and probably statistics."
      ]
    },
    {
      "cell_type": "code",
      "execution_count": 37,
      "id": "9742e3fb",
      "metadata": {
        "colab": {
          "base_uri": "https://localhost:8080/"
        },
        "id": "9742e3fb",
        "outputId": "d198a219-eba6-4895-adfc-123e39c82322"
      },
      "outputs": [
        {
          "data": {
            "text/plain": [
              "count    3.000000\n",
              "mean     0.810000\n",
              "std      0.086603\n",
              "min      0.710000\n",
              "25%      0.785000\n",
              "50%      0.860000\n",
              "75%      0.860000\n",
              "max      0.860000\n",
              "Name: X1, dtype: float64"
            ]
          },
          "execution_count": 37,
          "metadata": {},
          "output_type": "execute_result"
        }
      ],
      "source": [
        "volume_to_surface_ratio = fp[\"X1\"].describe()\n",
        "volume_to_surface_ratio"
      ]
    },
    {
      "cell_type": "code",
      "execution_count": 38,
      "id": "05131085",
      "metadata": {
        "colab": {
          "base_uri": "https://localhost:8080/"
        },
        "id": "05131085",
        "outputId": "465aafb9-3fa1-4719-990c-ee4fc9c5c7ae"
      },
      "outputs": [
        {
          "data": {
            "text/plain": [
              "count      3.000000\n",
              "mean     628.833333\n",
              "std       70.725408\n",
              "min      588.000000\n",
              "25%      588.000000\n",
              "50%      588.000000\n",
              "75%      649.250000\n",
              "max      710.500000\n",
              "Name: X2, dtype: float64"
            ]
          },
          "execution_count": 38,
          "metadata": {},
          "output_type": "execute_result"
        }
      ],
      "source": [
        "surface_area = fp[\"X2\"].describe()\n",
        "surface_area"
      ]
    },
    {
      "cell_type": "code",
      "execution_count": 39,
      "id": "417418fe",
      "metadata": {
        "colab": {
          "base_uri": "https://localhost:8080/"
        },
        "id": "417418fe",
        "outputId": "4156ec6d-9531-40f9-b74f-bd01658b53c9"
      },
      "outputs": [
        {
          "data": {
            "text/plain": [
              "count      3.000000\n",
              "mean     285.833333\n",
              "std       14.145082\n",
              "min      269.500000\n",
              "25%      281.750000\n",
              "50%      294.000000\n",
              "75%      294.000000\n",
              "max      294.000000\n",
              "Name: X3, dtype: float64"
            ]
          },
          "execution_count": 39,
          "metadata": {},
          "output_type": "execute_result"
        }
      ],
      "source": [
        "wall_area = fp[\"X3\"].describe()\n",
        "wall_area"
      ]
    }
  ],
  "metadata": {
    "colab": {
      "provenance": []
    },
    "kernelspec": {
      "display_name": "base",
      "language": "python",
      "name": "python3"
    },
    "language_info": {
      "codemirror_mode": {
        "name": "ipython",
        "version": 3
      },
      "file_extension": ".py",
      "mimetype": "text/x-python",
      "name": "python",
      "nbconvert_exporter": "python",
      "pygments_lexer": "ipython3",
      "version": "3.9.12"
    }
  },
  "nbformat": 4,
  "nbformat_minor": 5
}
